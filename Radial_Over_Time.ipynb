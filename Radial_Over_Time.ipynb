{
 "cells": [
  {
   "cell_type": "code",
   "execution_count": 1,
   "id": "cdb7309f",
   "metadata": {},
   "outputs": [],
   "source": [
    "import pandas as pd\n",
    "import numpy as np\n",
    "import seaborn as sns\n",
    "import matplotlib.pyplot as plt\n",
    "import plotly.express as px\n",
    "import matplotlib.ticker as ticker\n",
    "from IPython.display import Audio\n",
    "from sklearn import datasets, linear_model\n",
    "from sklearn.decomposition import PCA\n",
    "from sklearn.preprocessing import MinMaxScaler\n",
    "from sklearn.manifold import TSNE\n",
    "\n",
    "pd.set_option('display.max_columns', 50)\n",
    "pd.set_option('display.max_colwidth', 200)"
   ]
  },
  {
   "cell_type": "code",
   "execution_count": 2,
   "id": "b0d69a72",
   "metadata": {},
   "outputs": [],
   "source": [
    "#Billboard Top 100 By Week from 1958 to 2021\n",
    "bb100 = pd.read_csv('Hot Stuff.csv')"
   ]
  },
  {
   "cell_type": "code",
   "execution_count": 3,
   "id": "0b9ca04a",
   "metadata": {},
   "outputs": [],
   "source": [
    "#First & Last 2 entries by Week/Year\n",
    "bb100['WeekID'] = pd.to_datetime(bb100['WeekID'])"
   ]
  },
  {
   "cell_type": "code",
   "execution_count": 4,
   "id": "e2db32b0",
   "metadata": {},
   "outputs": [],
   "source": [
    "#Features\n",
    "features = pd.read_excel('Hot 100 Audio Features.xlsx')"
   ]
  },
  {
   "cell_type": "code",
   "execution_count": 5,
   "id": "cd0ef641",
   "metadata": {},
   "outputs": [
    {
     "data": {
      "text/html": [
       "<div>\n",
       "<style scoped>\n",
       "    .dataframe tbody tr th:only-of-type {\n",
       "        vertical-align: middle;\n",
       "    }\n",
       "\n",
       "    .dataframe tbody tr th {\n",
       "        vertical-align: top;\n",
       "    }\n",
       "\n",
       "    .dataframe thead th {\n",
       "        text-align: right;\n",
       "    }\n",
       "</style>\n",
       "<table border=\"1\" class=\"dataframe\">\n",
       "  <thead>\n",
       "    <tr style=\"text-align: right;\">\n",
       "      <th></th>\n",
       "      <th>url</th>\n",
       "      <th>WeekID</th>\n",
       "      <th>Week Position</th>\n",
       "      <th>Song</th>\n",
       "      <th>Performer</th>\n",
       "      <th>SongID</th>\n",
       "      <th>Instance</th>\n",
       "      <th>Previous Week Position</th>\n",
       "      <th>Peak Position</th>\n",
       "      <th>Weeks on Chart</th>\n",
       "    </tr>\n",
       "  </thead>\n",
       "  <tbody>\n",
       "    <tr>\n",
       "      <th>944</th>\n",
       "      <td>http://www.billboard.com/charts/hot-100/1958-08-02</td>\n",
       "      <td>1958-08-02</td>\n",
       "      <td>1</td>\n",
       "      <td>Poor Little Fool</td>\n",
       "      <td>Ricky Nelson</td>\n",
       "      <td>Poor Little FoolRicky Nelson</td>\n",
       "      <td>1</td>\n",
       "      <td>NaN</td>\n",
       "      <td>1</td>\n",
       "      <td>1</td>\n",
       "    </tr>\n",
       "    <tr>\n",
       "      <th>22342</th>\n",
       "      <td>http://www.billboard.com/charts/hot-100/1958-08-09</td>\n",
       "      <td>1958-08-09</td>\n",
       "      <td>1</td>\n",
       "      <td>Poor Little Fool</td>\n",
       "      <td>Ricky Nelson</td>\n",
       "      <td>Poor Little FoolRicky Nelson</td>\n",
       "      <td>1</td>\n",
       "      <td>1.0</td>\n",
       "      <td>1</td>\n",
       "      <td>2</td>\n",
       "    </tr>\n",
       "    <tr>\n",
       "      <th>232960</th>\n",
       "      <td>https://www.billboard.com/charts/hot-100/2021-05-22</td>\n",
       "      <td>2021-05-22</td>\n",
       "      <td>1</td>\n",
       "      <td>Leave The Door Open</td>\n",
       "      <td>Silk Sonic (Bruno Mars &amp; Anderson .Paak)</td>\n",
       "      <td>Leave The Door OpenSilk Sonic (Bruno Mars &amp; Anderson .Paak)</td>\n",
       "      <td>1</td>\n",
       "      <td>2.0</td>\n",
       "      <td>1</td>\n",
       "      <td>10</td>\n",
       "    </tr>\n",
       "    <tr>\n",
       "      <th>3522</th>\n",
       "      <td>https://www.billboard.com/charts/hot-100/2021-05-29</td>\n",
       "      <td>2021-05-29</td>\n",
       "      <td>1</td>\n",
       "      <td>Good 4 U</td>\n",
       "      <td>Olivia Rodrigo</td>\n",
       "      <td>Good 4 UOlivia Rodrigo</td>\n",
       "      <td>1</td>\n",
       "      <td>NaN</td>\n",
       "      <td>1</td>\n",
       "      <td>1</td>\n",
       "    </tr>\n",
       "  </tbody>\n",
       "</table>\n",
       "</div>"
      ],
      "text/plain": [
       "                                                        url     WeekID  \\\n",
       "944      http://www.billboard.com/charts/hot-100/1958-08-02 1958-08-02   \n",
       "22342    http://www.billboard.com/charts/hot-100/1958-08-09 1958-08-09   \n",
       "232960  https://www.billboard.com/charts/hot-100/2021-05-22 2021-05-22   \n",
       "3522    https://www.billboard.com/charts/hot-100/2021-05-29 2021-05-29   \n",
       "\n",
       "        Week Position                 Song  \\\n",
       "944                 1     Poor Little Fool   \n",
       "22342               1     Poor Little Fool   \n",
       "232960              1  Leave The Door Open   \n",
       "3522                1             Good 4 U   \n",
       "\n",
       "                                       Performer  \\\n",
       "944                                 Ricky Nelson   \n",
       "22342                               Ricky Nelson   \n",
       "232960  Silk Sonic (Bruno Mars & Anderson .Paak)   \n",
       "3522                              Olivia Rodrigo   \n",
       "\n",
       "                                                             SongID  Instance  \\\n",
       "944                                    Poor Little FoolRicky Nelson         1   \n",
       "22342                                  Poor Little FoolRicky Nelson         1   \n",
       "232960  Leave The Door OpenSilk Sonic (Bruno Mars & Anderson .Paak)         1   \n",
       "3522                                         Good 4 UOlivia Rodrigo         1   \n",
       "\n",
       "        Previous Week Position  Peak Position  Weeks on Chart  \n",
       "944                        NaN              1               1  \n",
       "22342                      1.0              1               2  \n",
       "232960                     2.0              1              10  \n",
       "3522                       NaN              1               1  "
      ]
     },
     "execution_count": 5,
     "metadata": {},
     "output_type": "execute_result"
    }
   ],
   "source": [
    "#Billboard Top #1 By Week from 1958 to 2021\n",
    "bb1 = bb100[bb100['Week Position']==1].copy()\n",
    "bb1.sort_values(by='WeekID').iloc[np.r_[0:2, -2:0]]"
   ]
  },
  {
   "cell_type": "code",
   "execution_count": 6,
   "id": "8709b367",
   "metadata": {},
   "outputs": [
    {
     "data": {
      "text/html": [
       "<div>\n",
       "<style scoped>\n",
       "    .dataframe tbody tr th:only-of-type {\n",
       "        vertical-align: middle;\n",
       "    }\n",
       "\n",
       "    .dataframe tbody tr th {\n",
       "        vertical-align: top;\n",
       "    }\n",
       "\n",
       "    .dataframe thead th {\n",
       "        text-align: right;\n",
       "    }\n",
       "</style>\n",
       "<table border=\"1\" class=\"dataframe\">\n",
       "  <thead>\n",
       "    <tr style=\"text-align: right;\">\n",
       "      <th></th>\n",
       "      <th>url</th>\n",
       "      <th>WeekID</th>\n",
       "      <th>Week Position</th>\n",
       "      <th>Song</th>\n",
       "      <th>Performer</th>\n",
       "      <th>SongID</th>\n",
       "      <th>Instance</th>\n",
       "      <th>Previous Week Position</th>\n",
       "      <th>Peak Position</th>\n",
       "      <th>Weeks on Chart</th>\n",
       "    </tr>\n",
       "  </thead>\n",
       "  <tbody>\n",
       "    <tr>\n",
       "      <th>8543</th>\n",
       "      <td>http://www.billboard.com/charts/hot-100/1958-08-02</td>\n",
       "      <td>1958-08-02</td>\n",
       "      <td>58</td>\n",
       "      <td>Fool's Paradise</td>\n",
       "      <td>The Crickets</td>\n",
       "      <td>Fool's ParadiseThe Crickets</td>\n",
       "      <td>1</td>\n",
       "      <td>NaN</td>\n",
       "      <td>58</td>\n",
       "      <td>1</td>\n",
       "    </tr>\n",
       "    <tr>\n",
       "      <th>131373</th>\n",
       "      <td>http://www.billboard.com/charts/hot-100/1958-08-02</td>\n",
       "      <td>1958-08-02</td>\n",
       "      <td>25</td>\n",
       "      <td>What Am I Living For</td>\n",
       "      <td>Chuck Willis</td>\n",
       "      <td>What Am I Living ForChuck Willis</td>\n",
       "      <td>1</td>\n",
       "      <td>NaN</td>\n",
       "      <td>25</td>\n",
       "      <td>1</td>\n",
       "    </tr>\n",
       "    <tr>\n",
       "      <th>290099</th>\n",
       "      <td>https://www.billboard.com/charts/hot-100/2021-05-29</td>\n",
       "      <td>2021-05-29</td>\n",
       "      <td>68</td>\n",
       "      <td>Streets</td>\n",
       "      <td>Doja Cat</td>\n",
       "      <td>StreetsDoja Cat</td>\n",
       "      <td>1</td>\n",
       "      <td>58.0</td>\n",
       "      <td>16</td>\n",
       "      <td>19</td>\n",
       "    </tr>\n",
       "    <tr>\n",
       "      <th>100794</th>\n",
       "      <td>https://www.billboard.com/charts/hot-100/2021-05-29</td>\n",
       "      <td>2021-05-29</td>\n",
       "      <td>26</td>\n",
       "      <td>Beautiful Mistakes</td>\n",
       "      <td>Maroon 5 Featuring Megan Thee Stallion</td>\n",
       "      <td>Beautiful MistakesMaroon 5 Featuring Megan Thee Stallion</td>\n",
       "      <td>1</td>\n",
       "      <td>18.0</td>\n",
       "      <td>18</td>\n",
       "      <td>11</td>\n",
       "    </tr>\n",
       "  </tbody>\n",
       "</table>\n",
       "</div>"
      ],
      "text/plain": [
       "                                                        url     WeekID  \\\n",
       "8543     http://www.billboard.com/charts/hot-100/1958-08-02 1958-08-02   \n",
       "131373   http://www.billboard.com/charts/hot-100/1958-08-02 1958-08-02   \n",
       "290099  https://www.billboard.com/charts/hot-100/2021-05-29 2021-05-29   \n",
       "100794  https://www.billboard.com/charts/hot-100/2021-05-29 2021-05-29   \n",
       "\n",
       "        Week Position                  Song  \\\n",
       "8543               58       Fool's Paradise   \n",
       "131373             25  What Am I Living For   \n",
       "290099             68               Streets   \n",
       "100794             26    Beautiful Mistakes   \n",
       "\n",
       "                                     Performer  \\\n",
       "8543                              The Crickets   \n",
       "131373                            Chuck Willis   \n",
       "290099                                Doja Cat   \n",
       "100794  Maroon 5 Featuring Megan Thee Stallion   \n",
       "\n",
       "                                                          SongID  Instance  \\\n",
       "8543                                 Fool's ParadiseThe Crickets         1   \n",
       "131373                          What Am I Living ForChuck Willis         1   \n",
       "290099                                           StreetsDoja Cat         1   \n",
       "100794  Beautiful MistakesMaroon 5 Featuring Megan Thee Stallion         1   \n",
       "\n",
       "        Previous Week Position  Peak Position  Weeks on Chart  \n",
       "8543                       NaN             58               1  \n",
       "131373                     NaN             25               1  \n",
       "290099                    58.0             16              19  \n",
       "100794                    18.0             18              11  "
      ]
     },
     "execution_count": 6,
     "metadata": {},
     "output_type": "execute_result"
    }
   ],
   "source": [
    "#Billboard Remaining #99 By Week from 1958 to 2021\n",
    "bb99 = bb100[bb100['Week Position']!=1].copy()\n",
    "bb99.sort_values(by='WeekID').iloc[np.r_[0:2, -2:0]]"
   ]
  },
  {
   "cell_type": "code",
   "execution_count": 11,
   "id": "5cc6b303",
   "metadata": {},
   "outputs": [
    {
     "data": {
      "text/plain": [
       "324616"
      ]
     },
     "execution_count": 11,
     "metadata": {},
     "output_type": "execute_result"
    }
   ],
   "source": [
    "#Check:\n",
    "len(bb99)"
   ]
  },
  {
   "cell_type": "code",
   "execution_count": 14,
   "id": "2fc1f31d",
   "metadata": {},
   "outputs": [
    {
     "name": "stdout",
     "output_type": "stream",
     "text": [
      "2\n"
     ]
    },
    {
     "data": {
      "text/html": [
       "<div>\n",
       "<style scoped>\n",
       "    .dataframe tbody tr th:only-of-type {\n",
       "        vertical-align: middle;\n",
       "    }\n",
       "\n",
       "    .dataframe tbody tr th {\n",
       "        vertical-align: top;\n",
       "    }\n",
       "\n",
       "    .dataframe thead th {\n",
       "        text-align: right;\n",
       "    }\n",
       "</style>\n",
       "<table border=\"1\" class=\"dataframe\">\n",
       "  <thead>\n",
       "    <tr style=\"text-align: right;\">\n",
       "      <th></th>\n",
       "      <th>url</th>\n",
       "      <th>WeekID</th>\n",
       "      <th>Week Position</th>\n",
       "      <th>Song</th>\n",
       "      <th>Performer</th>\n",
       "      <th>SongID</th>\n",
       "      <th>Instance</th>\n",
       "      <th>Previous Week Position</th>\n",
       "      <th>Peak Position</th>\n",
       "      <th>Weeks on Chart</th>\n",
       "    </tr>\n",
       "  </thead>\n",
       "  <tbody>\n",
       "    <tr>\n",
       "      <th>82475</th>\n",
       "      <td>https://www.billboard.com/charts/hot-100/2021-02-27</td>\n",
       "      <td>2021-02-27</td>\n",
       "      <td>13</td>\n",
       "      <td>Therefore I Am</td>\n",
       "      <td>Billie Eilish</td>\n",
       "      <td>Therefore I AmBillie Eilish</td>\n",
       "      <td>1</td>\n",
       "      <td>15.0</td>\n",
       "      <td>2</td>\n",
       "      <td>15</td>\n",
       "    </tr>\n",
       "    <tr>\n",
       "      <th>104780</th>\n",
       "      <td>http://www.billboard.com/charts/hot-100/2005-07-16</td>\n",
       "      <td>2005-07-16</td>\n",
       "      <td>5</td>\n",
       "      <td>Inside Your Heaven</td>\n",
       "      <td>Bo Bice</td>\n",
       "      <td>Inside Your HeavenBo Bice</td>\n",
       "      <td>1</td>\n",
       "      <td>2.0</td>\n",
       "      <td>2</td>\n",
       "      <td>2</td>\n",
       "    </tr>\n",
       "    <tr>\n",
       "      <th>104311</th>\n",
       "      <td>http://www.billboard.com/charts/hot-100/1961-02-18</td>\n",
       "      <td>1961-02-18</td>\n",
       "      <td>100</td>\n",
       "      <td>Dream Boy</td>\n",
       "      <td>Annette With The Afterbeats</td>\n",
       "      <td>Dream BoyAnnette With The Afterbeats</td>\n",
       "      <td>1</td>\n",
       "      <td>NaN</td>\n",
       "      <td>100</td>\n",
       "      <td>1</td>\n",
       "    </tr>\n",
       "    <tr>\n",
       "      <th>22000</th>\n",
       "      <td>http://www.billboard.com/charts/hot-100/1964-06-20</td>\n",
       "      <td>1964-06-20</td>\n",
       "      <td>100</td>\n",
       "      <td>Steal Away</td>\n",
       "      <td>Jimmy Hughes</td>\n",
       "      <td>Steal AwayJimmy Hughes</td>\n",
       "      <td>1</td>\n",
       "      <td>NaN</td>\n",
       "      <td>100</td>\n",
       "      <td>1</td>\n",
       "    </tr>\n",
       "  </tbody>\n",
       "</table>\n",
       "</div>"
      ],
      "text/plain": [
       "                                                        url     WeekID  \\\n",
       "82475   https://www.billboard.com/charts/hot-100/2021-02-27 2021-02-27   \n",
       "104780   http://www.billboard.com/charts/hot-100/2005-07-16 2005-07-16   \n",
       "104311   http://www.billboard.com/charts/hot-100/1961-02-18 1961-02-18   \n",
       "22000    http://www.billboard.com/charts/hot-100/1964-06-20 1964-06-20   \n",
       "\n",
       "        Week Position                Song                    Performer  \\\n",
       "82475              13      Therefore I Am                Billie Eilish   \n",
       "104780              5  Inside Your Heaven                      Bo Bice   \n",
       "104311            100           Dream Boy  Annette With The Afterbeats   \n",
       "22000             100          Steal Away                 Jimmy Hughes   \n",
       "\n",
       "                                      SongID  Instance  \\\n",
       "82475            Therefore I AmBillie Eilish         1   \n",
       "104780             Inside Your HeavenBo Bice         1   \n",
       "104311  Dream BoyAnnette With The Afterbeats         1   \n",
       "22000                 Steal AwayJimmy Hughes         1   \n",
       "\n",
       "        Previous Week Position  Peak Position  Weeks on Chart  \n",
       "82475                     15.0              2              15  \n",
       "104780                     2.0              2               2  \n",
       "104311                     NaN            100               1  \n",
       "22000                      NaN            100               1  "
      ]
     },
     "execution_count": 14,
     "metadata": {},
     "output_type": "execute_result"
    }
   ],
   "source": [
    "#Remove those songs in bottom 99 that at some point were #1: \n",
    "bb99 = bb99[bb99['Peak Position']!=1].copy()\n",
    "print(bb99['Peak Position'].min())\n",
    "bb99.sort_values(by='Peak Position').iloc[np.r_[0:2, -2:0]]"
   ]
  },
  {
   "cell_type": "code",
   "execution_count": 15,
   "id": "0eff9f66",
   "metadata": {},
   "outputs": [
    {
     "data": {
      "text/plain": [
       "311409"
      ]
     },
     "execution_count": 15,
     "metadata": {},
     "output_type": "execute_result"
    }
   ],
   "source": [
    "#Check:\n",
    "len(bb99)"
   ]
  },
  {
   "cell_type": "code",
   "execution_count": null,
   "id": "bdf2152f",
   "metadata": {},
   "outputs": [],
   "source": []
  },
  {
   "cell_type": "code",
   "execution_count": 48,
   "id": "ed8a5843",
   "metadata": {},
   "outputs": [
    {
     "data": {
      "text/plain": [
       "danceability          0.646389\n",
       "energy                0.606016\n",
       "speechiness           0.072325\n",
       "acousticness          0.279380\n",
       "instrumentalness      0.028337\n",
       "liveness              0.170337\n",
       "valence               0.614919\n",
       "tempo               118.113831\n",
       "dtype: float64"
      ]
     },
     "execution_count": 48,
     "metadata": {},
     "output_type": "execute_result"
    }
   ],
   "source": [
    "bb1_features = pd.merge(bb1, features, on='SongID', how='left')\n",
    "keep = ['danceability', 'energy', 'speechiness', 'acousticness', \n",
    "        'instrumentalness', 'liveness', 'valence', 'tempo']\n",
    "bb1_features[keep].mean()"
   ]
  },
  {
   "cell_type": "code",
   "execution_count": 21,
   "id": "04ab432e",
   "metadata": {},
   "outputs": [
    {
     "data": {
      "text/plain": [
       "danceability          0.611545\n",
       "energy                0.631634\n",
       "speechiness           0.071513\n",
       "acousticness          0.260643\n",
       "instrumentalness      0.028311\n",
       "liveness              0.186207\n",
       "valence               0.599366\n",
       "tempo               120.130304\n",
       "dtype: float64"
      ]
     },
     "execution_count": 21,
     "metadata": {},
     "output_type": "execute_result"
    }
   ],
   "source": [
    "bb99_features = pd.merge(bb99, features, on='SongID', how='left')\n",
    "keep = ['danceability', 'energy', 'speechiness', 'acousticness', \n",
    "        'instrumentalness', 'liveness', 'valence', 'tempo']\n",
    "bb99_features[keep].mean()"
   ]
  },
  {
   "cell_type": "code",
   "execution_count": 35,
   "id": "874681b8",
   "metadata": {},
   "outputs": [],
   "source": [
    "# Libraries\n",
    "import matplotlib.pyplot as plt\n",
    "import pandas as pd\n",
    "from math import pi\n",
    " \n",
    "# Set data\n",
    "df = pd.DataFrame({\n",
    "'Group': ['1s','99s'],\n",
    "'Danceability': [0.646, 0.611],\n",
    "'Energy': [0.606, 0.631],\n",
    "'Speechiness': [0.0723, 0.071],\n",
    "'Acousticness': [0.279, 0.260],\n",
    "'Instrumentalness': [0.028, 0.028],\n",
    "'Liveness': [0.170, 0.186],\n",
    "'Valence':[0.614, 0.599],\n",
    "})"
   ]
  },
  {
   "cell_type": "code",
   "execution_count": 36,
   "id": "0312a443",
   "metadata": {},
   "outputs": [
    {
     "data": {
      "text/html": [
       "<div>\n",
       "<style scoped>\n",
       "    .dataframe tbody tr th:only-of-type {\n",
       "        vertical-align: middle;\n",
       "    }\n",
       "\n",
       "    .dataframe tbody tr th {\n",
       "        vertical-align: top;\n",
       "    }\n",
       "\n",
       "    .dataframe thead th {\n",
       "        text-align: right;\n",
       "    }\n",
       "</style>\n",
       "<table border=\"1\" class=\"dataframe\">\n",
       "  <thead>\n",
       "    <tr style=\"text-align: right;\">\n",
       "      <th></th>\n",
       "      <th>Group</th>\n",
       "      <th>Danceability</th>\n",
       "      <th>Energy</th>\n",
       "      <th>Speechiness</th>\n",
       "      <th>Acousticness</th>\n",
       "      <th>Instrumentalness</th>\n",
       "      <th>Liveness</th>\n",
       "      <th>Valence</th>\n",
       "    </tr>\n",
       "  </thead>\n",
       "  <tbody>\n",
       "    <tr>\n",
       "      <th>0</th>\n",
       "      <td>1s</td>\n",
       "      <td>0.646</td>\n",
       "      <td>0.606</td>\n",
       "      <td>0.0723</td>\n",
       "      <td>0.279</td>\n",
       "      <td>0.028</td>\n",
       "      <td>0.170</td>\n",
       "      <td>0.614</td>\n",
       "    </tr>\n",
       "    <tr>\n",
       "      <th>1</th>\n",
       "      <td>99s</td>\n",
       "      <td>0.611</td>\n",
       "      <td>0.631</td>\n",
       "      <td>0.0710</td>\n",
       "      <td>0.260</td>\n",
       "      <td>0.028</td>\n",
       "      <td>0.186</td>\n",
       "      <td>0.599</td>\n",
       "    </tr>\n",
       "  </tbody>\n",
       "</table>\n",
       "</div>"
      ],
      "text/plain": [
       "  Group  Danceability  Energy  Speechiness  Acousticness  Instrumentalness  \\\n",
       "0    1s         0.646   0.606       0.0723         0.279             0.028   \n",
       "1   99s         0.611   0.631       0.0710         0.260             0.028   \n",
       "\n",
       "   Liveness  Valence  \n",
       "0     0.170    0.614  \n",
       "1     0.186    0.599  "
      ]
     },
     "execution_count": 36,
     "metadata": {},
     "output_type": "execute_result"
    }
   ],
   "source": [
    "df"
   ]
  },
  {
   "cell_type": "code",
   "execution_count": 37,
   "id": "1f0fb210",
   "metadata": {},
   "outputs": [
    {
     "data": {
      "text/plain": [
       "(0.0, 40.0)"
      ]
     },
     "execution_count": 37,
     "metadata": {},
     "output_type": "execute_result"
    },
    {
     "data": {
      "image/png": "[encoded data removed]",
      "text/plain": [
       "<Figure size 432x288 with 1 Axes>"
      ]
     },
     "metadata": {},
     "output_type": "display_data"
    }
   ],
   "source": [
    "# number of variable\n",
    "categories=list(df)[1:]\n",
    "N = len(categories)\n",
    " \n",
    "# What will be the angle of each axis in the plot? (we divide the plot / number of variable)\n",
    "angles = [n / float(N) * 2 * pi for n in range(N)]\n",
    "angles += angles[:1]\n",
    " \n",
    "# Initialise the spider plot\n",
    "ax = plt.subplot(111, polar=True)\n",
    " \n",
    "# If you want the first axis to be on top:\n",
    "ax.set_theta_offset(pi / 2)\n",
    "ax.set_theta_direction(-1)\n",
    " \n",
    "# Draw one axe per variable + add labels\n",
    "plt.xticks(angles[:-1], categories)\n",
    " \n",
    "# Draw ylabels\n",
    "ax.set_rlabel_position(0)\n",
    "plt.yticks([10,20,30], [\"10\",\"20\",\"30\"], color=\"grey\", size=7)\n",
    "plt.ylim(0,40)"
   ]
  },
  {
   "cell_type": "code",
   "execution_count": 46,
   "id": "16ecd493",
   "metadata": {},
   "outputs": [
    {
     "data": {
      "image/png": "[encoded data removed]",
      "text/plain": [
       "<Figure size 432x288 with 1 Axes>"
      ]
     },
     "metadata": {},
     "output_type": "display_data"
    }
   ],
   "source": [
    "# number of variable\n",
    "categories=list(df)[1:]\n",
    "N = len(categories)\n",
    " \n",
    "# What will be the angle of each axis in the plot? (we divide the plot / number of variable)\n",
    "angles = [n / float(N) * 2 * pi for n in range(N)]\n",
    "angles += angles[:1]\n",
    " \n",
    "# Initialise the spider plot\n",
    "ax = plt.subplot(111, polar=True)\n",
    " \n",
    "# If you want the first axis to be on top:\n",
    "ax.set_theta_offset(pi / 2)\n",
    "ax.set_theta_direction(-1)\n",
    " \n",
    "# Draw one axe per variable + add labels\n",
    "plt.xticks(angles[:-1], categories)\n",
    " \n",
    "# Draw ylabels\n",
    "ax.set_rlabel_position(0)\n",
    "plt.yticks([0.2,0.4,0.6], [\"0.2\",\"0.4\",\"0.6\"], color=\"grey\", size=7)\n",
    "plt.ylim(0,0.7)\n",
    "\n",
    "# Plot each individual = each line of the data\n",
    "# I don't make a loop, because plotting more than 3 groups makes the chart unreadable\n",
    " \n",
    "# Ind1\n",
    "values=df.loc[0].drop('Group').values.flatten().tolist()\n",
    "values += values[:1]\n",
    "ax.plot(angles, values, linewidth=1, linestyle='solid', label=\"#1s\")\n",
    "ax.fill(angles, values, 'b', alpha=0.1)\n",
    " \n",
    "# Ind2\n",
    "values=df.loc[1].drop('Group').values.flatten().tolist()\n",
    "values += values[:1]\n",
    "ax.plot(angles, values, linewidth=1, linestyle='solid', label=\"The Rest\")\n",
    "ax.fill(angles, values, 'r', alpha=0.1)\n",
    " \n",
    "# Add legend\n",
    "plt.legend(loc='lower left', bbox_to_anchor=(0.88, 0.075))\n",
    "\n",
    "# Show the graph\n",
    "plt.show()"
   ]
  },
  {
   "cell_type": "code",
   "execution_count": null,
   "id": "d381bfc5",
   "metadata": {},
   "outputs": [],
   "source": []
  },
  {
   "cell_type": "code",
   "execution_count": 84,
   "id": "a27174f7",
   "metadata": {},
   "outputs": [],
   "source": [
    "#Getting Data From The 60's, 70's, 80's, 90's, 00's, 10's\n",
    "bb60s = bb100[(bb100['WeekID'] >= '1960-1-1') & (bb100['WeekID'] < '1970-1-1')]\n",
    "bb70s = bb100[(bb100['WeekID'] >= '1970-1-1') & (bb100['WeekID'] < '1980-1-1')]\n",
    "bb80s = bb100[(bb100['WeekID'] >= '1980-1-1') & (bb100['WeekID'] < '1990-1-1')]\n",
    "bb90s = bb100[(bb100['WeekID'] >= '1990-1-1') & (bb100['WeekID'] < '2000-1-1')]\n",
    "bb2000s = bb100[(bb100['WeekID'] >= '2000-1-1') & (bb100['WeekID'] < '2010-1-1')]\n",
    "bb2010s = bb100[(bb100['WeekID'] >= '2010-1-1') & (bb100['WeekID'] < '2020-1-1')]\n",
    "bb2020s = bb100[(bb100['WeekID'] >= '2020-1-1') & (bb100['WeekID'] < '2022-1-1')]"
   ]
  },
  {
   "cell_type": "code",
   "execution_count": 50,
   "id": "7a66297c",
   "metadata": {},
   "outputs": [
    {
     "data": {
      "text/plain": [
       "danceability          0.534563\n",
       "energy                0.515995\n",
       "speechiness           0.049199\n",
       "acousticness          0.524225\n",
       "instrumentalness      0.056394\n",
       "liveness              0.215586\n",
       "valence               0.667754\n",
       "tempo               119.687649\n",
       "dtype: float64"
      ]
     },
     "execution_count": 50,
     "metadata": {},
     "output_type": "execute_result"
    }
   ],
   "source": [
    "bb60s_features = pd.merge(bb60s, features, on='SongID', how='left')\n",
    "keep = ['danceability', 'energy', 'speechiness', 'acousticness', \n",
    "        'instrumentalness', 'liveness', 'valence', 'tempo']\n",
    "bb60s_features[keep].mean()"
   ]
  },
  {
   "cell_type": "code",
   "execution_count": 51,
   "id": "8436952a",
   "metadata": {},
   "outputs": [
    {
     "data": {
      "text/plain": [
       "danceability          0.578622\n",
       "energy                0.581086\n",
       "speechiness           0.052244\n",
       "acousticness          0.336621\n",
       "instrumentalness      0.046150\n",
       "liveness              0.188122\n",
       "valence               0.665430\n",
       "tempo               119.353487\n",
       "dtype: float64"
      ]
     },
     "execution_count": 51,
     "metadata": {},
     "output_type": "execute_result"
    }
   ],
   "source": [
    "bb70s_features = pd.merge(bb70s, features, on='SongID', how='left')\n",
    "keep = ['danceability', 'energy', 'speechiness', 'acousticness', \n",
    "        'instrumentalness', 'liveness', 'valence', 'tempo']\n",
    "bb70s_features[keep].mean()"
   ]
  },
  {
   "cell_type": "code",
   "execution_count": 61,
   "id": "b4625bc8",
   "metadata": {},
   "outputs": [
    {
     "data": {
      "text/plain": [
       "danceability          0.629781\n",
       "energy                0.649123\n",
       "speechiness           0.046358\n",
       "acousticness          0.208785\n",
       "instrumentalness      0.026678\n",
       "liveness              0.177853\n",
       "valence               0.655414\n",
       "tempo               121.080617\n",
       "dtype: float64"
      ]
     },
     "execution_count": 61,
     "metadata": {},
     "output_type": "execute_result"
    }
   ],
   "source": [
    "bb80s_features = pd.merge(bb80s, features, on='SongID', how='left')\n",
    "keep = ['danceability', 'energy', 'speechiness', 'acousticness', \n",
    "        'instrumentalness', 'liveness', 'valence', 'tempo']\n",
    "bb80s_features[keep].mean()"
   ]
  },
  {
   "cell_type": "code",
   "execution_count": 67,
   "id": "f5b55057",
   "metadata": {},
   "outputs": [
    {
     "data": {
      "text/plain": [
       "danceability          0.650911\n",
       "energy                0.646782\n",
       "speechiness           0.074395\n",
       "acousticness          0.176666\n",
       "instrumentalness      0.029460\n",
       "liveness              0.177769\n",
       "valence               0.576200\n",
       "tempo               117.513200\n",
       "dtype: float64"
      ]
     },
     "execution_count": 67,
     "metadata": {},
     "output_type": "execute_result"
    }
   ],
   "source": [
    "bb90s_features = pd.merge(bb90s, features, on='SongID', how='left')\n",
    "keep = ['danceability', 'energy', 'speechiness', 'acousticness', \n",
    "        'instrumentalness', 'liveness', 'valence', 'tempo']\n",
    "bb90s_features[keep].mean()"
   ]
  },
  {
   "cell_type": "code",
   "execution_count": 72,
   "id": "febe0405",
   "metadata": {},
   "outputs": [
    {
     "data": {
      "text/plain": [
       "danceability          0.632925\n",
       "energy                0.709780\n",
       "speechiness           0.097080\n",
       "acousticness          0.148563\n",
       "instrumentalness      0.007860\n",
       "liveness              0.179232\n",
       "valence               0.556140\n",
       "tempo               120.086203\n",
       "dtype: float64"
      ]
     },
     "execution_count": 72,
     "metadata": {},
     "output_type": "execute_result"
    }
   ],
   "source": [
    "bb2000s_features = pd.merge(bb2000s, features, on='SongID', how='left')\n",
    "keep = ['danceability', 'energy', 'speechiness', 'acousticness', \n",
    "        'instrumentalness', 'liveness', 'valence', 'tempo']\n",
    "bb2000s_features[keep].mean()"
   ]
  },
  {
   "cell_type": "code",
   "execution_count": 77,
   "id": "d9d46340",
   "metadata": {},
   "outputs": [
    {
     "data": {
      "text/plain": [
       "danceability          0.647745\n",
       "energy                0.679556\n",
       "speechiness           0.100735\n",
       "acousticness          0.162962\n",
       "instrumentalness      0.007084\n",
       "liveness              0.176312\n",
       "valence               0.502580\n",
       "tempo               122.386642\n",
       "dtype: float64"
      ]
     },
     "execution_count": 77,
     "metadata": {},
     "output_type": "execute_result"
    }
   ],
   "source": [
    "bb2010s_features = pd.merge(bb2010s, features, on='SongID', how='left')\n",
    "keep = ['danceability', 'energy', 'speechiness', 'acousticness', \n",
    "        'instrumentalness', 'liveness', 'valence', 'tempo']\n",
    "bb2010s_features[keep].mean()"
   ]
  },
  {
   "cell_type": "code",
   "execution_count": 85,
   "id": "a1769c7d",
   "metadata": {},
   "outputs": [
    {
     "data": {
      "text/plain": [
       "danceability          0.661142\n",
       "energy                0.619501\n",
       "speechiness           0.107855\n",
       "acousticness          0.248985\n",
       "instrumentalness      0.003990\n",
       "liveness              0.171407\n",
       "valence               0.500475\n",
       "tempo               120.884929\n",
       "dtype: float64"
      ]
     },
     "execution_count": 85,
     "metadata": {},
     "output_type": "execute_result"
    }
   ],
   "source": [
    "bb2020s_features = pd.merge(bb2020s, features, on='SongID', how='left')\n",
    "keep = ['danceability', 'energy', 'speechiness', 'acousticness', \n",
    "        'instrumentalness', 'liveness', 'valence', 'tempo']\n",
    "bb2020s_features[keep].mean()"
   ]
  },
  {
   "cell_type": "code",
   "execution_count": null,
   "id": "272528f4",
   "metadata": {},
   "outputs": [],
   "source": []
  },
  {
   "cell_type": "code",
   "execution_count": 86,
   "id": "b247a700",
   "metadata": {},
   "outputs": [],
   "source": [
    "# Set data\n",
    "df = pd.DataFrame({\n",
    "'Group': ['60s','70s','80s','90s','00s','10s', '20s'],\n",
    "'Danceability': [0.534, 0.578, 0.629, 0.651, 0.633, 0.647, 0.661],\n",
    "'Energy': [0.515, 0.581, 0.649, 0.646, 0.710, 0.679, 0.619],\n",
    "'Speechiness': [0.049, 0.052, 0.046, 0.074, 0.097, 0.100, 0.107],\n",
    "'Acousticness': [0.524, 0.336, 0.208, 0.176, 0.149, 0.162, 0.248],\n",
    "'Instrumentalness': [0.056, 0.046, 0.026, 0.029, 0.008, 0.007, 0.004],\n",
    "'Liveness': [0.215, 0.188, 0.177, 0.177, 0.179, 0.176, 0.171],\n",
    "'Valence':[0.667, 0.665, 0.655, 0.576, 0.556, 0.502, 0.500],\n",
    "})"
   ]
  },
  {
   "cell_type": "code",
   "execution_count": 87,
   "id": "830bad2a",
   "metadata": {},
   "outputs": [
    {
     "data": {
      "text/html": [
       "<div>\n",
       "<style scoped>\n",
       "    .dataframe tbody tr th:only-of-type {\n",
       "        vertical-align: middle;\n",
       "    }\n",
       "\n",
       "    .dataframe tbody tr th {\n",
       "        vertical-align: top;\n",
       "    }\n",
       "\n",
       "    .dataframe thead th {\n",
       "        text-align: right;\n",
       "    }\n",
       "</style>\n",
       "<table border=\"1\" class=\"dataframe\">\n",
       "  <thead>\n",
       "    <tr style=\"text-align: right;\">\n",
       "      <th></th>\n",
       "      <th>Group</th>\n",
       "      <th>Danceability</th>\n",
       "      <th>Energy</th>\n",
       "      <th>Speechiness</th>\n",
       "      <th>Acousticness</th>\n",
       "      <th>Instrumentalness</th>\n",
       "      <th>Liveness</th>\n",
       "      <th>Valence</th>\n",
       "    </tr>\n",
       "  </thead>\n",
       "  <tbody>\n",
       "    <tr>\n",
       "      <th>0</th>\n",
       "      <td>60s</td>\n",
       "      <td>0.534</td>\n",
       "      <td>0.515</td>\n",
       "      <td>0.049</td>\n",
       "      <td>0.524</td>\n",
       "      <td>0.056</td>\n",
       "      <td>0.215</td>\n",
       "      <td>0.667</td>\n",
       "    </tr>\n",
       "    <tr>\n",
       "      <th>1</th>\n",
       "      <td>70s</td>\n",
       "      <td>0.578</td>\n",
       "      <td>0.581</td>\n",
       "      <td>0.052</td>\n",
       "      <td>0.336</td>\n",
       "      <td>0.046</td>\n",
       "      <td>0.188</td>\n",
       "      <td>0.665</td>\n",
       "    </tr>\n",
       "    <tr>\n",
       "      <th>2</th>\n",
       "      <td>80s</td>\n",
       "      <td>0.629</td>\n",
       "      <td>0.649</td>\n",
       "      <td>0.046</td>\n",
       "      <td>0.208</td>\n",
       "      <td>0.026</td>\n",
       "      <td>0.177</td>\n",
       "      <td>0.655</td>\n",
       "    </tr>\n",
       "    <tr>\n",
       "      <th>3</th>\n",
       "      <td>90s</td>\n",
       "      <td>0.651</td>\n",
       "      <td>0.646</td>\n",
       "      <td>0.074</td>\n",
       "      <td>0.176</td>\n",
       "      <td>0.029</td>\n",
       "      <td>0.177</td>\n",
       "      <td>0.576</td>\n",
       "    </tr>\n",
       "    <tr>\n",
       "      <th>4</th>\n",
       "      <td>00s</td>\n",
       "      <td>0.633</td>\n",
       "      <td>0.710</td>\n",
       "      <td>0.097</td>\n",
       "      <td>0.149</td>\n",
       "      <td>0.008</td>\n",
       "      <td>0.179</td>\n",
       "      <td>0.556</td>\n",
       "    </tr>\n",
       "    <tr>\n",
       "      <th>5</th>\n",
       "      <td>10s</td>\n",
       "      <td>0.647</td>\n",
       "      <td>0.679</td>\n",
       "      <td>0.100</td>\n",
       "      <td>0.162</td>\n",
       "      <td>0.007</td>\n",
       "      <td>0.176</td>\n",
       "      <td>0.502</td>\n",
       "    </tr>\n",
       "    <tr>\n",
       "      <th>6</th>\n",
       "      <td>20s</td>\n",
       "      <td>0.661</td>\n",
       "      <td>0.619</td>\n",
       "      <td>0.107</td>\n",
       "      <td>0.248</td>\n",
       "      <td>0.004</td>\n",
       "      <td>0.171</td>\n",
       "      <td>0.500</td>\n",
       "    </tr>\n",
       "  </tbody>\n",
       "</table>\n",
       "</div>"
      ],
      "text/plain": [
       "  Group  Danceability  Energy  Speechiness  Acousticness  Instrumentalness  \\\n",
       "0   60s         0.534   0.515        0.049         0.524             0.056   \n",
       "1   70s         0.578   0.581        0.052         0.336             0.046   \n",
       "2   80s         0.629   0.649        0.046         0.208             0.026   \n",
       "3   90s         0.651   0.646        0.074         0.176             0.029   \n",
       "4   00s         0.633   0.710        0.097         0.149             0.008   \n",
       "5   10s         0.647   0.679        0.100         0.162             0.007   \n",
       "6   20s         0.661   0.619        0.107         0.248             0.004   \n",
       "\n",
       "   Liveness  Valence  \n",
       "0     0.215    0.667  \n",
       "1     0.188    0.665  \n",
       "2     0.177    0.655  \n",
       "3     0.177    0.576  \n",
       "4     0.179    0.556  \n",
       "5     0.176    0.502  \n",
       "6     0.171    0.500  "
      ]
     },
     "execution_count": 87,
     "metadata": {},
     "output_type": "execute_result"
    }
   ],
   "source": [
    "df"
   ]
  },
  {
   "cell_type": "code",
   "execution_count": 88,
   "id": "e252b1b7",
   "metadata": {},
   "outputs": [
    {
     "data": {
      "image/png": "[encoded data removed]",
      "text/plain": [
       "<Figure size 432x288 with 1 Axes>"
      ]
     },
     "metadata": {
      "needs_background": "light"
     },
     "output_type": "display_data"
    }
   ],
   "source": [
    "df.plot();"
   ]
  },
  {
   "cell_type": "code",
   "execution_count": 92,
   "id": "1721f87a",
   "metadata": {},
   "outputs": [
    {
     "data": {
      "image/png": "[encoded data removed]",
      "text/plain": [
       "<Figure size 432x288 with 1 Axes>"
      ]
     },
     "metadata": {},
     "output_type": "display_data"
    }
   ],
   "source": [
    "# number of variable\n",
    "categories=list(df)[1:]\n",
    "N = len(categories)\n",
    " \n",
    "# What will be the angle of each axis in the plot? (we divide the plot / number of variable)\n",
    "angles = [n / float(N) * 2 * pi for n in range(N)]\n",
    "angles += angles[:1]\n",
    " \n",
    "# Initialise the spider plot\n",
    "ax = plt.subplot(111, polar=True)\n",
    " \n",
    "# If you want the first axis to be on top:\n",
    "ax.set_theta_offset(pi / 2)\n",
    "ax.set_theta_direction(-1)\n",
    " \n",
    "# Draw one axe per variable + add labels\n",
    "plt.xticks(angles[:-1], categories)\n",
    " \n",
    "# Draw ylabels\n",
    "ax.set_rlabel_position(0)\n",
    "plt.yticks([0.2,0.4,0.6], [\"0.2\",\"0.4\",\"0.6\"], color=\"grey\", size=7)\n",
    "plt.ylim(0,0.7)\n",
    "\n",
    "# Plot each individual = each line of the data\n",
    "# I don't make a loop, because plotting more than 3 groups makes the chart unreadable\n",
    " \n",
    "# Ind1\n",
    "values=df.loc[0].drop('Group').values.flatten().tolist()\n",
    "values += values[:1]\n",
    "ax.plot(angles, values, linewidth=1, linestyle='solid', label=\"60s\")\n",
    "ax.fill(angles, values, 'b', alpha=0.1)\n",
    " \n",
    "# Ind2\n",
    "values=df.loc[6].drop('Group').values.flatten().tolist()\n",
    "values += values[:1]\n",
    "ax.plot(angles, values, linewidth=1, linestyle='solid', label=\"20s\")\n",
    "ax.fill(angles, values, 'r', alpha=0.1)\n",
    " \n",
    "# Add legend\n",
    "plt.legend(loc='lower left', bbox_to_anchor=(0.88, 0.075))\n",
    "\n",
    "# Show the graph\n",
    "plt.show()"
   ]
  },
  {
   "cell_type": "code",
   "execution_count": null,
   "id": "a4d0ed08",
   "metadata": {},
   "outputs": [],
   "source": []
  },
  {
   "cell_type": "code",
   "execution_count": null,
   "id": "e12cae12",
   "metadata": {},
   "outputs": [],
   "source": []
  },
  {
   "cell_type": "code",
   "execution_count": null,
   "id": "cb79bbf1",
   "metadata": {},
   "outputs": [],
   "source": []
  }
 ],
 "metadata": {
  "hide_input": false,
  "kernelspec": {
   "display_name": "Python 3 (ipykernel)",
   "language": "python",
   "name": "python3"
  },
  "language_info": {
   "codemirror_mode": {
    "name": "ipython",
    "version": 3
   },
   "file_extension": ".py",
   "mimetype": "text/x-python",
   "name": "python",
   "nbconvert_exporter": "python",
   "pygments_lexer": "ipython3",
   "version": "3.8.8"
  },
  "varInspector": {
   "cols": {
    "lenName": 16,
    "lenType": 16,
    "lenVar": 40
   },
   "kernels_config": {
    "python": {
     "delete_cmd_postfix": "",
     "delete_cmd_prefix": "del ",
     "library": "var_list.py",
     "varRefreshCmd": "print(var_dic_list())"
    },
    "r": {
     "delete_cmd_postfix": ") ",
     "delete_cmd_prefix": "rm(",
     "library": "var_list.r",
     "varRefreshCmd": "cat(var_dic_list()) "
    }
   },
   "types_to_exclude": [
    "module",
    "function",
    "builtin_function_or_method",
    "instance",
    "_Feature"
   ],
   "window_display": false
  }
 },
 "nbformat": 4,
 "nbformat_minor": 5
}
