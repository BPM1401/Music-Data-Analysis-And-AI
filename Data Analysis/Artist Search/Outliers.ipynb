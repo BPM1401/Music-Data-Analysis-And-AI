{
 "cells": [
  {
   "cell_type": "code",
   "execution_count": 1,
   "id": "6d2b68e9",
   "metadata": {
    "slideshow": {
     "slide_type": "skip"
    }
   },
   "outputs": [],
   "source": [
    "import pandas as pd\n",
    "import numpy as np\n",
    "import seaborn as sns\n",
    "import matplotlib.pyplot as plt\n",
    "import plotly.express as px\n",
    "import matplotlib.ticker as ticker\n",
    "from IPython.display import Audio\n",
    "from sklearn import datasets, linear_model\n",
    "from sklearn.decomposition import PCA\n",
    "from sklearn.preprocessing import MinMaxScaler\n",
    "from sklearn.manifold import TSNE\n",
    "\n",
    "pd.set_option('display.max_columns', 50)\n",
    "pd.set_option('display.max_colwidth', 200)"
   ]
  },
  {
   "cell_type": "code",
   "execution_count": 2,
   "id": "201b538a",
   "metadata": {
    "slideshow": {
     "slide_type": "skip"
    }
   },
   "outputs": [],
   "source": [
    "#Billboard Top 100 By Week from 1958 to 2021\n",
    "bb100 = pd.read_csv('Hot Stuff.csv')"
   ]
  },
  {
   "cell_type": "code",
   "execution_count": 3,
   "id": "b34edbaf",
   "metadata": {
    "slideshow": {
     "slide_type": "skip"
    }
   },
   "outputs": [
    {
     "data": {
      "text/plain": [
       "url                        3279\n",
       "WeekID                     3279\n",
       "Week Position               100\n",
       "Song                      24360\n",
       "Performer                 10061\n",
       "SongID                    29389\n",
       "Instance                     10\n",
       "Previous Week Position      100\n",
       "Peak Position               100\n",
       "Weeks on Chart               87\n",
       "dtype: int64"
      ]
     },
     "execution_count": 3,
     "metadata": {},
     "output_type": "execute_result"
    }
   ],
   "source": [
    "bb100.apply(pd.Series.nunique)"
   ]
  },
  {
   "cell_type": "code",
   "execution_count": 4,
   "id": "cf88f238",
   "metadata": {
    "slideshow": {
     "slide_type": "skip"
    }
   },
   "outputs": [
    {
     "data": {
      "text/plain": [
       "3279"
      ]
     },
     "execution_count": 4,
     "metadata": {},
     "output_type": "execute_result"
    }
   ],
   "source": [
    "#Number of Weeks in the Billboard Top 100 Dataset from 1958 to 2021\n",
    "bb100.apply(pd.Series.nunique)[0]"
   ]
  },
  {
   "cell_type": "code",
   "execution_count": 5,
   "id": "9efd4f5a",
   "metadata": {
    "slideshow": {
     "slide_type": "skip"
    }
   },
   "outputs": [],
   "source": [
    "#Features\n",
    "features = pd.read_excel('Hot 100 Audio Features.xlsx')"
   ]
  },
  {
   "cell_type": "code",
   "execution_count": 6,
   "id": "38d67ecf",
   "metadata": {
    "slideshow": {
     "slide_type": "skip"
    }
   },
   "outputs": [],
   "source": [
    "#First & Last 2 entries by Week/Year\n",
    "bb100['WeekID'] = pd.to_datetime(bb100['WeekID'])"
   ]
  },
  {
   "cell_type": "code",
   "execution_count": 7,
   "id": "850cfbf3",
   "metadata": {
    "slideshow": {
     "slide_type": "skip"
    }
   },
   "outputs": [
    {
     "data": {
      "text/html": [
       "<div>\n",
       "<style scoped>\n",
       "    .dataframe tbody tr th:only-of-type {\n",
       "        vertical-align: middle;\n",
       "    }\n",
       "\n",
       "    .dataframe tbody tr th {\n",
       "        vertical-align: top;\n",
       "    }\n",
       "\n",
       "    .dataframe thead th {\n",
       "        text-align: right;\n",
       "    }\n",
       "</style>\n",
       "<table border=\"1\" class=\"dataframe\">\n",
       "  <thead>\n",
       "    <tr style=\"text-align: right;\">\n",
       "      <th></th>\n",
       "      <th>url</th>\n",
       "      <th>WeekID</th>\n",
       "      <th>Week Position</th>\n",
       "      <th>Song</th>\n",
       "      <th>Performer</th>\n",
       "      <th>SongID</th>\n",
       "      <th>Instance</th>\n",
       "      <th>Previous Week Position</th>\n",
       "      <th>Peak Position</th>\n",
       "      <th>Weeks on Chart</th>\n",
       "    </tr>\n",
       "  </thead>\n",
       "  <tbody>\n",
       "    <tr>\n",
       "      <th>944</th>\n",
       "      <td>http://www.billboard.com/charts/hot-100/1958-08-02</td>\n",
       "      <td>1958-08-02</td>\n",
       "      <td>1</td>\n",
       "      <td>Poor Little Fool</td>\n",
       "      <td>Ricky Nelson</td>\n",
       "      <td>Poor Little FoolRicky Nelson</td>\n",
       "      <td>1</td>\n",
       "      <td>NaN</td>\n",
       "      <td>1</td>\n",
       "      <td>1</td>\n",
       "    </tr>\n",
       "    <tr>\n",
       "      <th>22342</th>\n",
       "      <td>http://www.billboard.com/charts/hot-100/1958-08-09</td>\n",
       "      <td>1958-08-09</td>\n",
       "      <td>1</td>\n",
       "      <td>Poor Little Fool</td>\n",
       "      <td>Ricky Nelson</td>\n",
       "      <td>Poor Little FoolRicky Nelson</td>\n",
       "      <td>1</td>\n",
       "      <td>1.0</td>\n",
       "      <td>1</td>\n",
       "      <td>2</td>\n",
       "    </tr>\n",
       "    <tr>\n",
       "      <th>232960</th>\n",
       "      <td>https://www.billboard.com/charts/hot-100/2021-05-22</td>\n",
       "      <td>2021-05-22</td>\n",
       "      <td>1</td>\n",
       "      <td>Leave The Door Open</td>\n",
       "      <td>Silk Sonic (Bruno Mars &amp; Anderson .Paak)</td>\n",
       "      <td>Leave The Door OpenSilk Sonic (Bruno Mars &amp; Anderson .Paak)</td>\n",
       "      <td>1</td>\n",
       "      <td>2.0</td>\n",
       "      <td>1</td>\n",
       "      <td>10</td>\n",
       "    </tr>\n",
       "    <tr>\n",
       "      <th>3522</th>\n",
       "      <td>https://www.billboard.com/charts/hot-100/2021-05-29</td>\n",
       "      <td>2021-05-29</td>\n",
       "      <td>1</td>\n",
       "      <td>Good 4 U</td>\n",
       "      <td>Olivia Rodrigo</td>\n",
       "      <td>Good 4 UOlivia Rodrigo</td>\n",
       "      <td>1</td>\n",
       "      <td>NaN</td>\n",
       "      <td>1</td>\n",
       "      <td>1</td>\n",
       "    </tr>\n",
       "  </tbody>\n",
       "</table>\n",
       "</div>"
      ],
      "text/plain": [
       "                                                        url     WeekID  \\\n",
       "944      http://www.billboard.com/charts/hot-100/1958-08-02 1958-08-02   \n",
       "22342    http://www.billboard.com/charts/hot-100/1958-08-09 1958-08-09   \n",
       "232960  https://www.billboard.com/charts/hot-100/2021-05-22 2021-05-22   \n",
       "3522    https://www.billboard.com/charts/hot-100/2021-05-29 2021-05-29   \n",
       "\n",
       "        Week Position                 Song  \\\n",
       "944                 1     Poor Little Fool   \n",
       "22342               1     Poor Little Fool   \n",
       "232960              1  Leave The Door Open   \n",
       "3522                1             Good 4 U   \n",
       "\n",
       "                                       Performer  \\\n",
       "944                                 Ricky Nelson   \n",
       "22342                               Ricky Nelson   \n",
       "232960  Silk Sonic (Bruno Mars & Anderson .Paak)   \n",
       "3522                              Olivia Rodrigo   \n",
       "\n",
       "                                                             SongID  Instance  \\\n",
       "944                                    Poor Little FoolRicky Nelson         1   \n",
       "22342                                  Poor Little FoolRicky Nelson         1   \n",
       "232960  Leave The Door OpenSilk Sonic (Bruno Mars & Anderson .Paak)         1   \n",
       "3522                                         Good 4 UOlivia Rodrigo         1   \n",
       "\n",
       "        Previous Week Position  Peak Position  Weeks on Chart  \n",
       "944                        NaN              1               1  \n",
       "22342                      1.0              1               2  \n",
       "232960                     2.0              1              10  \n",
       "3522                       NaN              1               1  "
      ]
     },
     "execution_count": 7,
     "metadata": {},
     "output_type": "execute_result"
    }
   ],
   "source": [
    "#Billboard Top #1 By Week from 1958 to 2021\n",
    "bb1 = bb100[bb100['Week Position']==1].copy()\n",
    "bb1.sort_values(by='WeekID').iloc[np.r_[0:2, -2:0]]"
   ]
  },
  {
   "cell_type": "code",
   "execution_count": 8,
   "id": "bbc1ba4b",
   "metadata": {},
   "outputs": [],
   "source": [
    "bb1['Song'].replace({'Candle In The Wind 1997/Something About The Way You Look Tonight':'Candle In The Wind'}, inplace=True)\n",
    "bb1['Song'].replace({'Macarena (Bayside Boys Mix)':'Macarena'}, inplace=True)\n",
    "bb1['Song'].replace({'End Of The Road (From \"Boomerang\")':'End Of The Road'}, inplace=True)"
   ]
  },
  {
   "cell_type": "code",
   "execution_count": null,
   "id": "8cb58b36",
   "metadata": {},
   "outputs": [],
   "source": []
  },
  {
   "cell_type": "code",
   "execution_count": 9,
   "id": "422aa628",
   "metadata": {
    "slideshow": {
     "slide_type": "slide"
    }
   },
   "outputs": [
    {
     "data": {
      "text/plain": [
       "SongID    End Of The Road (From \"Boomerang\")Boyz II Men\n",
       "Count                                                13\n",
       "Name: 10, dtype: object"
      ]
     },
     "execution_count": 9,
     "metadata": {},
     "output_type": "execute_result"
    }
   ],
   "source": [
    "bb1_counter = bb1['SongID'].value_counts().rename('Count').to_frame().reset_index()\n",
    "bb1_counter = bb1_counter.rename(columns = {'index':'SongID'})\n",
    "bb1_counter = bb1_counter.iloc[0:15]\n",
    "bb1_counter.iloc[10]"
   ]
  },
  {
   "cell_type": "code",
   "execution_count": 10,
   "id": "d9b170d4",
   "metadata": {},
   "outputs": [
    {
     "data": {
      "image/png": "[encoded data removed]",
      "text/plain": [
       "<Figure size 576x720 with 1 Axes>"
      ]
     },
     "metadata": {
      "needs_background": "light"
     },
     "output_type": "display_data"
    }
   ],
   "source": [
    "#sns.countplot(y='SongID', data=bb1)\n",
    "plt.figure(figsize=(8,10))\n",
    "plt.title('Billboard Top Songs', fontsize=24)\n",
    "sns.countplot(y='Song', data=bb1, order=pd.value_counts(bb1['Song']).iloc[:15].index, color='limegreen')\n",
    "plt.xlabel('Weeks At #1', fontsize=18)\n",
    "plt.ylabel('Song Title', fontsize=18)\n",
    "plt.yticks(fontsize=14)\n",
    "plt.xticks(np.arange(0,21,1))\n",
    "plt.gca().get_yticklabels()[0].set_color(\"red\")\n",
    "plt.savefig('Top1s.png', bbox_inches='tight', pad_inches=2);"
   ]
  },
  {
   "cell_type": "code",
   "execution_count": null,
   "id": "093778f4",
   "metadata": {},
   "outputs": [],
   "source": [
    "bb1_counters = bb1['SongID'].value_counts().rename('Count').to_frame().reset_index()\n",
    "bb1_counters = bb1_counters.rename(columns = {'index':'SongID'})\n",
    "bb1_counters"
   ]
  },
  {
   "cell_type": "code",
   "execution_count": null,
   "id": "5870a39b",
   "metadata": {
    "slideshow": {
     "slide_type": "subslide"
    }
   },
   "outputs": [],
   "source": [
    "sns.displot(x=bb1_counters['Count'], bins=21, height=7, aspect=1.7)\n",
    "plt.xlabel('Total Weeks', fontsize=15)\n",
    "plt.ylabel('Number Of Songs', fontsize=15)\n",
    "plt.title('Holding Onto #1 Spot', fontsize=20)\n",
    "plt.xticks(np.arange(0,20,1))\n",
    "plt.savefig('SongsOne.png', bbox_inches='tight', pad_inches=2);"
   ]
  },
  {
   "cell_type": "code",
   "execution_count": null,
   "id": "419b4646",
   "metadata": {
    "slideshow": {
     "slide_type": "slide"
    }
   },
   "outputs": [],
   "source": [
    "sns.boxplot(x=bb1_counter['Count'], width=0.8)\n",
    "plt.xlabel('Total Weeks', fontsize=15)\n",
    "plt.title('Number Of Weeks in #1 Spot', fontsize=20)\n",
    "plt.xticks(np.arange(0,20,1))\n",
    "sns.set(rc={'figure.figsize':(14,6)});"
   ]
  },
  {
   "cell_type": "code",
   "execution_count": null,
   "id": "b353c4c8",
   "metadata": {
    "slideshow": {
     "slide_type": "fragment"
    }
   },
   "outputs": [],
   "source": [
    "#Cross check values of boxplot via describe()\n",
    "bb1_counter.describe()"
   ]
  },
  {
   "cell_type": "code",
   "execution_count": null,
   "id": "b08fc325",
   "metadata": {},
   "outputs": [],
   "source": [
    "#Cross check shape of dataframe vs 'count', total count vs url weeks\n",
    "print(bb1_counter.shape)\n",
    "print(bb1_counter.Count.sum())"
   ]
  },
  {
   "cell_type": "code",
   "execution_count": null,
   "id": "8b6c61aa",
   "metadata": {},
   "outputs": [],
   "source": [
    "#Any song which has been ranked #1 for more than 8 weeks is an OUTLIER\n",
    "#Which ones are they? \n",
    "\n",
    "Outliers = bb1_counter[bb1_counter['Count']>8].copy()\n",
    "Outliers.describe()"
   ]
  },
  {
   "cell_type": "code",
   "execution_count": null,
   "id": "c3bfe58d",
   "metadata": {},
   "outputs": [],
   "source": [
    "Outliers"
   ]
  },
  {
   "cell_type": "code",
   "execution_count": null,
   "id": "ef8a7746",
   "metadata": {},
   "outputs": [],
   "source": [
    "outlier_features = pd.merge(Outliers, features, on='SongID', how='left')\n",
    "outlier_features"
   ]
  },
  {
   "cell_type": "code",
   "execution_count": null,
   "id": "ce122700",
   "metadata": {},
   "outputs": [],
   "source": [
    "#Sum the Null Values by Column: \n",
    "outlier_features.isnull().sum()"
   ]
  },
  {
   "cell_type": "code",
   "execution_count": null,
   "id": "8483d6c8",
   "metadata": {},
   "outputs": [],
   "source": []
  },
  {
   "cell_type": "code",
   "execution_count": null,
   "id": "05b05584",
   "metadata": {},
   "outputs": [],
   "source": [
    "#Get 'Old Town Road' preview URL:\n",
    "OTR = outlier_features['spotify_track_preview_url'].iloc[0]\n",
    "OTR"
   ]
  },
  {
   "cell_type": "code",
   "execution_count": null,
   "id": "62001d79",
   "metadata": {},
   "outputs": [],
   "source": [
    "#Download URL and save as MP3 file: \n",
    "import urllib.request\n",
    "url = OTR\n",
    "filename = 'Old_Town_Road.mp3'\n",
    "urllib.request.urlretrieve(url, filename)"
   ]
  },
  {
   "cell_type": "code",
   "execution_count": null,
   "id": "d8185253",
   "metadata": {},
   "outputs": [],
   "source": [
    "#Play MP3 file: \n",
    "from IPython.display import Audio\n",
    "Audio('Old_Town_Road.mp3')"
   ]
  },
  {
   "cell_type": "code",
   "execution_count": null,
   "id": "2b0b5d9d",
   "metadata": {},
   "outputs": [],
   "source": []
  },
  {
   "cell_type": "code",
   "execution_count": null,
   "id": "393390d7",
   "metadata": {},
   "outputs": [],
   "source": []
  },
  {
   "cell_type": "code",
   "execution_count": null,
   "id": "c97c62e4",
   "metadata": {},
   "outputs": [],
   "source": []
  },
  {
   "cell_type": "code",
   "execution_count": null,
   "id": "be4f0730",
   "metadata": {},
   "outputs": [],
   "source": []
  },
  {
   "cell_type": "code",
   "execution_count": null,
   "id": "e93009d0",
   "metadata": {},
   "outputs": [],
   "source": [
    "outlier_comp_features = outlier_features[['SongID','danceability', 'energy', 'speechiness', 'acousticness', 'instrumentalness', 'liveness', 'valence', 'tempo']]\n",
    "outlier_comp_features = outlier_comp_features.iloc[1: , :]\n",
    "outlier_comp_features"
   ]
  },
  {
   "cell_type": "code",
   "execution_count": null,
   "id": "cd11ff57",
   "metadata": {},
   "outputs": [],
   "source": [
    "outlier_comp_features[['danceability', 'energy', 'speechiness', 'acousticness', 'instrumentalness', 'liveness', 'valence', 'tempo']].mean()"
   ]
  },
  {
   "cell_type": "code",
   "execution_count": null,
   "id": "42af1c35",
   "metadata": {},
   "outputs": [],
   "source": []
  },
  {
   "cell_type": "code",
   "execution_count": null,
   "id": "080db579",
   "metadata": {},
   "outputs": [],
   "source": []
  },
  {
   "cell_type": "code",
   "execution_count": null,
   "id": "38c70040",
   "metadata": {},
   "outputs": [],
   "source": [
    "#Billboard Bottom '99' By Week from 1958 to 2021\n",
    "\n",
    "bb99 = bb100[bb100['Week Position']!=1].copy()\n",
    "bb99.sort_values(by='WeekID').iloc[np.r_[0:2, -2:0]]"
   ]
  },
  {
   "cell_type": "code",
   "execution_count": null,
   "id": "14599f23",
   "metadata": {},
   "outputs": [],
   "source": [
    "bb99 = bb99[bb99['Peak Position']!=1].copy()\n",
    "print(bb99['Peak Position'].min())\n",
    "bb99.sort_values(by='Peak Position')"
   ]
  },
  {
   "cell_type": "code",
   "execution_count": null,
   "id": "ae0441f4",
   "metadata": {},
   "outputs": [],
   "source": [
    "bb99 = bb99['SongID'].value_counts().to_frame().reset_index()\n",
    "bb99 = bb99.rename(columns = {'index':'SongID', 'SongID':'Frequency'})\n",
    "bb99"
   ]
  },
  {
   "cell_type": "code",
   "execution_count": null,
   "id": "1d7bf48e",
   "metadata": {},
   "outputs": [],
   "source": [
    "features_99 = pd.merge(bb99, features, on='SongID', how='left')\n",
    "features_99"
   ]
  },
  {
   "cell_type": "code",
   "execution_count": null,
   "id": "ae9d361f",
   "metadata": {},
   "outputs": [],
   "source": [
    "features_99[['danceability', 'energy', 'speechiness', 'acousticness', 'instrumentalness', 'liveness', 'valence', 'tempo']].mean()"
   ]
  },
  {
   "cell_type": "code",
   "execution_count": null,
   "id": "02dd620f",
   "metadata": {},
   "outputs": [],
   "source": [
    "outlier_comp_features[['danceability', 'energy', 'speechiness', 'acousticness', 'instrumentalness', 'liveness', 'valence', 'tempo']].mean()"
   ]
  },
  {
   "cell_type": "code",
   "execution_count": null,
   "id": "9c663535",
   "metadata": {},
   "outputs": [],
   "source": [
    "#One option is to do Radar Plot between outliers vs rest. Is there a significant difference??\n",
    "#Is this worth it? Is there much difference? Can it tell a story? Unclear. "
   ]
  },
  {
   "cell_type": "code",
   "execution_count": null,
   "id": "b9ec63aa",
   "metadata": {},
   "outputs": [],
   "source": []
  },
  {
   "cell_type": "code",
   "execution_count": null,
   "id": "27035e49",
   "metadata": {},
   "outputs": [],
   "source": []
  },
  {
   "cell_type": "code",
   "execution_count": null,
   "id": "782d861e",
   "metadata": {},
   "outputs": [],
   "source": [
    "#extract the upper and lower quantiles\n",
    "lq = bb1_counter['Count'].quantile(0.25)\n",
    "uq = bb1_counter['Count'].quantile(0.75)\n",
    "iqr = uq - lq\n",
    "upper_bound = uq + 1.5*iqr\n",
    "\n",
    "print(lq)\n",
    "print(uq)\n",
    "print(iqr)\n",
    "print(upper_bound)\n",
    "\n",
    "#extract values outside these bounds \n",
    "#Pokemon_IQR_outliers = pokemon[(pokemon.HP <= lower_bound) | (pokemon.HP >= upper_bound)]\n",
    "#Pokemon_IQR_outliers"
   ]
  },
  {
   "cell_type": "code",
   "execution_count": null,
   "id": "bb5812df",
   "metadata": {},
   "outputs": [],
   "source": []
  },
  {
   "cell_type": "code",
   "execution_count": null,
   "id": "9a739f52",
   "metadata": {},
   "outputs": [],
   "source": [
    "#ECDF to keep in mind for future use:\n",
    "sns.displot(bb1_counter, x='Count', kind='ecdf');"
   ]
  },
  {
   "cell_type": "code",
   "execution_count": null,
   "id": "e4201f90",
   "metadata": {},
   "outputs": [],
   "source": []
  }
 ],
 "metadata": {
  "hide_input": false,
  "kernelspec": {
   "display_name": "Python 3 (ipykernel)",
   "language": "python",
   "name": "python3"
  },
  "language_info": {
   "codemirror_mode": {
    "name": "ipython",
    "version": 3
   },
   "file_extension": ".py",
   "mimetype": "text/x-python",
   "name": "python",
   "nbconvert_exporter": "python",
   "pygments_lexer": "ipython3",
   "version": "3.8.8"
  },
  "varInspector": {
   "cols": {
    "lenName": 16,
    "lenType": 16,
    "lenVar": 40
   },
   "kernels_config": {
    "python": {
     "delete_cmd_postfix": "",
     "delete_cmd_prefix": "del ",
     "library": "var_list.py",
     "varRefreshCmd": "print(var_dic_list())"
    },
    "r": {
     "delete_cmd_postfix": ") ",
     "delete_cmd_prefix": "rm(",
     "library": "var_list.r",
     "varRefreshCmd": "cat(var_dic_list()) "
    }
   },
   "types_to_exclude": [
    "module",
    "function",
    "builtin_function_or_method",
    "instance",
    "_Feature"
   ],
   "window_display": false
  }
 },
 "nbformat": 4,
 "nbformat_minor": 5
}
