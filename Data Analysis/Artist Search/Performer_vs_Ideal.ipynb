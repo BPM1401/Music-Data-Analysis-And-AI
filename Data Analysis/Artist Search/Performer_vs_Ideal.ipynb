{
 "cells": [
  {
   "cell_type": "code",
   "execution_count": 1,
   "id": "9539fcd0",
   "metadata": {},
   "outputs": [],
   "source": [
    "import pandas as pd\n",
    "import numpy as np\n",
    "import seaborn as sns\n",
    "import matplotlib.pyplot as plt\n",
    "import plotly.express as px\n",
    "import matplotlib.ticker as ticker\n",
    "from IPython.display import Audio\n",
    "from sklearn import datasets, linear_model\n",
    "from sklearn.decomposition import PCA\n",
    "from sklearn.preprocessing import MinMaxScaler\n",
    "from sklearn.manifold import TSNE\n",
    "\n",
    "pd.set_option('display.max_columns', 50)\n",
    "pd.set_option('display.max_colwidth', 200)"
   ]
  },
  {
   "cell_type": "code",
   "execution_count": 2,
   "id": "a705608d",
   "metadata": {},
   "outputs": [],
   "source": [
    "#Billboard Top 100 By Week from 1958 to 2021\n",
    "bb100 = pd.read_csv('Hot Stuff.csv')"
   ]
  },
  {
   "cell_type": "code",
   "execution_count": 3,
   "id": "eb32819c",
   "metadata": {},
   "outputs": [],
   "source": [
    "#First & Last 2 entries by Week/Year\n",
    "bb100['WeekID'] = pd.to_datetime(bb100['WeekID'])"
   ]
  },
  {
   "cell_type": "code",
   "execution_count": 4,
   "id": "a67d0f84",
   "metadata": {},
   "outputs": [],
   "source": [
    "#Features\n",
    "features = pd.read_excel('Hot 100 Audio Features.xlsx')"
   ]
  },
  {
   "cell_type": "code",
   "execution_count": 5,
   "id": "f1bf0a48",
   "metadata": {},
   "outputs": [],
   "source": [
    "#Selecting key features for both dataframes:\n",
    "\n",
    "bb100_keep = ['WeekID','SongID', 'Performer']\n",
    "\n",
    "feat_keep = ['SongID','danceability', 'energy', 'speechiness', 'acousticness', \n",
    "             'instrumentalness', 'liveness', 'valence']"
   ]
  },
  {
   "cell_type": "code",
   "execution_count": 6,
   "id": "c2ef84d0",
   "metadata": {},
   "outputs": [],
   "source": [
    "bb100_feat = pd.merge(bb100[bb100_keep], features[feat_keep], on='SongID', how='left')"
   ]
  },
  {
   "cell_type": "code",
   "execution_count": 7,
   "id": "7a18bc02",
   "metadata": {},
   "outputs": [
    {
     "data": {
      "text/html": [
       "<div>\n",
       "<style scoped>\n",
       "    .dataframe tbody tr th:only-of-type {\n",
       "        vertical-align: middle;\n",
       "    }\n",
       "\n",
       "    .dataframe tbody tr th {\n",
       "        vertical-align: top;\n",
       "    }\n",
       "\n",
       "    .dataframe thead th {\n",
       "        text-align: right;\n",
       "    }\n",
       "</style>\n",
       "<table border=\"1\" class=\"dataframe\">\n",
       "  <thead>\n",
       "    <tr style=\"text-align: right;\">\n",
       "      <th></th>\n",
       "      <th>danceability</th>\n",
       "      <th>energy</th>\n",
       "      <th>speechiness</th>\n",
       "      <th>acousticness</th>\n",
       "      <th>instrumentalness</th>\n",
       "      <th>liveness</th>\n",
       "      <th>valence</th>\n",
       "    </tr>\n",
       "    <tr>\n",
       "      <th>Performer</th>\n",
       "      <th></th>\n",
       "      <th></th>\n",
       "      <th></th>\n",
       "      <th></th>\n",
       "      <th></th>\n",
       "      <th></th>\n",
       "      <th></th>\n",
       "    </tr>\n",
       "  </thead>\n",
       "  <tbody>\n",
       "    <tr>\n",
       "      <th>\"Groove\" Holmes</th>\n",
       "      <td>0.553000</td>\n",
       "      <td>0.487000</td>\n",
       "      <td>0.032400</td>\n",
       "      <td>0.783000</td>\n",
       "      <td>0.876000</td>\n",
       "      <td>0.292000</td>\n",
       "      <td>0.524000</td>\n",
       "    </tr>\n",
       "    <tr>\n",
       "      <th>\"Little\" Jimmy Dickens</th>\n",
       "      <td>0.660000</td>\n",
       "      <td>0.801000</td>\n",
       "      <td>0.115000</td>\n",
       "      <td>0.738000</td>\n",
       "      <td>0.000010</td>\n",
       "      <td>0.627000</td>\n",
       "      <td>0.867000</td>\n",
       "    </tr>\n",
       "    <tr>\n",
       "      <th>\"Pookie\" Hudson</th>\n",
       "      <td>NaN</td>\n",
       "      <td>NaN</td>\n",
       "      <td>NaN</td>\n",
       "      <td>NaN</td>\n",
       "      <td>NaN</td>\n",
       "      <td>NaN</td>\n",
       "      <td>NaN</td>\n",
       "    </tr>\n",
       "    <tr>\n",
       "      <th>\"Weird Al\" Yankovic</th>\n",
       "      <td>0.731308</td>\n",
       "      <td>0.669165</td>\n",
       "      <td>0.087407</td>\n",
       "      <td>0.132022</td>\n",
       "      <td>0.000216</td>\n",
       "      <td>0.140924</td>\n",
       "      <td>0.776681</td>\n",
       "    </tr>\n",
       "    <tr>\n",
       "      <th>'N Sync</th>\n",
       "      <td>NaN</td>\n",
       "      <td>NaN</td>\n",
       "      <td>NaN</td>\n",
       "      <td>NaN</td>\n",
       "      <td>NaN</td>\n",
       "      <td>NaN</td>\n",
       "      <td>NaN</td>\n",
       "    </tr>\n",
       "    <tr>\n",
       "      <th>...</th>\n",
       "      <td>...</td>\n",
       "      <td>...</td>\n",
       "      <td>...</td>\n",
       "      <td>...</td>\n",
       "      <td>...</td>\n",
       "      <td>...</td>\n",
       "      <td>...</td>\n",
       "    </tr>\n",
       "    <tr>\n",
       "      <th>will.i.am &amp; Nicki Minaj</th>\n",
       "      <td>0.854000</td>\n",
       "      <td>0.667000</td>\n",
       "      <td>0.059800</td>\n",
       "      <td>0.070500</td>\n",
       "      <td>0.000008</td>\n",
       "      <td>0.119000</td>\n",
       "      <td>0.686000</td>\n",
       "    </tr>\n",
       "    <tr>\n",
       "      <th>will.i.am Featuring Justin Bieber</th>\n",
       "      <td>0.797000</td>\n",
       "      <td>0.608000</td>\n",
       "      <td>0.058300</td>\n",
       "      <td>0.001120</td>\n",
       "      <td>0.000077</td>\n",
       "      <td>0.074800</td>\n",
       "      <td>0.403000</td>\n",
       "    </tr>\n",
       "    <tr>\n",
       "      <th>will.i.am Featuring Mick Jagger &amp; Jennifer Lopez</th>\n",
       "      <td>0.586000</td>\n",
       "      <td>0.712000</td>\n",
       "      <td>0.096900</td>\n",
       "      <td>0.104000</td>\n",
       "      <td>0.000006</td>\n",
       "      <td>0.037700</td>\n",
       "      <td>0.450000</td>\n",
       "    </tr>\n",
       "    <tr>\n",
       "      <th>will.i.am Featuring Miley Cyrus</th>\n",
       "      <td>0.619000</td>\n",
       "      <td>0.621000</td>\n",
       "      <td>0.035700</td>\n",
       "      <td>0.009940</td>\n",
       "      <td>0.003320</td>\n",
       "      <td>0.121000</td>\n",
       "      <td>0.338000</td>\n",
       "    </tr>\n",
       "    <tr>\n",
       "      <th>will.i.am Featuring Miley Cyrus, French Montana, Wiz Khalifa &amp; DJ Mustard</th>\n",
       "      <td>0.859000</td>\n",
       "      <td>0.533000</td>\n",
       "      <td>0.156000</td>\n",
       "      <td>0.029300</td>\n",
       "      <td>0.000000</td>\n",
       "      <td>0.138000</td>\n",
       "      <td>0.514000</td>\n",
       "    </tr>\n",
       "  </tbody>\n",
       "</table>\n",
       "<p>10061 rows × 7 columns</p>\n",
       "</div>"
      ],
      "text/plain": [
       "                                                                           danceability  \\\n",
       "Performer                                                                                 \n",
       "\"Groove\" Holmes                                                                0.553000   \n",
       "\"Little\" Jimmy Dickens                                                         0.660000   \n",
       "\"Pookie\" Hudson                                                                     NaN   \n",
       "\"Weird Al\" Yankovic                                                            0.731308   \n",
       "'N Sync                                                                             NaN   \n",
       "...                                                                                 ...   \n",
       "will.i.am & Nicki Minaj                                                        0.854000   \n",
       "will.i.am Featuring Justin Bieber                                              0.797000   \n",
       "will.i.am Featuring Mick Jagger & Jennifer Lopez                               0.586000   \n",
       "will.i.am Featuring Miley Cyrus                                                0.619000   \n",
       "will.i.am Featuring Miley Cyrus, French Montana, Wiz Khalifa & DJ Mustard      0.859000   \n",
       "\n",
       "                                                                             energy  \\\n",
       "Performer                                                                             \n",
       "\"Groove\" Holmes                                                            0.487000   \n",
       "\"Little\" Jimmy Dickens                                                     0.801000   \n",
       "\"Pookie\" Hudson                                                                 NaN   \n",
       "\"Weird Al\" Yankovic                                                        0.669165   \n",
       "'N Sync                                                                         NaN   \n",
       "...                                                                             ...   \n",
       "will.i.am & Nicki Minaj                                                    0.667000   \n",
       "will.i.am Featuring Justin Bieber                                          0.608000   \n",
       "will.i.am Featuring Mick Jagger & Jennifer Lopez                           0.712000   \n",
       "will.i.am Featuring Miley Cyrus                                            0.621000   \n",
       "will.i.am Featuring Miley Cyrus, French Montana, Wiz Khalifa & DJ Mustard  0.533000   \n",
       "\n",
       "                                                                           speechiness  \\\n",
       "Performer                                                                                \n",
       "\"Groove\" Holmes                                                               0.032400   \n",
       "\"Little\" Jimmy Dickens                                                        0.115000   \n",
       "\"Pookie\" Hudson                                                                    NaN   \n",
       "\"Weird Al\" Yankovic                                                           0.087407   \n",
       "'N Sync                                                                            NaN   \n",
       "...                                                                                ...   \n",
       "will.i.am & Nicki Minaj                                                       0.059800   \n",
       "will.i.am Featuring Justin Bieber                                             0.058300   \n",
       "will.i.am Featuring Mick Jagger & Jennifer Lopez                              0.096900   \n",
       "will.i.am Featuring Miley Cyrus                                               0.035700   \n",
       "will.i.am Featuring Miley Cyrus, French Montana, Wiz Khalifa & DJ Mustard     0.156000   \n",
       "\n",
       "                                                                           acousticness  \\\n",
       "Performer                                                                                 \n",
       "\"Groove\" Holmes                                                                0.783000   \n",
       "\"Little\" Jimmy Dickens                                                         0.738000   \n",
       "\"Pookie\" Hudson                                                                     NaN   \n",
       "\"Weird Al\" Yankovic                                                            0.132022   \n",
       "'N Sync                                                                             NaN   \n",
       "...                                                                                 ...   \n",
       "will.i.am & Nicki Minaj                                                        0.070500   \n",
       "will.i.am Featuring Justin Bieber                                              0.001120   \n",
       "will.i.am Featuring Mick Jagger & Jennifer Lopez                               0.104000   \n",
       "will.i.am Featuring Miley Cyrus                                                0.009940   \n",
       "will.i.am Featuring Miley Cyrus, French Montana, Wiz Khalifa & DJ Mustard      0.029300   \n",
       "\n",
       "                                                                           instrumentalness  \\\n",
       "Performer                                                                                     \n",
       "\"Groove\" Holmes                                                                    0.876000   \n",
       "\"Little\" Jimmy Dickens                                                             0.000010   \n",
       "\"Pookie\" Hudson                                                                         NaN   \n",
       "\"Weird Al\" Yankovic                                                                0.000216   \n",
       "'N Sync                                                                                 NaN   \n",
       "...                                                                                     ...   \n",
       "will.i.am & Nicki Minaj                                                            0.000008   \n",
       "will.i.am Featuring Justin Bieber                                                  0.000077   \n",
       "will.i.am Featuring Mick Jagger & Jennifer Lopez                                   0.000006   \n",
       "will.i.am Featuring Miley Cyrus                                                    0.003320   \n",
       "will.i.am Featuring Miley Cyrus, French Montana, Wiz Khalifa & DJ Mustard          0.000000   \n",
       "\n",
       "                                                                           liveness  \\\n",
       "Performer                                                                             \n",
       "\"Groove\" Holmes                                                            0.292000   \n",
       "\"Little\" Jimmy Dickens                                                     0.627000   \n",
       "\"Pookie\" Hudson                                                                 NaN   \n",
       "\"Weird Al\" Yankovic                                                        0.140924   \n",
       "'N Sync                                                                         NaN   \n",
       "...                                                                             ...   \n",
       "will.i.am & Nicki Minaj                                                    0.119000   \n",
       "will.i.am Featuring Justin Bieber                                          0.074800   \n",
       "will.i.am Featuring Mick Jagger & Jennifer Lopez                           0.037700   \n",
       "will.i.am Featuring Miley Cyrus                                            0.121000   \n",
       "will.i.am Featuring Miley Cyrus, French Montana, Wiz Khalifa & DJ Mustard  0.138000   \n",
       "\n",
       "                                                                            valence  \n",
       "Performer                                                                            \n",
       "\"Groove\" Holmes                                                            0.524000  \n",
       "\"Little\" Jimmy Dickens                                                     0.867000  \n",
       "\"Pookie\" Hudson                                                                 NaN  \n",
       "\"Weird Al\" Yankovic                                                        0.776681  \n",
       "'N Sync                                                                         NaN  \n",
       "...                                                                             ...  \n",
       "will.i.am & Nicki Minaj                                                    0.686000  \n",
       "will.i.am Featuring Justin Bieber                                          0.403000  \n",
       "will.i.am Featuring Mick Jagger & Jennifer Lopez                           0.450000  \n",
       "will.i.am Featuring Miley Cyrus                                            0.338000  \n",
       "will.i.am Featuring Miley Cyrus, French Montana, Wiz Khalifa & DJ Mustard  0.514000  \n",
       "\n",
       "[10061 rows x 7 columns]"
      ]
     },
     "execution_count": 7,
     "metadata": {},
     "output_type": "execute_result"
    }
   ],
   "source": [
    "artists = bb100_feat.groupby('Performer').mean()\n",
    "artists"
   ]
  },
  {
   "cell_type": "code",
   "execution_count": 8,
   "id": "d2637fae",
   "metadata": {},
   "outputs": [
    {
     "data": {
      "text/html": [
       "<div>\n",
       "<style scoped>\n",
       "    .dataframe tbody tr th:only-of-type {\n",
       "        vertical-align: middle;\n",
       "    }\n",
       "\n",
       "    .dataframe tbody tr th {\n",
       "        vertical-align: top;\n",
       "    }\n",
       "\n",
       "    .dataframe thead th {\n",
       "        text-align: right;\n",
       "    }\n",
       "</style>\n",
       "<table border=\"1\" class=\"dataframe\">\n",
       "  <thead>\n",
       "    <tr style=\"text-align: right;\">\n",
       "      <th></th>\n",
       "      <th>danceability</th>\n",
       "      <th>energy</th>\n",
       "      <th>speechiness</th>\n",
       "      <th>acousticness</th>\n",
       "      <th>instrumentalness</th>\n",
       "      <th>liveness</th>\n",
       "      <th>valence</th>\n",
       "    </tr>\n",
       "    <tr>\n",
       "      <th>Performer</th>\n",
       "      <th></th>\n",
       "      <th></th>\n",
       "      <th></th>\n",
       "      <th></th>\n",
       "      <th></th>\n",
       "      <th></th>\n",
       "      <th></th>\n",
       "    </tr>\n",
       "  </thead>\n",
       "  <tbody>\n",
       "    <tr>\n",
       "      <th>10cc</th>\n",
       "      <td>0.58328</td>\n",
       "      <td>0.522512</td>\n",
       "      <td>0.059845</td>\n",
       "      <td>0.340788</td>\n",
       "      <td>0.004388</td>\n",
       "      <td>0.171202</td>\n",
       "      <td>0.522744</td>\n",
       "    </tr>\n",
       "  </tbody>\n",
       "</table>\n",
       "</div>"
      ],
      "text/plain": [
       "           danceability    energy  speechiness  acousticness  \\\n",
       "Performer                                                      \n",
       "10cc            0.58328  0.522512     0.059845      0.340788   \n",
       "\n",
       "           instrumentalness  liveness   valence  \n",
       "Performer                                        \n",
       "10cc               0.004388  0.171202  0.522744  "
      ]
     },
     "execution_count": 8,
     "metadata": {},
     "output_type": "execute_result"
    }
   ],
   "source": [
    "Check = artists[artists.index=='10cc']\n",
    "Check"
   ]
  },
  {
   "cell_type": "code",
   "execution_count": 9,
   "id": "251d38cd",
   "metadata": {},
   "outputs": [
    {
     "data": {
      "text/html": [
       "<div>\n",
       "<style scoped>\n",
       "    .dataframe tbody tr th:only-of-type {\n",
       "        vertical-align: middle;\n",
       "    }\n",
       "\n",
       "    .dataframe tbody tr th {\n",
       "        vertical-align: top;\n",
       "    }\n",
       "\n",
       "    .dataframe thead th {\n",
       "        text-align: right;\n",
       "    }\n",
       "</style>\n",
       "<table border=\"1\" class=\"dataframe\">\n",
       "  <thead>\n",
       "    <tr style=\"text-align: right;\">\n",
       "      <th></th>\n",
       "      <th>danceability</th>\n",
       "      <th>energy</th>\n",
       "      <th>speechiness</th>\n",
       "      <th>acousticness</th>\n",
       "      <th>instrumentalness</th>\n",
       "      <th>liveness</th>\n",
       "      <th>valence</th>\n",
       "    </tr>\n",
       "    <tr>\n",
       "      <th>WeekID</th>\n",
       "      <th></th>\n",
       "      <th></th>\n",
       "      <th></th>\n",
       "      <th></th>\n",
       "      <th></th>\n",
       "      <th></th>\n",
       "      <th></th>\n",
       "    </tr>\n",
       "  </thead>\n",
       "  <tbody>\n",
       "    <tr>\n",
       "      <th>1958-12-31</th>\n",
       "      <td>0.545860</td>\n",
       "      <td>0.471431</td>\n",
       "      <td>0.051397</td>\n",
       "      <td>0.670536</td>\n",
       "      <td>0.062691</td>\n",
       "      <td>0.193292</td>\n",
       "      <td>0.675069</td>\n",
       "    </tr>\n",
       "    <tr>\n",
       "      <th>1959-12-31</th>\n",
       "      <td>0.528111</td>\n",
       "      <td>0.482844</td>\n",
       "      <td>0.057691</td>\n",
       "      <td>0.674084</td>\n",
       "      <td>0.070608</td>\n",
       "      <td>0.192840</td>\n",
       "      <td>0.661094</td>\n",
       "    </tr>\n",
       "    <tr>\n",
       "      <th>1960-12-31</th>\n",
       "      <td>0.516852</td>\n",
       "      <td>0.456821</td>\n",
       "      <td>0.045528</td>\n",
       "      <td>0.666800</td>\n",
       "      <td>0.070480</td>\n",
       "      <td>0.205267</td>\n",
       "      <td>0.653143</td>\n",
       "    </tr>\n",
       "    <tr>\n",
       "      <th>1961-12-31</th>\n",
       "      <td>0.531123</td>\n",
       "      <td>0.478718</td>\n",
       "      <td>0.052219</td>\n",
       "      <td>0.653479</td>\n",
       "      <td>0.087808</td>\n",
       "      <td>0.218387</td>\n",
       "      <td>0.666775</td>\n",
       "    </tr>\n",
       "    <tr>\n",
       "      <th>1962-12-31</th>\n",
       "      <td>0.542766</td>\n",
       "      <td>0.477447</td>\n",
       "      <td>0.057662</td>\n",
       "      <td>0.638669</td>\n",
       "      <td>0.071893</td>\n",
       "      <td>0.213591</td>\n",
       "      <td>0.670719</td>\n",
       "    </tr>\n",
       "    <tr>\n",
       "      <th>...</th>\n",
       "      <td>...</td>\n",
       "      <td>...</td>\n",
       "      <td>...</td>\n",
       "      <td>...</td>\n",
       "      <td>...</td>\n",
       "      <td>...</td>\n",
       "      <td>...</td>\n",
       "    </tr>\n",
       "    <tr>\n",
       "      <th>2017-12-31</th>\n",
       "      <td>0.682885</td>\n",
       "      <td>0.641847</td>\n",
       "      <td>0.116469</td>\n",
       "      <td>0.168601</td>\n",
       "      <td>0.004120</td>\n",
       "      <td>0.146380</td>\n",
       "      <td>0.503560</td>\n",
       "    </tr>\n",
       "    <tr>\n",
       "      <th>2018-12-31</th>\n",
       "      <td>0.687011</td>\n",
       "      <td>0.636133</td>\n",
       "      <td>0.125148</td>\n",
       "      <td>0.179402</td>\n",
       "      <td>0.003884</td>\n",
       "      <td>0.167008</td>\n",
       "      <td>0.454047</td>\n",
       "    </tr>\n",
       "    <tr>\n",
       "      <th>2019-12-31</th>\n",
       "      <td>0.693093</td>\n",
       "      <td>0.623126</td>\n",
       "      <td>0.125736</td>\n",
       "      <td>0.223738</td>\n",
       "      <td>0.007480</td>\n",
       "      <td>0.162145</td>\n",
       "      <td>0.499985</td>\n",
       "    </tr>\n",
       "    <tr>\n",
       "      <th>2020-12-31</th>\n",
       "      <td>0.664939</td>\n",
       "      <td>0.629994</td>\n",
       "      <td>0.107855</td>\n",
       "      <td>0.232929</td>\n",
       "      <td>0.004318</td>\n",
       "      <td>0.175762</td>\n",
       "      <td>0.501072</td>\n",
       "    </tr>\n",
       "    <tr>\n",
       "      <th>2021-12-31</th>\n",
       "      <td>0.651664</td>\n",
       "      <td>0.593304</td>\n",
       "      <td>0.107856</td>\n",
       "      <td>0.289071</td>\n",
       "      <td>0.003170</td>\n",
       "      <td>0.160534</td>\n",
       "      <td>0.498986</td>\n",
       "    </tr>\n",
       "  </tbody>\n",
       "</table>\n",
       "<p>64 rows × 7 columns</p>\n",
       "</div>"
      ],
      "text/plain": [
       "            danceability    energy  speechiness  acousticness  \\\n",
       "WeekID                                                          \n",
       "1958-12-31      0.545860  0.471431     0.051397      0.670536   \n",
       "1959-12-31      0.528111  0.482844     0.057691      0.674084   \n",
       "1960-12-31      0.516852  0.456821     0.045528      0.666800   \n",
       "1961-12-31      0.531123  0.478718     0.052219      0.653479   \n",
       "1962-12-31      0.542766  0.477447     0.057662      0.638669   \n",
       "...                  ...       ...          ...           ...   \n",
       "2017-12-31      0.682885  0.641847     0.116469      0.168601   \n",
       "2018-12-31      0.687011  0.636133     0.125148      0.179402   \n",
       "2019-12-31      0.693093  0.623126     0.125736      0.223738   \n",
       "2020-12-31      0.664939  0.629994     0.107855      0.232929   \n",
       "2021-12-31      0.651664  0.593304     0.107856      0.289071   \n",
       "\n",
       "            instrumentalness  liveness   valence  \n",
       "WeekID                                            \n",
       "1958-12-31          0.062691  0.193292  0.675069  \n",
       "1959-12-31          0.070608  0.192840  0.661094  \n",
       "1960-12-31          0.070480  0.205267  0.653143  \n",
       "1961-12-31          0.087808  0.218387  0.666775  \n",
       "1962-12-31          0.071893  0.213591  0.670719  \n",
       "...                      ...       ...       ...  \n",
       "2017-12-31          0.004120  0.146380  0.503560  \n",
       "2018-12-31          0.003884  0.167008  0.454047  \n",
       "2019-12-31          0.007480  0.162145  0.499985  \n",
       "2020-12-31          0.004318  0.175762  0.501072  \n",
       "2021-12-31          0.003170  0.160534  0.498986  \n",
       "\n",
       "[64 rows x 7 columns]"
      ]
     },
     "execution_count": 9,
     "metadata": {},
     "output_type": "execute_result"
    }
   ],
   "source": [
    "ideal = bb100_feat.groupby(pd.Grouper(key='WeekID', axis=0, freq='1Y')).mean()\n",
    "ideal"
   ]
  },
  {
   "cell_type": "code",
   "execution_count": 10,
   "id": "ae681e8b",
   "metadata": {},
   "outputs": [
    {
     "data": {
      "text/html": [
       "<div>\n",
       "<style scoped>\n",
       "    .dataframe tbody tr th:only-of-type {\n",
       "        vertical-align: middle;\n",
       "    }\n",
       "\n",
       "    .dataframe tbody tr th {\n",
       "        vertical-align: top;\n",
       "    }\n",
       "\n",
       "    .dataframe thead th {\n",
       "        text-align: right;\n",
       "    }\n",
       "</style>\n",
       "<table border=\"1\" class=\"dataframe\">\n",
       "  <thead>\n",
       "    <tr style=\"text-align: right;\">\n",
       "      <th></th>\n",
       "      <th>danceability</th>\n",
       "      <th>energy</th>\n",
       "      <th>speechiness</th>\n",
       "      <th>acousticness</th>\n",
       "      <th>instrumentalness</th>\n",
       "      <th>liveness</th>\n",
       "      <th>valence</th>\n",
       "    </tr>\n",
       "    <tr>\n",
       "      <th>WeekID</th>\n",
       "      <th></th>\n",
       "      <th></th>\n",
       "      <th></th>\n",
       "      <th></th>\n",
       "      <th></th>\n",
       "      <th></th>\n",
       "      <th></th>\n",
       "    </tr>\n",
       "  </thead>\n",
       "  <tbody>\n",
       "    <tr>\n",
       "      <th>2021-12-31</th>\n",
       "      <td>0.651664</td>\n",
       "      <td>0.593304</td>\n",
       "      <td>0.107856</td>\n",
       "      <td>0.289071</td>\n",
       "      <td>0.00317</td>\n",
       "      <td>0.160534</td>\n",
       "      <td>0.498986</td>\n",
       "    </tr>\n",
       "  </tbody>\n",
       "</table>\n",
       "</div>"
      ],
      "text/plain": [
       "            danceability    energy  speechiness  acousticness  \\\n",
       "WeekID                                                          \n",
       "2021-12-31      0.651664  0.593304     0.107856      0.289071   \n",
       "\n",
       "            instrumentalness  liveness   valence  \n",
       "WeekID                                            \n",
       "2021-12-31           0.00317  0.160534  0.498986  "
      ]
     },
     "execution_count": 10,
     "metadata": {},
     "output_type": "execute_result"
    }
   ],
   "source": [
    "df2 = ideal.iloc[[-1]]\n",
    "df2"
   ]
  },
  {
   "cell_type": "code",
   "execution_count": null,
   "id": "162628fa",
   "metadata": {},
   "outputs": [],
   "source": []
  },
  {
   "cell_type": "code",
   "execution_count": 11,
   "id": "66e34a0e",
   "metadata": {},
   "outputs": [
    {
     "data": {
      "text/html": [
       "<div>\n",
       "<style scoped>\n",
       "    .dataframe tbody tr th:only-of-type {\n",
       "        vertical-align: middle;\n",
       "    }\n",
       "\n",
       "    .dataframe tbody tr th {\n",
       "        vertical-align: top;\n",
       "    }\n",
       "\n",
       "    .dataframe thead th {\n",
       "        text-align: right;\n",
       "    }\n",
       "</style>\n",
       "<table border=\"1\" class=\"dataframe\">\n",
       "  <thead>\n",
       "    <tr style=\"text-align: right;\">\n",
       "      <th></th>\n",
       "      <th>danceability</th>\n",
       "      <th>energy</th>\n",
       "      <th>speechiness</th>\n",
       "      <th>acousticness</th>\n",
       "      <th>instrumentalness</th>\n",
       "      <th>liveness</th>\n",
       "      <th>valence</th>\n",
       "    </tr>\n",
       "  </thead>\n",
       "  <tbody>\n",
       "    <tr>\n",
       "      <th>2021-12-31 00:00:00</th>\n",
       "      <td>0.651664</td>\n",
       "      <td>0.593304</td>\n",
       "      <td>0.107856</td>\n",
       "      <td>0.289071</td>\n",
       "      <td>0.003170</td>\n",
       "      <td>0.160534</td>\n",
       "      <td>0.498986</td>\n",
       "    </tr>\n",
       "    <tr>\n",
       "      <th>10cc</th>\n",
       "      <td>0.583280</td>\n",
       "      <td>0.522512</td>\n",
       "      <td>0.059845</td>\n",
       "      <td>0.340788</td>\n",
       "      <td>0.004388</td>\n",
       "      <td>0.171202</td>\n",
       "      <td>0.522744</td>\n",
       "    </tr>\n",
       "  </tbody>\n",
       "</table>\n",
       "</div>"
      ],
      "text/plain": [
       "                     danceability    energy  speechiness  acousticness  \\\n",
       "2021-12-31 00:00:00      0.651664  0.593304     0.107856      0.289071   \n",
       "10cc                     0.583280  0.522512     0.059845      0.340788   \n",
       "\n",
       "                     instrumentalness  liveness   valence  \n",
       "2021-12-31 00:00:00          0.003170  0.160534  0.498986  \n",
       "10cc                         0.004388  0.171202  0.522744  "
      ]
     },
     "execution_count": 11,
     "metadata": {},
     "output_type": "execute_result"
    }
   ],
   "source": [
    "Check_Ideal = pd.concat([df2, Check])\n",
    "Check_Ideal"
   ]
  },
  {
   "cell_type": "code",
   "execution_count": 12,
   "id": "029fd65a",
   "metadata": {},
   "outputs": [
    {
     "data": {
      "text/plain": [
       "0.2745476280092377"
      ]
     },
     "execution_count": 12,
     "metadata": {},
     "output_type": "execute_result"
    }
   ],
   "source": [
    "diff = Check_Ideal.iloc[0] - Check_Ideal.iloc[1]\n",
    "diff.abs().sum()"
   ]
  },
  {
   "cell_type": "code",
   "execution_count": null,
   "id": "96fb18a1",
   "metadata": {},
   "outputs": [],
   "source": []
  },
  {
   "cell_type": "code",
   "execution_count": 13,
   "id": "651cd57f",
   "metadata": {},
   "outputs": [
    {
     "data": {
      "text/html": [
       "<div>\n",
       "<style scoped>\n",
       "    .dataframe tbody tr th:only-of-type {\n",
       "        vertical-align: middle;\n",
       "    }\n",
       "\n",
       "    .dataframe tbody tr th {\n",
       "        vertical-align: top;\n",
       "    }\n",
       "\n",
       "    .dataframe thead th {\n",
       "        text-align: right;\n",
       "    }\n",
       "</style>\n",
       "<table border=\"1\" class=\"dataframe\">\n",
       "  <thead>\n",
       "    <tr style=\"text-align: right;\">\n",
       "      <th></th>\n",
       "      <th>danceability</th>\n",
       "      <th>energy</th>\n",
       "      <th>speechiness</th>\n",
       "      <th>acousticness</th>\n",
       "      <th>instrumentalness</th>\n",
       "      <th>liveness</th>\n",
       "      <th>valence</th>\n",
       "    </tr>\n",
       "    <tr>\n",
       "      <th>Performer</th>\n",
       "      <th></th>\n",
       "      <th></th>\n",
       "      <th></th>\n",
       "      <th></th>\n",
       "      <th></th>\n",
       "      <th></th>\n",
       "      <th></th>\n",
       "    </tr>\n",
       "  </thead>\n",
       "  <tbody>\n",
       "    <tr>\n",
       "      <th>Alannah Myles</th>\n",
       "      <td>0.718865</td>\n",
       "      <td>0.562054</td>\n",
       "      <td>0.054284</td>\n",
       "      <td>0.178167</td>\n",
       "      <td>0.00087</td>\n",
       "      <td>0.179784</td>\n",
       "      <td>0.482</td>\n",
       "    </tr>\n",
       "  </tbody>\n",
       "</table>\n",
       "</div>"
      ],
      "text/plain": [
       "               danceability    energy  speechiness  acousticness  \\\n",
       "Performer                                                          \n",
       "Alannah Myles      0.718865  0.562054     0.054284      0.178167   \n",
       "\n",
       "               instrumentalness  liveness  valence  \n",
       "Performer                                           \n",
       "Alannah Myles           0.00087  0.179784    0.482  "
      ]
     },
     "execution_count": 13,
     "metadata": {},
     "output_type": "execute_result"
    }
   ],
   "source": [
    "Check = artists[artists.index=='Alannah Myles']\n",
    "Check"
   ]
  },
  {
   "cell_type": "code",
   "execution_count": 14,
   "id": "6e6b5081",
   "metadata": {},
   "outputs": [
    {
     "data": {
      "text/html": [
       "<div>\n",
       "<style scoped>\n",
       "    .dataframe tbody tr th:only-of-type {\n",
       "        vertical-align: middle;\n",
       "    }\n",
       "\n",
       "    .dataframe tbody tr th {\n",
       "        vertical-align: top;\n",
       "    }\n",
       "\n",
       "    .dataframe thead th {\n",
       "        text-align: right;\n",
       "    }\n",
       "</style>\n",
       "<table border=\"1\" class=\"dataframe\">\n",
       "  <thead>\n",
       "    <tr style=\"text-align: right;\">\n",
       "      <th></th>\n",
       "      <th>danceability</th>\n",
       "      <th>energy</th>\n",
       "      <th>speechiness</th>\n",
       "      <th>acousticness</th>\n",
       "      <th>instrumentalness</th>\n",
       "      <th>liveness</th>\n",
       "      <th>valence</th>\n",
       "    </tr>\n",
       "  </thead>\n",
       "  <tbody>\n",
       "    <tr>\n",
       "      <th>2021-12-31 00:00:00</th>\n",
       "      <td>0.651664</td>\n",
       "      <td>0.593304</td>\n",
       "      <td>0.107856</td>\n",
       "      <td>0.289071</td>\n",
       "      <td>0.00317</td>\n",
       "      <td>0.160534</td>\n",
       "      <td>0.498986</td>\n",
       "    </tr>\n",
       "    <tr>\n",
       "      <th>Alannah Myles</th>\n",
       "      <td>0.718865</td>\n",
       "      <td>0.562054</td>\n",
       "      <td>0.054284</td>\n",
       "      <td>0.178167</td>\n",
       "      <td>0.00087</td>\n",
       "      <td>0.179784</td>\n",
       "      <td>0.482000</td>\n",
       "    </tr>\n",
       "  </tbody>\n",
       "</table>\n",
       "</div>"
      ],
      "text/plain": [
       "                     danceability    energy  speechiness  acousticness  \\\n",
       "2021-12-31 00:00:00      0.651664  0.593304     0.107856      0.289071   \n",
       "Alannah Myles            0.718865  0.562054     0.054284      0.178167   \n",
       "\n",
       "                     instrumentalness  liveness   valence  \n",
       "2021-12-31 00:00:00           0.00317  0.160534  0.498986  \n",
       "Alannah Myles                 0.00087  0.179784  0.482000  "
      ]
     },
     "execution_count": 14,
     "metadata": {},
     "output_type": "execute_result"
    }
   ],
   "source": [
    "Check_Ideal = pd.concat([df2, Check])\n",
    "Check_Ideal"
   ]
  },
  {
   "cell_type": "code",
   "execution_count": 15,
   "id": "12edb4cb",
   "metadata": {},
   "outputs": [
    {
     "data": {
      "text/plain": [
       "0.30146228926761903"
      ]
     },
     "execution_count": 15,
     "metadata": {},
     "output_type": "execute_result"
    }
   ],
   "source": [
    "diff = Check_Ideal.iloc[0] - Check_Ideal.iloc[1]\n",
    "diff.abs().sum()"
   ]
  },
  {
   "cell_type": "code",
   "execution_count": null,
   "id": "3e5bedec",
   "metadata": {},
   "outputs": [],
   "source": []
  },
  {
   "cell_type": "code",
   "execution_count": 16,
   "id": "00564103",
   "metadata": {},
   "outputs": [
    {
     "data": {
      "text/html": [
       "<div>\n",
       "<style scoped>\n",
       "    .dataframe tbody tr th:only-of-type {\n",
       "        vertical-align: middle;\n",
       "    }\n",
       "\n",
       "    .dataframe tbody tr th {\n",
       "        vertical-align: top;\n",
       "    }\n",
       "\n",
       "    .dataframe thead th {\n",
       "        text-align: right;\n",
       "    }\n",
       "</style>\n",
       "<table border=\"1\" class=\"dataframe\">\n",
       "  <thead>\n",
       "    <tr style=\"text-align: right;\">\n",
       "      <th></th>\n",
       "      <th>danceability</th>\n",
       "      <th>energy</th>\n",
       "      <th>speechiness</th>\n",
       "      <th>acousticness</th>\n",
       "      <th>instrumentalness</th>\n",
       "      <th>liveness</th>\n",
       "      <th>valence</th>\n",
       "    </tr>\n",
       "    <tr>\n",
       "      <th>Performer</th>\n",
       "      <th></th>\n",
       "      <th></th>\n",
       "      <th></th>\n",
       "      <th></th>\n",
       "      <th></th>\n",
       "      <th></th>\n",
       "      <th></th>\n",
       "    </tr>\n",
       "  </thead>\n",
       "  <tbody>\n",
       "    <tr>\n",
       "      <th>Dru Hill</th>\n",
       "      <td>0.677326</td>\n",
       "      <td>0.547638</td>\n",
       "      <td>0.085821</td>\n",
       "      <td>0.240246</td>\n",
       "      <td>0.0</td>\n",
       "      <td>0.164113</td>\n",
       "      <td>0.491087</td>\n",
       "    </tr>\n",
       "  </tbody>\n",
       "</table>\n",
       "</div>"
      ],
      "text/plain": [
       "           danceability    energy  speechiness  acousticness  \\\n",
       "Performer                                                      \n",
       "Dru Hill       0.677326  0.547638     0.085821      0.240246   \n",
       "\n",
       "           instrumentalness  liveness   valence  \n",
       "Performer                                        \n",
       "Dru Hill                0.0  0.164113  0.491087  "
      ]
     },
     "execution_count": 16,
     "metadata": {},
     "output_type": "execute_result"
    }
   ],
   "source": [
    "Check = artists[artists.index=='Dru Hill']\n",
    "Check"
   ]
  },
  {
   "cell_type": "code",
   "execution_count": 17,
   "id": "960b2483",
   "metadata": {},
   "outputs": [
    {
     "data": {
      "text/html": [
       "<div>\n",
       "<style scoped>\n",
       "    .dataframe tbody tr th:only-of-type {\n",
       "        vertical-align: middle;\n",
       "    }\n",
       "\n",
       "    .dataframe tbody tr th {\n",
       "        vertical-align: top;\n",
       "    }\n",
       "\n",
       "    .dataframe thead th {\n",
       "        text-align: right;\n",
       "    }\n",
       "</style>\n",
       "<table border=\"1\" class=\"dataframe\">\n",
       "  <thead>\n",
       "    <tr style=\"text-align: right;\">\n",
       "      <th></th>\n",
       "      <th>danceability</th>\n",
       "      <th>energy</th>\n",
       "      <th>speechiness</th>\n",
       "      <th>acousticness</th>\n",
       "      <th>instrumentalness</th>\n",
       "      <th>liveness</th>\n",
       "      <th>valence</th>\n",
       "    </tr>\n",
       "  </thead>\n",
       "  <tbody>\n",
       "    <tr>\n",
       "      <th>2021-12-31 00:00:00</th>\n",
       "      <td>0.651664</td>\n",
       "      <td>0.593304</td>\n",
       "      <td>0.107856</td>\n",
       "      <td>0.289071</td>\n",
       "      <td>0.00317</td>\n",
       "      <td>0.160534</td>\n",
       "      <td>0.498986</td>\n",
       "    </tr>\n",
       "    <tr>\n",
       "      <th>Dru Hill</th>\n",
       "      <td>0.677326</td>\n",
       "      <td>0.547638</td>\n",
       "      <td>0.085821</td>\n",
       "      <td>0.240246</td>\n",
       "      <td>0.00000</td>\n",
       "      <td>0.164113</td>\n",
       "      <td>0.491087</td>\n",
       "    </tr>\n",
       "  </tbody>\n",
       "</table>\n",
       "</div>"
      ],
      "text/plain": [
       "                     danceability    energy  speechiness  acousticness  \\\n",
       "2021-12-31 00:00:00      0.651664  0.593304     0.107856      0.289071   \n",
       "Dru Hill                 0.677326  0.547638     0.085821      0.240246   \n",
       "\n",
       "                     instrumentalness  liveness   valence  \n",
       "2021-12-31 00:00:00           0.00317  0.160534  0.498986  \n",
       "Dru Hill                      0.00000  0.164113  0.491087  "
      ]
     },
     "execution_count": 17,
     "metadata": {},
     "output_type": "execute_result"
    }
   ],
   "source": [
    "Check_Ideal = pd.concat([df2, Check])\n",
    "Check_Ideal"
   ]
  },
  {
   "cell_type": "code",
   "execution_count": 18,
   "id": "034d2f35",
   "metadata": {},
   "outputs": [
    {
     "data": {
      "text/plain": [
       "0.1568355961222999"
      ]
     },
     "execution_count": 18,
     "metadata": {},
     "output_type": "execute_result"
    }
   ],
   "source": [
    "diff = Check_Ideal.iloc[0] - Check_Ideal.iloc[1]\n",
    "diff.abs().sum()"
   ]
  },
  {
   "cell_type": "code",
   "execution_count": null,
   "id": "59068d91",
   "metadata": {},
   "outputs": [],
   "source": []
  },
  {
   "cell_type": "code",
   "execution_count": 19,
   "id": "1a78b2e5",
   "metadata": {},
   "outputs": [
    {
     "data": {
      "text/html": [
       "<div>\n",
       "<style scoped>\n",
       "    .dataframe tbody tr th:only-of-type {\n",
       "        vertical-align: middle;\n",
       "    }\n",
       "\n",
       "    .dataframe tbody tr th {\n",
       "        vertical-align: top;\n",
       "    }\n",
       "\n",
       "    .dataframe thead th {\n",
       "        text-align: right;\n",
       "    }\n",
       "</style>\n",
       "<table border=\"1\" class=\"dataframe\">\n",
       "  <thead>\n",
       "    <tr style=\"text-align: right;\">\n",
       "      <th></th>\n",
       "      <th>danceability</th>\n",
       "      <th>energy</th>\n",
       "      <th>speechiness</th>\n",
       "      <th>acousticness</th>\n",
       "      <th>instrumentalness</th>\n",
       "      <th>liveness</th>\n",
       "      <th>valence</th>\n",
       "    </tr>\n",
       "    <tr>\n",
       "      <th>Performer</th>\n",
       "      <th></th>\n",
       "      <th></th>\n",
       "      <th></th>\n",
       "      <th></th>\n",
       "      <th></th>\n",
       "      <th></th>\n",
       "      <th></th>\n",
       "    </tr>\n",
       "  </thead>\n",
       "  <tbody>\n",
       "    <tr>\n",
       "      <th>Faith Evans</th>\n",
       "      <td>0.648719</td>\n",
       "      <td>0.586793</td>\n",
       "      <td>0.085249</td>\n",
       "      <td>0.213951</td>\n",
       "      <td>2.429630e-07</td>\n",
       "      <td>0.172711</td>\n",
       "      <td>0.535119</td>\n",
       "    </tr>\n",
       "  </tbody>\n",
       "</table>\n",
       "</div>"
      ],
      "text/plain": [
       "             danceability    energy  speechiness  acousticness  \\\n",
       "Performer                                                        \n",
       "Faith Evans      0.648719  0.586793     0.085249      0.213951   \n",
       "\n",
       "             instrumentalness  liveness   valence  \n",
       "Performer                                          \n",
       "Faith Evans      2.429630e-07  0.172711  0.535119  "
      ]
     },
     "execution_count": 19,
     "metadata": {},
     "output_type": "execute_result"
    }
   ],
   "source": [
    "Check = artists[artists.index=='Faith Evans']\n",
    "Check"
   ]
  },
  {
   "cell_type": "code",
   "execution_count": 20,
   "id": "3a6f2b53",
   "metadata": {},
   "outputs": [
    {
     "data": {
      "text/html": [
       "<div>\n",
       "<style scoped>\n",
       "    .dataframe tbody tr th:only-of-type {\n",
       "        vertical-align: middle;\n",
       "    }\n",
       "\n",
       "    .dataframe tbody tr th {\n",
       "        vertical-align: top;\n",
       "    }\n",
       "\n",
       "    .dataframe thead th {\n",
       "        text-align: right;\n",
       "    }\n",
       "</style>\n",
       "<table border=\"1\" class=\"dataframe\">\n",
       "  <thead>\n",
       "    <tr style=\"text-align: right;\">\n",
       "      <th></th>\n",
       "      <th>danceability</th>\n",
       "      <th>energy</th>\n",
       "      <th>speechiness</th>\n",
       "      <th>acousticness</th>\n",
       "      <th>instrumentalness</th>\n",
       "      <th>liveness</th>\n",
       "      <th>valence</th>\n",
       "    </tr>\n",
       "  </thead>\n",
       "  <tbody>\n",
       "    <tr>\n",
       "      <th>2021-12-31 00:00:00</th>\n",
       "      <td>0.651664</td>\n",
       "      <td>0.593304</td>\n",
       "      <td>0.107856</td>\n",
       "      <td>0.289071</td>\n",
       "      <td>3.169610e-03</td>\n",
       "      <td>0.160534</td>\n",
       "      <td>0.498986</td>\n",
       "    </tr>\n",
       "    <tr>\n",
       "      <th>Faith Evans</th>\n",
       "      <td>0.648719</td>\n",
       "      <td>0.586793</td>\n",
       "      <td>0.085249</td>\n",
       "      <td>0.213951</td>\n",
       "      <td>2.429630e-07</td>\n",
       "      <td>0.172711</td>\n",
       "      <td>0.535119</td>\n",
       "    </tr>\n",
       "  </tbody>\n",
       "</table>\n",
       "</div>"
      ],
      "text/plain": [
       "                     danceability    energy  speechiness  acousticness  \\\n",
       "2021-12-31 00:00:00      0.651664  0.593304     0.107856      0.289071   \n",
       "Faith Evans              0.648719  0.586793     0.085249      0.213951   \n",
       "\n",
       "                     instrumentalness  liveness   valence  \n",
       "2021-12-31 00:00:00      3.169610e-03  0.160534  0.498986  \n",
       "Faith Evans              2.429630e-07  0.172711  0.535119  "
      ]
     },
     "execution_count": 20,
     "metadata": {},
     "output_type": "execute_result"
    }
   ],
   "source": [
    "Check_Ideal = pd.concat([df2, Check])\n",
    "Check_Ideal"
   ]
  },
  {
   "cell_type": "code",
   "execution_count": 21,
   "id": "b1e61d70",
   "metadata": {},
   "outputs": [
    {
     "data": {
      "text/plain": [
       "0.15866309942426088"
      ]
     },
     "execution_count": 21,
     "metadata": {},
     "output_type": "execute_result"
    }
   ],
   "source": [
    "diff = Check_Ideal.iloc[0] - Check_Ideal.iloc[1]\n",
    "diff.abs().sum()"
   ]
  },
  {
   "cell_type": "code",
   "execution_count": null,
   "id": "4a82e6ea",
   "metadata": {},
   "outputs": [],
   "source": []
  },
  {
   "cell_type": "code",
   "execution_count": 22,
   "id": "95e8feba",
   "metadata": {},
   "outputs": [
    {
     "data": {
      "text/html": [
       "<div>\n",
       "<style scoped>\n",
       "    .dataframe tbody tr th:only-of-type {\n",
       "        vertical-align: middle;\n",
       "    }\n",
       "\n",
       "    .dataframe tbody tr th {\n",
       "        vertical-align: top;\n",
       "    }\n",
       "\n",
       "    .dataframe thead th {\n",
       "        text-align: right;\n",
       "    }\n",
       "</style>\n",
       "<table border=\"1\" class=\"dataframe\">\n",
       "  <thead>\n",
       "    <tr style=\"text-align: right;\">\n",
       "      <th></th>\n",
       "      <th>danceability</th>\n",
       "      <th>energy</th>\n",
       "      <th>speechiness</th>\n",
       "      <th>acousticness</th>\n",
       "      <th>instrumentalness</th>\n",
       "      <th>liveness</th>\n",
       "      <th>valence</th>\n",
       "    </tr>\n",
       "    <tr>\n",
       "      <th>Performer</th>\n",
       "      <th></th>\n",
       "      <th></th>\n",
       "      <th></th>\n",
       "      <th></th>\n",
       "      <th></th>\n",
       "      <th></th>\n",
       "      <th></th>\n",
       "    </tr>\n",
       "  </thead>\n",
       "  <tbody>\n",
       "    <tr>\n",
       "      <th>Fantasia</th>\n",
       "      <td>0.655598</td>\n",
       "      <td>0.561278</td>\n",
       "      <td>0.089899</td>\n",
       "      <td>0.360249</td>\n",
       "      <td>0.000024</td>\n",
       "      <td>0.104938</td>\n",
       "      <td>0.555536</td>\n",
       "    </tr>\n",
       "  </tbody>\n",
       "</table>\n",
       "</div>"
      ],
      "text/plain": [
       "           danceability    energy  speechiness  acousticness  \\\n",
       "Performer                                                      \n",
       "Fantasia       0.655598  0.561278     0.089899      0.360249   \n",
       "\n",
       "           instrumentalness  liveness   valence  \n",
       "Performer                                        \n",
       "Fantasia           0.000024  0.104938  0.555536  "
      ]
     },
     "execution_count": 22,
     "metadata": {},
     "output_type": "execute_result"
    }
   ],
   "source": [
    "Check = artists[artists.index=='Fantasia']\n",
    "Check"
   ]
  },
  {
   "cell_type": "code",
   "execution_count": 23,
   "id": "bf1c5b89",
   "metadata": {},
   "outputs": [
    {
     "data": {
      "text/html": [
       "<div>\n",
       "<style scoped>\n",
       "    .dataframe tbody tr th:only-of-type {\n",
       "        vertical-align: middle;\n",
       "    }\n",
       "\n",
       "    .dataframe tbody tr th {\n",
       "        vertical-align: top;\n",
       "    }\n",
       "\n",
       "    .dataframe thead th {\n",
       "        text-align: right;\n",
       "    }\n",
       "</style>\n",
       "<table border=\"1\" class=\"dataframe\">\n",
       "  <thead>\n",
       "    <tr style=\"text-align: right;\">\n",
       "      <th></th>\n",
       "      <th>danceability</th>\n",
       "      <th>energy</th>\n",
       "      <th>speechiness</th>\n",
       "      <th>acousticness</th>\n",
       "      <th>instrumentalness</th>\n",
       "      <th>liveness</th>\n",
       "      <th>valence</th>\n",
       "    </tr>\n",
       "  </thead>\n",
       "  <tbody>\n",
       "    <tr>\n",
       "      <th>2021-12-31 00:00:00</th>\n",
       "      <td>0.651664</td>\n",
       "      <td>0.593304</td>\n",
       "      <td>0.107856</td>\n",
       "      <td>0.289071</td>\n",
       "      <td>0.003170</td>\n",
       "      <td>0.160534</td>\n",
       "      <td>0.498986</td>\n",
       "    </tr>\n",
       "    <tr>\n",
       "      <th>Fantasia</th>\n",
       "      <td>0.655598</td>\n",
       "      <td>0.561278</td>\n",
       "      <td>0.089899</td>\n",
       "      <td>0.360249</td>\n",
       "      <td>0.000024</td>\n",
       "      <td>0.104938</td>\n",
       "      <td>0.555536</td>\n",
       "    </tr>\n",
       "  </tbody>\n",
       "</table>\n",
       "</div>"
      ],
      "text/plain": [
       "                     danceability    energy  speechiness  acousticness  \\\n",
       "2021-12-31 00:00:00      0.651664  0.593304     0.107856      0.289071   \n",
       "Fantasia                 0.655598  0.561278     0.089899      0.360249   \n",
       "\n",
       "                     instrumentalness  liveness   valence  \n",
       "2021-12-31 00:00:00          0.003170  0.160534  0.498986  \n",
       "Fantasia                     0.000024  0.104938  0.555536  "
      ]
     },
     "execution_count": 23,
     "metadata": {},
     "output_type": "execute_result"
    }
   ],
   "source": [
    "Check_Ideal = pd.concat([df2, Check])\n",
    "Check_Ideal"
   ]
  },
  {
   "cell_type": "code",
   "execution_count": 24,
   "id": "bbd8c759",
   "metadata": {},
   "outputs": [
    {
     "data": {
      "text/plain": [
       "0.24038480892623387"
      ]
     },
     "execution_count": 24,
     "metadata": {},
     "output_type": "execute_result"
    }
   ],
   "source": [
    "diff = Check_Ideal.iloc[0] - Check_Ideal.iloc[1]\n",
    "diff.abs().sum()"
   ]
  },
  {
   "cell_type": "code",
   "execution_count": null,
   "id": "7737b2f1",
   "metadata": {},
   "outputs": [],
   "source": []
  },
  {
   "cell_type": "code",
   "execution_count": 25,
   "id": "eb4be74e",
   "metadata": {},
   "outputs": [
    {
     "data": {
      "text/html": [
       "<div>\n",
       "<style scoped>\n",
       "    .dataframe tbody tr th:only-of-type {\n",
       "        vertical-align: middle;\n",
       "    }\n",
       "\n",
       "    .dataframe tbody tr th {\n",
       "        vertical-align: top;\n",
       "    }\n",
       "\n",
       "    .dataframe thead th {\n",
       "        text-align: right;\n",
       "    }\n",
       "</style>\n",
       "<table border=\"1\" class=\"dataframe\">\n",
       "  <thead>\n",
       "    <tr style=\"text-align: right;\">\n",
       "      <th></th>\n",
       "      <th>danceability</th>\n",
       "      <th>energy</th>\n",
       "      <th>speechiness</th>\n",
       "      <th>acousticness</th>\n",
       "      <th>instrumentalness</th>\n",
       "      <th>liveness</th>\n",
       "      <th>valence</th>\n",
       "    </tr>\n",
       "    <tr>\n",
       "      <th>Performer</th>\n",
       "      <th></th>\n",
       "      <th></th>\n",
       "      <th></th>\n",
       "      <th></th>\n",
       "      <th></th>\n",
       "      <th></th>\n",
       "      <th></th>\n",
       "    </tr>\n",
       "  </thead>\n",
       "  <tbody>\n",
       "    <tr>\n",
       "      <th>Jaheim</th>\n",
       "      <td>0.663146</td>\n",
       "      <td>0.519354</td>\n",
       "      <td>0.104782</td>\n",
       "      <td>0.20578</td>\n",
       "      <td>0.000004</td>\n",
       "      <td>0.124622</td>\n",
       "      <td>0.591683</td>\n",
       "    </tr>\n",
       "  </tbody>\n",
       "</table>\n",
       "</div>"
      ],
      "text/plain": [
       "           danceability    energy  speechiness  acousticness  \\\n",
       "Performer                                                      \n",
       "Jaheim         0.663146  0.519354     0.104782       0.20578   \n",
       "\n",
       "           instrumentalness  liveness   valence  \n",
       "Performer                                        \n",
       "Jaheim             0.000004  0.124622  0.591683  "
      ]
     },
     "execution_count": 25,
     "metadata": {},
     "output_type": "execute_result"
    }
   ],
   "source": [
    "Check = artists[artists.index=='Jaheim']\n",
    "Check"
   ]
  },
  {
   "cell_type": "code",
   "execution_count": 26,
   "id": "4477daeb",
   "metadata": {},
   "outputs": [
    {
     "data": {
      "text/html": [
       "<div>\n",
       "<style scoped>\n",
       "    .dataframe tbody tr th:only-of-type {\n",
       "        vertical-align: middle;\n",
       "    }\n",
       "\n",
       "    .dataframe tbody tr th {\n",
       "        vertical-align: top;\n",
       "    }\n",
       "\n",
       "    .dataframe thead th {\n",
       "        text-align: right;\n",
       "    }\n",
       "</style>\n",
       "<table border=\"1\" class=\"dataframe\">\n",
       "  <thead>\n",
       "    <tr style=\"text-align: right;\">\n",
       "      <th></th>\n",
       "      <th>danceability</th>\n",
       "      <th>energy</th>\n",
       "      <th>speechiness</th>\n",
       "      <th>acousticness</th>\n",
       "      <th>instrumentalness</th>\n",
       "      <th>liveness</th>\n",
       "      <th>valence</th>\n",
       "    </tr>\n",
       "  </thead>\n",
       "  <tbody>\n",
       "    <tr>\n",
       "      <th>2021-12-31 00:00:00</th>\n",
       "      <td>0.651664</td>\n",
       "      <td>0.593304</td>\n",
       "      <td>0.107856</td>\n",
       "      <td>0.289071</td>\n",
       "      <td>0.003170</td>\n",
       "      <td>0.160534</td>\n",
       "      <td>0.498986</td>\n",
       "    </tr>\n",
       "    <tr>\n",
       "      <th>Jaheim</th>\n",
       "      <td>0.663146</td>\n",
       "      <td>0.519354</td>\n",
       "      <td>0.104782</td>\n",
       "      <td>0.205780</td>\n",
       "      <td>0.000004</td>\n",
       "      <td>0.124622</td>\n",
       "      <td>0.591683</td>\n",
       "    </tr>\n",
       "  </tbody>\n",
       "</table>\n",
       "</div>"
      ],
      "text/plain": [
       "                     danceability    energy  speechiness  acousticness  \\\n",
       "2021-12-31 00:00:00      0.651664  0.593304     0.107856      0.289071   \n",
       "Jaheim                   0.663146  0.519354     0.104782      0.205780   \n",
       "\n",
       "                     instrumentalness  liveness   valence  \n",
       "2021-12-31 00:00:00          0.003170  0.160534  0.498986  \n",
       "Jaheim                       0.000004  0.124622  0.591683  "
      ]
     },
     "execution_count": 26,
     "metadata": {},
     "output_type": "execute_result"
    }
   ],
   "source": [
    "Check_Ideal = pd.concat([df2, Check])\n",
    "Check_Ideal"
   ]
  },
  {
   "cell_type": "code",
   "execution_count": 27,
   "id": "71d7abb8",
   "metadata": {},
   "outputs": [
    {
     "data": {
      "text/plain": [
       "0.30357083394331086"
      ]
     },
     "execution_count": 27,
     "metadata": {},
     "output_type": "execute_result"
    }
   ],
   "source": [
    "diff = Check_Ideal.iloc[0] - Check_Ideal.iloc[1]\n",
    "diff.abs().sum()"
   ]
  },
  {
   "cell_type": "code",
   "execution_count": null,
   "id": "57f76fbf",
   "metadata": {},
   "outputs": [],
   "source": []
  },
  {
   "cell_type": "code",
   "execution_count": 28,
   "id": "5678030b",
   "metadata": {},
   "outputs": [
    {
     "data": {
      "text/html": [
       "<div>\n",
       "<style scoped>\n",
       "    .dataframe tbody tr th:only-of-type {\n",
       "        vertical-align: middle;\n",
       "    }\n",
       "\n",
       "    .dataframe tbody tr th {\n",
       "        vertical-align: top;\n",
       "    }\n",
       "\n",
       "    .dataframe thead th {\n",
       "        text-align: right;\n",
       "    }\n",
       "</style>\n",
       "<table border=\"1\" class=\"dataframe\">\n",
       "  <thead>\n",
       "    <tr style=\"text-align: right;\">\n",
       "      <th></th>\n",
       "      <th>danceability</th>\n",
       "      <th>energy</th>\n",
       "      <th>speechiness</th>\n",
       "      <th>acousticness</th>\n",
       "      <th>instrumentalness</th>\n",
       "      <th>liveness</th>\n",
       "      <th>valence</th>\n",
       "    </tr>\n",
       "    <tr>\n",
       "      <th>Performer</th>\n",
       "      <th></th>\n",
       "      <th></th>\n",
       "      <th></th>\n",
       "      <th></th>\n",
       "      <th></th>\n",
       "      <th></th>\n",
       "      <th></th>\n",
       "    </tr>\n",
       "  </thead>\n",
       "  <tbody>\n",
       "    <tr>\n",
       "      <th>Jazmine Sullivan</th>\n",
       "      <td>0.646028</td>\n",
       "      <td>0.621694</td>\n",
       "      <td>0.06434</td>\n",
       "      <td>0.209658</td>\n",
       "      <td>0.0</td>\n",
       "      <td>0.130147</td>\n",
       "      <td>0.589542</td>\n",
       "    </tr>\n",
       "  </tbody>\n",
       "</table>\n",
       "</div>"
      ],
      "text/plain": [
       "                  danceability    energy  speechiness  acousticness  \\\n",
       "Performer                                                             \n",
       "Jazmine Sullivan      0.646028  0.621694      0.06434      0.209658   \n",
       "\n",
       "                  instrumentalness  liveness   valence  \n",
       "Performer                                               \n",
       "Jazmine Sullivan               0.0  0.130147  0.589542  "
      ]
     },
     "execution_count": 28,
     "metadata": {},
     "output_type": "execute_result"
    }
   ],
   "source": [
    "Check = artists[artists.index=='Jazmine Sullivan']\n",
    "Check"
   ]
  },
  {
   "cell_type": "code",
   "execution_count": 29,
   "id": "e2dde8c7",
   "metadata": {},
   "outputs": [
    {
     "data": {
      "text/html": [
       "<div>\n",
       "<style scoped>\n",
       "    .dataframe tbody tr th:only-of-type {\n",
       "        vertical-align: middle;\n",
       "    }\n",
       "\n",
       "    .dataframe tbody tr th {\n",
       "        vertical-align: top;\n",
       "    }\n",
       "\n",
       "    .dataframe thead th {\n",
       "        text-align: right;\n",
       "    }\n",
       "</style>\n",
       "<table border=\"1\" class=\"dataframe\">\n",
       "  <thead>\n",
       "    <tr style=\"text-align: right;\">\n",
       "      <th></th>\n",
       "      <th>danceability</th>\n",
       "      <th>energy</th>\n",
       "      <th>speechiness</th>\n",
       "      <th>acousticness</th>\n",
       "      <th>instrumentalness</th>\n",
       "      <th>liveness</th>\n",
       "      <th>valence</th>\n",
       "    </tr>\n",
       "  </thead>\n",
       "  <tbody>\n",
       "    <tr>\n",
       "      <th>2021-12-31 00:00:00</th>\n",
       "      <td>0.651664</td>\n",
       "      <td>0.593304</td>\n",
       "      <td>0.107856</td>\n",
       "      <td>0.289071</td>\n",
       "      <td>0.00317</td>\n",
       "      <td>0.160534</td>\n",
       "      <td>0.498986</td>\n",
       "    </tr>\n",
       "    <tr>\n",
       "      <th>Jazmine Sullivan</th>\n",
       "      <td>0.646028</td>\n",
       "      <td>0.621694</td>\n",
       "      <td>0.064340</td>\n",
       "      <td>0.209658</td>\n",
       "      <td>0.00000</td>\n",
       "      <td>0.130147</td>\n",
       "      <td>0.589542</td>\n",
       "    </tr>\n",
       "  </tbody>\n",
       "</table>\n",
       "</div>"
      ],
      "text/plain": [
       "                     danceability    energy  speechiness  acousticness  \\\n",
       "2021-12-31 00:00:00      0.651664  0.593304     0.107856      0.289071   \n",
       "Jazmine Sullivan         0.646028  0.621694     0.064340      0.209658   \n",
       "\n",
       "                     instrumentalness  liveness   valence  \n",
       "2021-12-31 00:00:00           0.00317  0.160534  0.498986  \n",
       "Jazmine Sullivan              0.00000  0.130147  0.589542  "
      ]
     },
     "execution_count": 29,
     "metadata": {},
     "output_type": "execute_result"
    }
   ],
   "source": [
    "Check_Ideal = pd.concat([df2, Check])\n",
    "Check_Ideal"
   ]
  },
  {
   "cell_type": "code",
   "execution_count": 30,
   "id": "62111164",
   "metadata": {},
   "outputs": [
    {
     "data": {
      "text/plain": [
       "0.28106720720708434"
      ]
     },
     "execution_count": 30,
     "metadata": {},
     "output_type": "execute_result"
    }
   ],
   "source": [
    "diff = Check_Ideal.iloc[0] - Check_Ideal.iloc[1]\n",
    "diff.abs().sum()"
   ]
  },
  {
   "cell_type": "code",
   "execution_count": null,
   "id": "0472eea8",
   "metadata": {},
   "outputs": [],
   "source": []
  },
  {
   "cell_type": "code",
   "execution_count": 31,
   "id": "d9d08073",
   "metadata": {},
   "outputs": [
    {
     "data": {
      "text/html": [
       "<div>\n",
       "<style scoped>\n",
       "    .dataframe tbody tr th:only-of-type {\n",
       "        vertical-align: middle;\n",
       "    }\n",
       "\n",
       "    .dataframe tbody tr th {\n",
       "        vertical-align: top;\n",
       "    }\n",
       "\n",
       "    .dataframe thead th {\n",
       "        text-align: right;\n",
       "    }\n",
       "</style>\n",
       "<table border=\"1\" class=\"dataframe\">\n",
       "  <thead>\n",
       "    <tr style=\"text-align: right;\">\n",
       "      <th></th>\n",
       "      <th>danceability</th>\n",
       "      <th>energy</th>\n",
       "      <th>speechiness</th>\n",
       "      <th>acousticness</th>\n",
       "      <th>instrumentalness</th>\n",
       "      <th>liveness</th>\n",
       "      <th>valence</th>\n",
       "    </tr>\n",
       "    <tr>\n",
       "      <th>Performer</th>\n",
       "      <th></th>\n",
       "      <th></th>\n",
       "      <th></th>\n",
       "      <th></th>\n",
       "      <th></th>\n",
       "      <th></th>\n",
       "      <th></th>\n",
       "    </tr>\n",
       "  </thead>\n",
       "  <tbody>\n",
       "    <tr>\n",
       "      <th>Jeremih</th>\n",
       "      <td>0.687239</td>\n",
       "      <td>0.553448</td>\n",
       "      <td>0.057404</td>\n",
       "      <td>0.288418</td>\n",
       "      <td>0.0</td>\n",
       "      <td>0.207627</td>\n",
       "      <td>0.555104</td>\n",
       "    </tr>\n",
       "  </tbody>\n",
       "</table>\n",
       "</div>"
      ],
      "text/plain": [
       "           danceability    energy  speechiness  acousticness  \\\n",
       "Performer                                                      \n",
       "Jeremih        0.687239  0.553448     0.057404      0.288418   \n",
       "\n",
       "           instrumentalness  liveness   valence  \n",
       "Performer                                        \n",
       "Jeremih                 0.0  0.207627  0.555104  "
      ]
     },
     "execution_count": 31,
     "metadata": {},
     "output_type": "execute_result"
    }
   ],
   "source": [
    "Check = artists[artists.index=='Jeremih']\n",
    "Check"
   ]
  },
  {
   "cell_type": "code",
   "execution_count": 32,
   "id": "e92f933a",
   "metadata": {},
   "outputs": [
    {
     "data": {
      "text/html": [
       "<div>\n",
       "<style scoped>\n",
       "    .dataframe tbody tr th:only-of-type {\n",
       "        vertical-align: middle;\n",
       "    }\n",
       "\n",
       "    .dataframe tbody tr th {\n",
       "        vertical-align: top;\n",
       "    }\n",
       "\n",
       "    .dataframe thead th {\n",
       "        text-align: right;\n",
       "    }\n",
       "</style>\n",
       "<table border=\"1\" class=\"dataframe\">\n",
       "  <thead>\n",
       "    <tr style=\"text-align: right;\">\n",
       "      <th></th>\n",
       "      <th>danceability</th>\n",
       "      <th>energy</th>\n",
       "      <th>speechiness</th>\n",
       "      <th>acousticness</th>\n",
       "      <th>instrumentalness</th>\n",
       "      <th>liveness</th>\n",
       "      <th>valence</th>\n",
       "    </tr>\n",
       "  </thead>\n",
       "  <tbody>\n",
       "    <tr>\n",
       "      <th>2021-12-31 00:00:00</th>\n",
       "      <td>0.651664</td>\n",
       "      <td>0.593304</td>\n",
       "      <td>0.107856</td>\n",
       "      <td>0.289071</td>\n",
       "      <td>0.00317</td>\n",
       "      <td>0.160534</td>\n",
       "      <td>0.498986</td>\n",
       "    </tr>\n",
       "    <tr>\n",
       "      <th>Jeremih</th>\n",
       "      <td>0.687239</td>\n",
       "      <td>0.553448</td>\n",
       "      <td>0.057404</td>\n",
       "      <td>0.288418</td>\n",
       "      <td>0.00000</td>\n",
       "      <td>0.207627</td>\n",
       "      <td>0.555104</td>\n",
       "    </tr>\n",
       "  </tbody>\n",
       "</table>\n",
       "</div>"
      ],
      "text/plain": [
       "                     danceability    energy  speechiness  acousticness  \\\n",
       "2021-12-31 00:00:00      0.651664  0.593304     0.107856      0.289071   \n",
       "Jeremih                  0.687239  0.553448     0.057404      0.288418   \n",
       "\n",
       "                     instrumentalness  liveness   valence  \n",
       "2021-12-31 00:00:00           0.00317  0.160534  0.498986  \n",
       "Jeremih                       0.00000  0.207627  0.555104  "
      ]
     },
     "execution_count": 32,
     "metadata": {},
     "output_type": "execute_result"
    }
   ],
   "source": [
    "Check_Ideal = pd.concat([df2, Check])\n",
    "Check_Ideal"
   ]
  },
  {
   "cell_type": "code",
   "execution_count": 33,
   "id": "8a92a72b",
   "metadata": {},
   "outputs": [
    {
     "data": {
      "text/plain": [
       "0.23291656006811987"
      ]
     },
     "execution_count": 33,
     "metadata": {},
     "output_type": "execute_result"
    }
   ],
   "source": [
    "diff = Check_Ideal.iloc[0] - Check_Ideal.iloc[1]\n",
    "diff.abs().sum()"
   ]
  },
  {
   "cell_type": "code",
   "execution_count": null,
   "id": "3fd8822a",
   "metadata": {},
   "outputs": [],
   "source": []
  },
  {
   "cell_type": "code",
   "execution_count": 34,
   "id": "aa7cd779",
   "metadata": {},
   "outputs": [
    {
     "data": {
      "text/html": [
       "<div>\n",
       "<style scoped>\n",
       "    .dataframe tbody tr th:only-of-type {\n",
       "        vertical-align: middle;\n",
       "    }\n",
       "\n",
       "    .dataframe tbody tr th {\n",
       "        vertical-align: top;\n",
       "    }\n",
       "\n",
       "    .dataframe thead th {\n",
       "        text-align: right;\n",
       "    }\n",
       "</style>\n",
       "<table border=\"1\" class=\"dataframe\">\n",
       "  <thead>\n",
       "    <tr style=\"text-align: right;\">\n",
       "      <th></th>\n",
       "      <th>danceability</th>\n",
       "      <th>energy</th>\n",
       "      <th>speechiness</th>\n",
       "      <th>acousticness</th>\n",
       "      <th>instrumentalness</th>\n",
       "      <th>liveness</th>\n",
       "      <th>valence</th>\n",
       "    </tr>\n",
       "    <tr>\n",
       "      <th>Performer</th>\n",
       "      <th></th>\n",
       "      <th></th>\n",
       "      <th></th>\n",
       "      <th></th>\n",
       "      <th></th>\n",
       "      <th></th>\n",
       "      <th></th>\n",
       "    </tr>\n",
       "  </thead>\n",
       "  <tbody>\n",
       "    <tr>\n",
       "      <th>Justin Bieber</th>\n",
       "      <td>0.640524</td>\n",
       "      <td>0.604489</td>\n",
       "      <td>0.119881</td>\n",
       "      <td>0.320002</td>\n",
       "      <td>0.000244</td>\n",
       "      <td>0.18661</td>\n",
       "      <td>0.518942</td>\n",
       "    </tr>\n",
       "  </tbody>\n",
       "</table>\n",
       "</div>"
      ],
      "text/plain": [
       "               danceability    energy  speechiness  acousticness  \\\n",
       "Performer                                                          \n",
       "Justin Bieber      0.640524  0.604489     0.119881      0.320002   \n",
       "\n",
       "               instrumentalness  liveness   valence  \n",
       "Performer                                            \n",
       "Justin Bieber          0.000244   0.18661  0.518942  "
      ]
     },
     "execution_count": 34,
     "metadata": {},
     "output_type": "execute_result"
    }
   ],
   "source": [
    "Check = artists[artists.index=='Justin Bieber']\n",
    "Check"
   ]
  },
  {
   "cell_type": "code",
   "execution_count": 35,
   "id": "b5c65a1f",
   "metadata": {},
   "outputs": [
    {
     "data": {
      "text/html": [
       "<div>\n",
       "<style scoped>\n",
       "    .dataframe tbody tr th:only-of-type {\n",
       "        vertical-align: middle;\n",
       "    }\n",
       "\n",
       "    .dataframe tbody tr th {\n",
       "        vertical-align: top;\n",
       "    }\n",
       "\n",
       "    .dataframe thead th {\n",
       "        text-align: right;\n",
       "    }\n",
       "</style>\n",
       "<table border=\"1\" class=\"dataframe\">\n",
       "  <thead>\n",
       "    <tr style=\"text-align: right;\">\n",
       "      <th></th>\n",
       "      <th>danceability</th>\n",
       "      <th>energy</th>\n",
       "      <th>speechiness</th>\n",
       "      <th>acousticness</th>\n",
       "      <th>instrumentalness</th>\n",
       "      <th>liveness</th>\n",
       "      <th>valence</th>\n",
       "    </tr>\n",
       "  </thead>\n",
       "  <tbody>\n",
       "    <tr>\n",
       "      <th>2021-12-31 00:00:00</th>\n",
       "      <td>0.651664</td>\n",
       "      <td>0.593304</td>\n",
       "      <td>0.107856</td>\n",
       "      <td>0.289071</td>\n",
       "      <td>0.003170</td>\n",
       "      <td>0.160534</td>\n",
       "      <td>0.498986</td>\n",
       "    </tr>\n",
       "    <tr>\n",
       "      <th>Justin Bieber</th>\n",
       "      <td>0.640524</td>\n",
       "      <td>0.604489</td>\n",
       "      <td>0.119881</td>\n",
       "      <td>0.320002</td>\n",
       "      <td>0.000244</td>\n",
       "      <td>0.186610</td>\n",
       "      <td>0.518942</td>\n",
       "    </tr>\n",
       "  </tbody>\n",
       "</table>\n",
       "</div>"
      ],
      "text/plain": [
       "                     danceability    energy  speechiness  acousticness  \\\n",
       "2021-12-31 00:00:00      0.651664  0.593304     0.107856      0.289071   \n",
       "Justin Bieber            0.640524  0.604489     0.119881      0.320002   \n",
       "\n",
       "                     instrumentalness  liveness   valence  \n",
       "2021-12-31 00:00:00          0.003170  0.160534  0.498986  \n",
       "Justin Bieber                0.000244  0.186610  0.518942  "
      ]
     },
     "execution_count": 35,
     "metadata": {},
     "output_type": "execute_result"
    }
   ],
   "source": [
    "Check_Ideal = pd.concat([df2, Check])\n",
    "Check_Ideal"
   ]
  },
  {
   "cell_type": "code",
   "execution_count": 36,
   "id": "f334e63a",
   "metadata": {},
   "outputs": [
    {
     "data": {
      "text/plain": [
       "0.11423984417624033"
      ]
     },
     "execution_count": 36,
     "metadata": {},
     "output_type": "execute_result"
    }
   ],
   "source": [
    "diff = Check_Ideal.iloc[0] - Check_Ideal.iloc[1]\n",
    "diff.abs().sum()"
   ]
  },
  {
   "cell_type": "code",
   "execution_count": null,
   "id": "bbfb0769",
   "metadata": {},
   "outputs": [],
   "source": []
  },
  {
   "cell_type": "code",
   "execution_count": 37,
   "id": "4c2b8266",
   "metadata": {},
   "outputs": [
    {
     "data": {
      "text/html": [
       "<div>\n",
       "<style scoped>\n",
       "    .dataframe tbody tr th:only-of-type {\n",
       "        vertical-align: middle;\n",
       "    }\n",
       "\n",
       "    .dataframe tbody tr th {\n",
       "        vertical-align: top;\n",
       "    }\n",
       "\n",
       "    .dataframe thead th {\n",
       "        text-align: right;\n",
       "    }\n",
       "</style>\n",
       "<table border=\"1\" class=\"dataframe\">\n",
       "  <thead>\n",
       "    <tr style=\"text-align: right;\">\n",
       "      <th></th>\n",
       "      <th>danceability</th>\n",
       "      <th>energy</th>\n",
       "      <th>speechiness</th>\n",
       "      <th>acousticness</th>\n",
       "      <th>instrumentalness</th>\n",
       "      <th>liveness</th>\n",
       "      <th>valence</th>\n",
       "    </tr>\n",
       "    <tr>\n",
       "      <th>Performer</th>\n",
       "      <th></th>\n",
       "      <th></th>\n",
       "      <th></th>\n",
       "      <th></th>\n",
       "      <th></th>\n",
       "      <th></th>\n",
       "      <th></th>\n",
       "    </tr>\n",
       "  </thead>\n",
       "  <tbody>\n",
       "    <tr>\n",
       "      <th>Lil Nas X</th>\n",
       "      <td>0.713385</td>\n",
       "      <td>0.561615</td>\n",
       "      <td>0.107508</td>\n",
       "      <td>0.283846</td>\n",
       "      <td>0.0</td>\n",
       "      <td>0.153969</td>\n",
       "      <td>0.602077</td>\n",
       "    </tr>\n",
       "  </tbody>\n",
       "</table>\n",
       "</div>"
      ],
      "text/plain": [
       "           danceability    energy  speechiness  acousticness  \\\n",
       "Performer                                                      \n",
       "Lil Nas X      0.713385  0.561615     0.107508      0.283846   \n",
       "\n",
       "           instrumentalness  liveness   valence  \n",
       "Performer                                        \n",
       "Lil Nas X               0.0  0.153969  0.602077  "
      ]
     },
     "execution_count": 37,
     "metadata": {},
     "output_type": "execute_result"
    }
   ],
   "source": [
    "Check = artists[artists.index=='Lil Nas X']\n",
    "Check"
   ]
  },
  {
   "cell_type": "code",
   "execution_count": 38,
   "id": "47c0a687",
   "metadata": {},
   "outputs": [
    {
     "data": {
      "text/html": [
       "<div>\n",
       "<style scoped>\n",
       "    .dataframe tbody tr th:only-of-type {\n",
       "        vertical-align: middle;\n",
       "    }\n",
       "\n",
       "    .dataframe tbody tr th {\n",
       "        vertical-align: top;\n",
       "    }\n",
       "\n",
       "    .dataframe thead th {\n",
       "        text-align: right;\n",
       "    }\n",
       "</style>\n",
       "<table border=\"1\" class=\"dataframe\">\n",
       "  <thead>\n",
       "    <tr style=\"text-align: right;\">\n",
       "      <th></th>\n",
       "      <th>danceability</th>\n",
       "      <th>energy</th>\n",
       "      <th>speechiness</th>\n",
       "      <th>acousticness</th>\n",
       "      <th>instrumentalness</th>\n",
       "      <th>liveness</th>\n",
       "      <th>valence</th>\n",
       "    </tr>\n",
       "  </thead>\n",
       "  <tbody>\n",
       "    <tr>\n",
       "      <th>2021-12-31 00:00:00</th>\n",
       "      <td>0.651664</td>\n",
       "      <td>0.593304</td>\n",
       "      <td>0.107856</td>\n",
       "      <td>0.289071</td>\n",
       "      <td>0.00317</td>\n",
       "      <td>0.160534</td>\n",
       "      <td>0.498986</td>\n",
       "    </tr>\n",
       "    <tr>\n",
       "      <th>Lil Nas X</th>\n",
       "      <td>0.713385</td>\n",
       "      <td>0.561615</td>\n",
       "      <td>0.107508</td>\n",
       "      <td>0.283846</td>\n",
       "      <td>0.00000</td>\n",
       "      <td>0.153969</td>\n",
       "      <td>0.602077</td>\n",
       "    </tr>\n",
       "  </tbody>\n",
       "</table>\n",
       "</div>"
      ],
      "text/plain": [
       "                     danceability    energy  speechiness  acousticness  \\\n",
       "2021-12-31 00:00:00      0.651664  0.593304     0.107856      0.289071   \n",
       "Lil Nas X                0.713385  0.561615     0.107508      0.283846   \n",
       "\n",
       "                     instrumentalness  liveness   valence  \n",
       "2021-12-31 00:00:00           0.00317  0.160534  0.498986  \n",
       "Lil Nas X                     0.00000  0.153969  0.602077  "
      ]
     },
     "execution_count": 38,
     "metadata": {},
     "output_type": "execute_result"
    }
   ],
   "source": [
    "Check_Ideal = pd.concat([df2, Check])\n",
    "Check_Ideal"
   ]
  },
  {
   "cell_type": "code",
   "execution_count": 39,
   "id": "f58010e5",
   "metadata": {},
   "outputs": [
    {
     "data": {
      "text/plain": [
       "0.21180666696394873"
      ]
     },
     "execution_count": 39,
     "metadata": {},
     "output_type": "execute_result"
    }
   ],
   "source": [
    "diff = Check_Ideal.iloc[0] - Check_Ideal.iloc[1]\n",
    "diff.abs().sum()"
   ]
  },
  {
   "cell_type": "code",
   "execution_count": null,
   "id": "21c2a2f8",
   "metadata": {},
   "outputs": [],
   "source": []
  },
  {
   "cell_type": "code",
   "execution_count": 40,
   "id": "ea1b90ff",
   "metadata": {},
   "outputs": [
    {
     "data": {
      "text/html": [
       "<div>\n",
       "<style scoped>\n",
       "    .dataframe tbody tr th:only-of-type {\n",
       "        vertical-align: middle;\n",
       "    }\n",
       "\n",
       "    .dataframe tbody tr th {\n",
       "        vertical-align: top;\n",
       "    }\n",
       "\n",
       "    .dataframe thead th {\n",
       "        text-align: right;\n",
       "    }\n",
       "</style>\n",
       "<table border=\"1\" class=\"dataframe\">\n",
       "  <thead>\n",
       "    <tr style=\"text-align: right;\">\n",
       "      <th></th>\n",
       "      <th>danceability</th>\n",
       "      <th>energy</th>\n",
       "      <th>speechiness</th>\n",
       "      <th>acousticness</th>\n",
       "      <th>instrumentalness</th>\n",
       "      <th>liveness</th>\n",
       "      <th>valence</th>\n",
       "    </tr>\n",
       "    <tr>\n",
       "      <th>Performer</th>\n",
       "      <th></th>\n",
       "      <th></th>\n",
       "      <th></th>\n",
       "      <th></th>\n",
       "      <th></th>\n",
       "      <th></th>\n",
       "      <th></th>\n",
       "    </tr>\n",
       "  </thead>\n",
       "  <tbody>\n",
       "    <tr>\n",
       "      <th>Lil Skies</th>\n",
       "      <td>0.6835</td>\n",
       "      <td>0.61</td>\n",
       "      <td>0.1255</td>\n",
       "      <td>0.3825</td>\n",
       "      <td>0.0</td>\n",
       "      <td>0.115</td>\n",
       "      <td>0.475</td>\n",
       "    </tr>\n",
       "  </tbody>\n",
       "</table>\n",
       "</div>"
      ],
      "text/plain": [
       "           danceability  energy  speechiness  acousticness  instrumentalness  \\\n",
       "Performer                                                                      \n",
       "Lil Skies        0.6835    0.61       0.1255        0.3825               0.0   \n",
       "\n",
       "           liveness  valence  \n",
       "Performer                     \n",
       "Lil Skies     0.115    0.475  "
      ]
     },
     "execution_count": 40,
     "metadata": {},
     "output_type": "execute_result"
    }
   ],
   "source": [
    "Check = artists[artists.index=='Lil Skies']\n",
    "Check"
   ]
  },
  {
   "cell_type": "code",
   "execution_count": 41,
   "id": "b0935102",
   "metadata": {},
   "outputs": [
    {
     "data": {
      "text/html": [
       "<div>\n",
       "<style scoped>\n",
       "    .dataframe tbody tr th:only-of-type {\n",
       "        vertical-align: middle;\n",
       "    }\n",
       "\n",
       "    .dataframe tbody tr th {\n",
       "        vertical-align: top;\n",
       "    }\n",
       "\n",
       "    .dataframe thead th {\n",
       "        text-align: right;\n",
       "    }\n",
       "</style>\n",
       "<table border=\"1\" class=\"dataframe\">\n",
       "  <thead>\n",
       "    <tr style=\"text-align: right;\">\n",
       "      <th></th>\n",
       "      <th>danceability</th>\n",
       "      <th>energy</th>\n",
       "      <th>speechiness</th>\n",
       "      <th>acousticness</th>\n",
       "      <th>instrumentalness</th>\n",
       "      <th>liveness</th>\n",
       "      <th>valence</th>\n",
       "    </tr>\n",
       "  </thead>\n",
       "  <tbody>\n",
       "    <tr>\n",
       "      <th>2021-12-31 00:00:00</th>\n",
       "      <td>0.651664</td>\n",
       "      <td>0.593304</td>\n",
       "      <td>0.107856</td>\n",
       "      <td>0.289071</td>\n",
       "      <td>0.00317</td>\n",
       "      <td>0.160534</td>\n",
       "      <td>0.498986</td>\n",
       "    </tr>\n",
       "    <tr>\n",
       "      <th>Lil Skies</th>\n",
       "      <td>0.683500</td>\n",
       "      <td>0.610000</td>\n",
       "      <td>0.125500</td>\n",
       "      <td>0.382500</td>\n",
       "      <td>0.00000</td>\n",
       "      <td>0.115000</td>\n",
       "      <td>0.475000</td>\n",
       "    </tr>\n",
       "  </tbody>\n",
       "</table>\n",
       "</div>"
      ],
      "text/plain": [
       "                     danceability    energy  speechiness  acousticness  \\\n",
       "2021-12-31 00:00:00      0.651664  0.593304     0.107856      0.289071   \n",
       "Lil Skies                0.683500  0.610000     0.125500      0.382500   \n",
       "\n",
       "                     instrumentalness  liveness   valence  \n",
       "2021-12-31 00:00:00           0.00317  0.160534  0.498986  \n",
       "Lil Skies                     0.00000  0.115000  0.475000  "
      ]
     },
     "execution_count": 41,
     "metadata": {},
     "output_type": "execute_result"
    }
   ],
   "source": [
    "Check_Ideal = pd.concat([df2, Check])\n",
    "Check_Ideal"
   ]
  },
  {
   "cell_type": "code",
   "execution_count": 42,
   "id": "7c248407",
   "metadata": {},
   "outputs": [
    {
     "data": {
      "text/plain": [
       "0.23229432301089914"
      ]
     },
     "execution_count": 42,
     "metadata": {},
     "output_type": "execute_result"
    }
   ],
   "source": [
    "diff = Check_Ideal.iloc[0] - Check_Ideal.iloc[1]\n",
    "diff.abs().sum()"
   ]
  },
  {
   "cell_type": "code",
   "execution_count": null,
   "id": "ed55c79e",
   "metadata": {},
   "outputs": [],
   "source": []
  },
  {
   "cell_type": "code",
   "execution_count": 43,
   "id": "e9165e70",
   "metadata": {},
   "outputs": [
    {
     "data": {
      "text/html": [
       "<div>\n",
       "<style scoped>\n",
       "    .dataframe tbody tr th:only-of-type {\n",
       "        vertical-align: middle;\n",
       "    }\n",
       "\n",
       "    .dataframe tbody tr th {\n",
       "        vertical-align: top;\n",
       "    }\n",
       "\n",
       "    .dataframe thead th {\n",
       "        text-align: right;\n",
       "    }\n",
       "</style>\n",
       "<table border=\"1\" class=\"dataframe\">\n",
       "  <thead>\n",
       "    <tr style=\"text-align: right;\">\n",
       "      <th></th>\n",
       "      <th>danceability</th>\n",
       "      <th>energy</th>\n",
       "      <th>speechiness</th>\n",
       "      <th>acousticness</th>\n",
       "      <th>instrumentalness</th>\n",
       "      <th>liveness</th>\n",
       "      <th>valence</th>\n",
       "    </tr>\n",
       "    <tr>\n",
       "      <th>Performer</th>\n",
       "      <th></th>\n",
       "      <th></th>\n",
       "      <th></th>\n",
       "      <th></th>\n",
       "      <th></th>\n",
       "      <th></th>\n",
       "      <th></th>\n",
       "    </tr>\n",
       "  </thead>\n",
       "  <tbody>\n",
       "    <tr>\n",
       "      <th>Marques Houston</th>\n",
       "      <td>0.715741</td>\n",
       "      <td>0.550963</td>\n",
       "      <td>0.146437</td>\n",
       "      <td>0.210378</td>\n",
       "      <td>0.000004</td>\n",
       "      <td>0.133933</td>\n",
       "      <td>0.434926</td>\n",
       "    </tr>\n",
       "  </tbody>\n",
       "</table>\n",
       "</div>"
      ],
      "text/plain": [
       "                 danceability    energy  speechiness  acousticness  \\\n",
       "Performer                                                            \n",
       "Marques Houston      0.715741  0.550963     0.146437      0.210378   \n",
       "\n",
       "                 instrumentalness  liveness   valence  \n",
       "Performer                                              \n",
       "Marques Houston          0.000004  0.133933  0.434926  "
      ]
     },
     "execution_count": 43,
     "metadata": {},
     "output_type": "execute_result"
    }
   ],
   "source": [
    "Check = artists[artists.index=='Marques Houston']\n",
    "Check"
   ]
  },
  {
   "cell_type": "code",
   "execution_count": 44,
   "id": "f63d5da5",
   "metadata": {},
   "outputs": [
    {
     "data": {
      "text/html": [
       "<div>\n",
       "<style scoped>\n",
       "    .dataframe tbody tr th:only-of-type {\n",
       "        vertical-align: middle;\n",
       "    }\n",
       "\n",
       "    .dataframe tbody tr th {\n",
       "        vertical-align: top;\n",
       "    }\n",
       "\n",
       "    .dataframe thead th {\n",
       "        text-align: right;\n",
       "    }\n",
       "</style>\n",
       "<table border=\"1\" class=\"dataframe\">\n",
       "  <thead>\n",
       "    <tr style=\"text-align: right;\">\n",
       "      <th></th>\n",
       "      <th>danceability</th>\n",
       "      <th>energy</th>\n",
       "      <th>speechiness</th>\n",
       "      <th>acousticness</th>\n",
       "      <th>instrumentalness</th>\n",
       "      <th>liveness</th>\n",
       "      <th>valence</th>\n",
       "    </tr>\n",
       "  </thead>\n",
       "  <tbody>\n",
       "    <tr>\n",
       "      <th>2021-12-31 00:00:00</th>\n",
       "      <td>0.651664</td>\n",
       "      <td>0.593304</td>\n",
       "      <td>0.107856</td>\n",
       "      <td>0.289071</td>\n",
       "      <td>0.003170</td>\n",
       "      <td>0.160534</td>\n",
       "      <td>0.498986</td>\n",
       "    </tr>\n",
       "    <tr>\n",
       "      <th>Marques Houston</th>\n",
       "      <td>0.715741</td>\n",
       "      <td>0.550963</td>\n",
       "      <td>0.146437</td>\n",
       "      <td>0.210378</td>\n",
       "      <td>0.000004</td>\n",
       "      <td>0.133933</td>\n",
       "      <td>0.434926</td>\n",
       "    </tr>\n",
       "  </tbody>\n",
       "</table>\n",
       "</div>"
      ],
      "text/plain": [
       "                     danceability    energy  speechiness  acousticness  \\\n",
       "2021-12-31 00:00:00      0.651664  0.593304     0.107856      0.289071   \n",
       "Marques Houston          0.715741  0.550963     0.146437      0.210378   \n",
       "\n",
       "                     instrumentalness  liveness   valence  \n",
       "2021-12-31 00:00:00          0.003170  0.160534  0.498986  \n",
       "Marques Houston              0.000004  0.133933  0.434926  "
      ]
     },
     "execution_count": 44,
     "metadata": {},
     "output_type": "execute_result"
    }
   ],
   "source": [
    "Check_Ideal = pd.concat([df2, Check])\n",
    "Check_Ideal"
   ]
  },
  {
   "cell_type": "code",
   "execution_count": 45,
   "id": "9576d1a3",
   "metadata": {},
   "outputs": [
    {
     "data": {
      "text/plain": [
       "0.31751835309667964"
      ]
     },
     "execution_count": 45,
     "metadata": {},
     "output_type": "execute_result"
    }
   ],
   "source": [
    "diff = Check_Ideal.iloc[0] - Check_Ideal.iloc[1]\n",
    "diff.abs().sum()"
   ]
  },
  {
   "cell_type": "code",
   "execution_count": null,
   "id": "d0481e63",
   "metadata": {},
   "outputs": [],
   "source": []
  },
  {
   "cell_type": "code",
   "execution_count": 46,
   "id": "7dbac388",
   "metadata": {},
   "outputs": [
    {
     "data": {
      "text/html": [
       "<div>\n",
       "<style scoped>\n",
       "    .dataframe tbody tr th:only-of-type {\n",
       "        vertical-align: middle;\n",
       "    }\n",
       "\n",
       "    .dataframe tbody tr th {\n",
       "        vertical-align: top;\n",
       "    }\n",
       "\n",
       "    .dataframe thead th {\n",
       "        text-align: right;\n",
       "    }\n",
       "</style>\n",
       "<table border=\"1\" class=\"dataframe\">\n",
       "  <thead>\n",
       "    <tr style=\"text-align: right;\">\n",
       "      <th></th>\n",
       "      <th>danceability</th>\n",
       "      <th>energy</th>\n",
       "      <th>speechiness</th>\n",
       "      <th>acousticness</th>\n",
       "      <th>instrumentalness</th>\n",
       "      <th>liveness</th>\n",
       "      <th>valence</th>\n",
       "    </tr>\n",
       "    <tr>\n",
       "      <th>Performer</th>\n",
       "      <th></th>\n",
       "      <th></th>\n",
       "      <th></th>\n",
       "      <th></th>\n",
       "      <th></th>\n",
       "      <th></th>\n",
       "      <th></th>\n",
       "    </tr>\n",
       "  </thead>\n",
       "  <tbody>\n",
       "    <tr>\n",
       "      <th>Monica</th>\n",
       "      <td>0.633815</td>\n",
       "      <td>0.560826</td>\n",
       "      <td>0.087149</td>\n",
       "      <td>0.200023</td>\n",
       "      <td>0.000024</td>\n",
       "      <td>0.211975</td>\n",
       "      <td>0.561908</td>\n",
       "    </tr>\n",
       "  </tbody>\n",
       "</table>\n",
       "</div>"
      ],
      "text/plain": [
       "           danceability    energy  speechiness  acousticness  \\\n",
       "Performer                                                      \n",
       "Monica         0.633815  0.560826     0.087149      0.200023   \n",
       "\n",
       "           instrumentalness  liveness   valence  \n",
       "Performer                                        \n",
       "Monica             0.000024  0.211975  0.561908  "
      ]
     },
     "execution_count": 46,
     "metadata": {},
     "output_type": "execute_result"
    }
   ],
   "source": [
    "Check = artists[artists.index=='Monica']\n",
    "Check"
   ]
  },
  {
   "cell_type": "code",
   "execution_count": 47,
   "id": "b28208cd",
   "metadata": {},
   "outputs": [
    {
     "data": {
      "text/html": [
       "<div>\n",
       "<style scoped>\n",
       "    .dataframe tbody tr th:only-of-type {\n",
       "        vertical-align: middle;\n",
       "    }\n",
       "\n",
       "    .dataframe tbody tr th {\n",
       "        vertical-align: top;\n",
       "    }\n",
       "\n",
       "    .dataframe thead th {\n",
       "        text-align: right;\n",
       "    }\n",
       "</style>\n",
       "<table border=\"1\" class=\"dataframe\">\n",
       "  <thead>\n",
       "    <tr style=\"text-align: right;\">\n",
       "      <th></th>\n",
       "      <th>danceability</th>\n",
       "      <th>energy</th>\n",
       "      <th>speechiness</th>\n",
       "      <th>acousticness</th>\n",
       "      <th>instrumentalness</th>\n",
       "      <th>liveness</th>\n",
       "      <th>valence</th>\n",
       "    </tr>\n",
       "  </thead>\n",
       "  <tbody>\n",
       "    <tr>\n",
       "      <th>2021-12-31 00:00:00</th>\n",
       "      <td>0.651664</td>\n",
       "      <td>0.593304</td>\n",
       "      <td>0.107856</td>\n",
       "      <td>0.289071</td>\n",
       "      <td>0.003170</td>\n",
       "      <td>0.160534</td>\n",
       "      <td>0.498986</td>\n",
       "    </tr>\n",
       "    <tr>\n",
       "      <th>Monica</th>\n",
       "      <td>0.633815</td>\n",
       "      <td>0.560826</td>\n",
       "      <td>0.087149</td>\n",
       "      <td>0.200023</td>\n",
       "      <td>0.000024</td>\n",
       "      <td>0.211975</td>\n",
       "      <td>0.561908</td>\n",
       "    </tr>\n",
       "  </tbody>\n",
       "</table>\n",
       "</div>"
      ],
      "text/plain": [
       "                     danceability    energy  speechiness  acousticness  \\\n",
       "2021-12-31 00:00:00      0.651664  0.593304     0.107856      0.289071   \n",
       "Monica                   0.633815  0.560826     0.087149      0.200023   \n",
       "\n",
       "                     instrumentalness  liveness   valence  \n",
       "2021-12-31 00:00:00          0.003170  0.160534  0.498986  \n",
       "Monica                       0.000024  0.211975  0.561908  "
      ]
     },
     "execution_count": 47,
     "metadata": {},
     "output_type": "execute_result"
    }
   ],
   "source": [
    "Check_Ideal = pd.concat([df2, Check])\n",
    "Check_Ideal"
   ]
  },
  {
   "cell_type": "code",
   "execution_count": 48,
   "id": "db1828ca",
   "metadata": {},
   "outputs": [
    {
     "data": {
      "text/plain": [
       "0.27759052946451834"
      ]
     },
     "execution_count": 48,
     "metadata": {},
     "output_type": "execute_result"
    }
   ],
   "source": [
    "diff = Check_Ideal.iloc[0] - Check_Ideal.iloc[1]\n",
    "diff.abs().sum()"
   ]
  },
  {
   "cell_type": "code",
   "execution_count": null,
   "id": "d6106150",
   "metadata": {},
   "outputs": [],
   "source": []
  },
  {
   "cell_type": "code",
   "execution_count": 49,
   "id": "b997f7c1",
   "metadata": {},
   "outputs": [
    {
     "data": {
      "text/html": [
       "<div>\n",
       "<style scoped>\n",
       "    .dataframe tbody tr th:only-of-type {\n",
       "        vertical-align: middle;\n",
       "    }\n",
       "\n",
       "    .dataframe tbody tr th {\n",
       "        vertical-align: top;\n",
       "    }\n",
       "\n",
       "    .dataframe thead th {\n",
       "        text-align: right;\n",
       "    }\n",
       "</style>\n",
       "<table border=\"1\" class=\"dataframe\">\n",
       "  <thead>\n",
       "    <tr style=\"text-align: right;\">\n",
       "      <th></th>\n",
       "      <th>danceability</th>\n",
       "      <th>energy</th>\n",
       "      <th>speechiness</th>\n",
       "      <th>acousticness</th>\n",
       "      <th>instrumentalness</th>\n",
       "      <th>liveness</th>\n",
       "      <th>valence</th>\n",
       "    </tr>\n",
       "    <tr>\n",
       "      <th>Performer</th>\n",
       "      <th></th>\n",
       "      <th></th>\n",
       "      <th></th>\n",
       "      <th></th>\n",
       "      <th></th>\n",
       "      <th></th>\n",
       "      <th></th>\n",
       "    </tr>\n",
       "  </thead>\n",
       "  <tbody>\n",
       "    <tr>\n",
       "      <th>Musiq</th>\n",
       "      <td>0.591594</td>\n",
       "      <td>0.613941</td>\n",
       "      <td>0.131465</td>\n",
       "      <td>0.324406</td>\n",
       "      <td>0.0</td>\n",
       "      <td>0.181926</td>\n",
       "      <td>0.449891</td>\n",
       "    </tr>\n",
       "  </tbody>\n",
       "</table>\n",
       "</div>"
      ],
      "text/plain": [
       "           danceability    energy  speechiness  acousticness  \\\n",
       "Performer                                                      \n",
       "Musiq          0.591594  0.613941     0.131465      0.324406   \n",
       "\n",
       "           instrumentalness  liveness   valence  \n",
       "Performer                                        \n",
       "Musiq                   0.0  0.181926  0.449891  "
      ]
     },
     "execution_count": 49,
     "metadata": {},
     "output_type": "execute_result"
    }
   ],
   "source": [
    "Check = artists[artists.index=='Musiq']\n",
    "Check"
   ]
  },
  {
   "cell_type": "code",
   "execution_count": 50,
   "id": "f1ed6e9f",
   "metadata": {},
   "outputs": [
    {
     "data": {
      "text/html": [
       "<div>\n",
       "<style scoped>\n",
       "    .dataframe tbody tr th:only-of-type {\n",
       "        vertical-align: middle;\n",
       "    }\n",
       "\n",
       "    .dataframe tbody tr th {\n",
       "        vertical-align: top;\n",
       "    }\n",
       "\n",
       "    .dataframe thead th {\n",
       "        text-align: right;\n",
       "    }\n",
       "</style>\n",
       "<table border=\"1\" class=\"dataframe\">\n",
       "  <thead>\n",
       "    <tr style=\"text-align: right;\">\n",
       "      <th></th>\n",
       "      <th>danceability</th>\n",
       "      <th>energy</th>\n",
       "      <th>speechiness</th>\n",
       "      <th>acousticness</th>\n",
       "      <th>instrumentalness</th>\n",
       "      <th>liveness</th>\n",
       "      <th>valence</th>\n",
       "    </tr>\n",
       "  </thead>\n",
       "  <tbody>\n",
       "    <tr>\n",
       "      <th>2021-12-31 00:00:00</th>\n",
       "      <td>0.651664</td>\n",
       "      <td>0.593304</td>\n",
       "      <td>0.107856</td>\n",
       "      <td>0.289071</td>\n",
       "      <td>0.00317</td>\n",
       "      <td>0.160534</td>\n",
       "      <td>0.498986</td>\n",
       "    </tr>\n",
       "    <tr>\n",
       "      <th>Musiq</th>\n",
       "      <td>0.591594</td>\n",
       "      <td>0.613941</td>\n",
       "      <td>0.131465</td>\n",
       "      <td>0.324406</td>\n",
       "      <td>0.00000</td>\n",
       "      <td>0.181926</td>\n",
       "      <td>0.449891</td>\n",
       "    </tr>\n",
       "  </tbody>\n",
       "</table>\n",
       "</div>"
      ],
      "text/plain": [
       "                     danceability    energy  speechiness  acousticness  \\\n",
       "2021-12-31 00:00:00      0.651664  0.593304     0.107856      0.289071   \n",
       "Musiq                    0.591594  0.613941     0.131465      0.324406   \n",
       "\n",
       "                     instrumentalness  liveness   valence  \n",
       "2021-12-31 00:00:00           0.00317  0.160534  0.498986  \n",
       "Musiq                         0.00000  0.181926  0.449891  "
      ]
     },
     "execution_count": 50,
     "metadata": {},
     "output_type": "execute_result"
    }
   ],
   "source": [
    "Check_Ideal = pd.concat([df2, Check])\n",
    "Check_Ideal"
   ]
  },
  {
   "cell_type": "code",
   "execution_count": 51,
   "id": "9cc34cd2",
   "metadata": {},
   "outputs": [
    {
     "data": {
      "text/plain": [
       "0.21330810616033133"
      ]
     },
     "execution_count": 51,
     "metadata": {},
     "output_type": "execute_result"
    }
   ],
   "source": [
    "diff = Check_Ideal.iloc[0] - Check_Ideal.iloc[1]\n",
    "diff.abs().sum()"
   ]
  },
  {
   "cell_type": "code",
   "execution_count": null,
   "id": "b47797ea",
   "metadata": {},
   "outputs": [],
   "source": []
  },
  {
   "cell_type": "code",
   "execution_count": 52,
   "id": "99bc3204",
   "metadata": {},
   "outputs": [
    {
     "data": {
      "text/html": [
       "<div>\n",
       "<style scoped>\n",
       "    .dataframe tbody tr th:only-of-type {\n",
       "        vertical-align: middle;\n",
       "    }\n",
       "\n",
       "    .dataframe tbody tr th {\n",
       "        vertical-align: top;\n",
       "    }\n",
       "\n",
       "    .dataframe thead th {\n",
       "        text-align: right;\n",
       "    }\n",
       "</style>\n",
       "<table border=\"1\" class=\"dataframe\">\n",
       "  <thead>\n",
       "    <tr style=\"text-align: right;\">\n",
       "      <th></th>\n",
       "      <th>danceability</th>\n",
       "      <th>energy</th>\n",
       "      <th>speechiness</th>\n",
       "      <th>acousticness</th>\n",
       "      <th>instrumentalness</th>\n",
       "      <th>liveness</th>\n",
       "      <th>valence</th>\n",
       "    </tr>\n",
       "    <tr>\n",
       "      <th>Performer</th>\n",
       "      <th></th>\n",
       "      <th></th>\n",
       "      <th></th>\n",
       "      <th></th>\n",
       "      <th></th>\n",
       "      <th></th>\n",
       "      <th></th>\n",
       "    </tr>\n",
       "  </thead>\n",
       "  <tbody>\n",
       "    <tr>\n",
       "      <th>Taylor Swift</th>\n",
       "      <td>0.605309</td>\n",
       "      <td>0.655652</td>\n",
       "      <td>0.055582</td>\n",
       "      <td>0.186298</td>\n",
       "      <td>0.000705</td>\n",
       "      <td>0.140975</td>\n",
       "      <td>0.476707</td>\n",
       "    </tr>\n",
       "  </tbody>\n",
       "</table>\n",
       "</div>"
      ],
      "text/plain": [
       "              danceability    energy  speechiness  acousticness  \\\n",
       "Performer                                                         \n",
       "Taylor Swift      0.605309  0.655652     0.055582      0.186298   \n",
       "\n",
       "              instrumentalness  liveness   valence  \n",
       "Performer                                           \n",
       "Taylor Swift          0.000705  0.140975  0.476707  "
      ]
     },
     "execution_count": 52,
     "metadata": {},
     "output_type": "execute_result"
    }
   ],
   "source": [
    "Check = artists[artists.index=='Taylor Swift']\n",
    "Check"
   ]
  },
  {
   "cell_type": "code",
   "execution_count": 53,
   "id": "5811d5a6",
   "metadata": {},
   "outputs": [
    {
     "data": {
      "text/html": [
       "<div>\n",
       "<style scoped>\n",
       "    .dataframe tbody tr th:only-of-type {\n",
       "        vertical-align: middle;\n",
       "    }\n",
       "\n",
       "    .dataframe tbody tr th {\n",
       "        vertical-align: top;\n",
       "    }\n",
       "\n",
       "    .dataframe thead th {\n",
       "        text-align: right;\n",
       "    }\n",
       "</style>\n",
       "<table border=\"1\" class=\"dataframe\">\n",
       "  <thead>\n",
       "    <tr style=\"text-align: right;\">\n",
       "      <th></th>\n",
       "      <th>danceability</th>\n",
       "      <th>energy</th>\n",
       "      <th>speechiness</th>\n",
       "      <th>acousticness</th>\n",
       "      <th>instrumentalness</th>\n",
       "      <th>liveness</th>\n",
       "      <th>valence</th>\n",
       "    </tr>\n",
       "  </thead>\n",
       "  <tbody>\n",
       "    <tr>\n",
       "      <th>2021-12-31 00:00:00</th>\n",
       "      <td>0.651664</td>\n",
       "      <td>0.593304</td>\n",
       "      <td>0.107856</td>\n",
       "      <td>0.289071</td>\n",
       "      <td>0.003170</td>\n",
       "      <td>0.160534</td>\n",
       "      <td>0.498986</td>\n",
       "    </tr>\n",
       "    <tr>\n",
       "      <th>Taylor Swift</th>\n",
       "      <td>0.605309</td>\n",
       "      <td>0.655652</td>\n",
       "      <td>0.055582</td>\n",
       "      <td>0.186298</td>\n",
       "      <td>0.000705</td>\n",
       "      <td>0.140975</td>\n",
       "      <td>0.476707</td>\n",
       "    </tr>\n",
       "  </tbody>\n",
       "</table>\n",
       "</div>"
      ],
      "text/plain": [
       "                     danceability    energy  speechiness  acousticness  \\\n",
       "2021-12-31 00:00:00      0.651664  0.593304     0.107856      0.289071   \n",
       "Taylor Swift             0.605309  0.655652     0.055582      0.186298   \n",
       "\n",
       "                     instrumentalness  liveness   valence  \n",
       "2021-12-31 00:00:00          0.003170  0.160534  0.498986  \n",
       "Taylor Swift                 0.000705  0.140975  0.476707  "
      ]
     },
     "execution_count": 53,
     "metadata": {},
     "output_type": "execute_result"
    }
   ],
   "source": [
    "Check_Ideal = pd.concat([df2, Check])\n",
    "Check_Ideal"
   ]
  },
  {
   "cell_type": "code",
   "execution_count": 54,
   "id": "fbc6e0ca",
   "metadata": {},
   "outputs": [
    {
     "data": {
      "text/plain": [
       "0.30805267758649896"
      ]
     },
     "execution_count": 54,
     "metadata": {},
     "output_type": "execute_result"
    }
   ],
   "source": [
    "diff = Check_Ideal.iloc[0] - Check_Ideal.iloc[1]\n",
    "diff.abs().sum()"
   ]
  },
  {
   "cell_type": "code",
   "execution_count": null,
   "id": "59b7088b",
   "metadata": {},
   "outputs": [],
   "source": []
  },
  {
   "cell_type": "code",
   "execution_count": 55,
   "id": "a2c83593",
   "metadata": {},
   "outputs": [
    {
     "data": {
      "text/html": [
       "<div>\n",
       "<style scoped>\n",
       "    .dataframe tbody tr th:only-of-type {\n",
       "        vertical-align: middle;\n",
       "    }\n",
       "\n",
       "    .dataframe tbody tr th {\n",
       "        vertical-align: top;\n",
       "    }\n",
       "\n",
       "    .dataframe thead th {\n",
       "        text-align: right;\n",
       "    }\n",
       "</style>\n",
       "<table border=\"1\" class=\"dataframe\">\n",
       "  <thead>\n",
       "    <tr style=\"text-align: right;\">\n",
       "      <th></th>\n",
       "      <th>danceability</th>\n",
       "      <th>energy</th>\n",
       "      <th>speechiness</th>\n",
       "      <th>acousticness</th>\n",
       "      <th>instrumentalness</th>\n",
       "      <th>liveness</th>\n",
       "      <th>valence</th>\n",
       "    </tr>\n",
       "    <tr>\n",
       "      <th>Performer</th>\n",
       "      <th></th>\n",
       "      <th></th>\n",
       "      <th></th>\n",
       "      <th></th>\n",
       "      <th></th>\n",
       "      <th></th>\n",
       "      <th></th>\n",
       "    </tr>\n",
       "  </thead>\n",
       "  <tbody>\n",
       "    <tr>\n",
       "      <th>Halsey</th>\n",
       "      <td>0.670697</td>\n",
       "      <td>0.577432</td>\n",
       "      <td>0.05721</td>\n",
       "      <td>0.182748</td>\n",
       "      <td>0.000008</td>\n",
       "      <td>0.147645</td>\n",
       "      <td>0.478192</td>\n",
       "    </tr>\n",
       "  </tbody>\n",
       "</table>\n",
       "</div>"
      ],
      "text/plain": [
       "           danceability    energy  speechiness  acousticness  \\\n",
       "Performer                                                      \n",
       "Halsey         0.670697  0.577432      0.05721      0.182748   \n",
       "\n",
       "           instrumentalness  liveness   valence  \n",
       "Performer                                        \n",
       "Halsey             0.000008  0.147645  0.478192  "
      ]
     },
     "execution_count": 55,
     "metadata": {},
     "output_type": "execute_result"
    }
   ],
   "source": [
    "Check = artists[artists.index=='Halsey']\n",
    "Check"
   ]
  },
  {
   "cell_type": "code",
   "execution_count": 56,
   "id": "203236f5",
   "metadata": {},
   "outputs": [
    {
     "data": {
      "text/html": [
       "<div>\n",
       "<style scoped>\n",
       "    .dataframe tbody tr th:only-of-type {\n",
       "        vertical-align: middle;\n",
       "    }\n",
       "\n",
       "    .dataframe tbody tr th {\n",
       "        vertical-align: top;\n",
       "    }\n",
       "\n",
       "    .dataframe thead th {\n",
       "        text-align: right;\n",
       "    }\n",
       "</style>\n",
       "<table border=\"1\" class=\"dataframe\">\n",
       "  <thead>\n",
       "    <tr style=\"text-align: right;\">\n",
       "      <th></th>\n",
       "      <th>danceability</th>\n",
       "      <th>energy</th>\n",
       "      <th>speechiness</th>\n",
       "      <th>acousticness</th>\n",
       "      <th>instrumentalness</th>\n",
       "      <th>liveness</th>\n",
       "      <th>valence</th>\n",
       "    </tr>\n",
       "  </thead>\n",
       "  <tbody>\n",
       "    <tr>\n",
       "      <th>2021-12-31 00:00:00</th>\n",
       "      <td>0.651664</td>\n",
       "      <td>0.593304</td>\n",
       "      <td>0.107856</td>\n",
       "      <td>0.289071</td>\n",
       "      <td>0.003170</td>\n",
       "      <td>0.160534</td>\n",
       "      <td>0.498986</td>\n",
       "    </tr>\n",
       "    <tr>\n",
       "      <th>Halsey</th>\n",
       "      <td>0.670697</td>\n",
       "      <td>0.577432</td>\n",
       "      <td>0.057210</td>\n",
       "      <td>0.182748</td>\n",
       "      <td>0.000008</td>\n",
       "      <td>0.147645</td>\n",
       "      <td>0.478192</td>\n",
       "    </tr>\n",
       "  </tbody>\n",
       "</table>\n",
       "</div>"
      ],
      "text/plain": [
       "                     danceability    energy  speechiness  acousticness  \\\n",
       "2021-12-31 00:00:00      0.651664  0.593304     0.107856      0.289071   \n",
       "Halsey                   0.670697  0.577432     0.057210      0.182748   \n",
       "\n",
       "                     instrumentalness  liveness   valence  \n",
       "2021-12-31 00:00:00          0.003170  0.160534  0.498986  \n",
       "Halsey                       0.000008  0.147645  0.478192  "
      ]
     },
     "execution_count": 56,
     "metadata": {},
     "output_type": "execute_result"
    }
   ],
   "source": [
    "Check_Ideal = pd.concat([df2, Check])\n",
    "Check_Ideal"
   ]
  },
  {
   "cell_type": "code",
   "execution_count": 57,
   "id": "531a3935",
   "metadata": {},
   "outputs": [
    {
     "data": {
      "text/plain": [
       "0.22871652917569113"
      ]
     },
     "execution_count": 57,
     "metadata": {},
     "output_type": "execute_result"
    }
   ],
   "source": [
    "diff = Check_Ideal.iloc[0] - Check_Ideal.iloc[1]\n",
    "diff.abs().sum()"
   ]
  },
  {
   "cell_type": "code",
   "execution_count": null,
   "id": "f4d48eea",
   "metadata": {},
   "outputs": [],
   "source": []
  },
  {
   "cell_type": "code",
   "execution_count": null,
   "id": "12d23e4f",
   "metadata": {},
   "outputs": [],
   "source": []
  },
  {
   "cell_type": "code",
   "execution_count": null,
   "id": "32513e87",
   "metadata": {},
   "outputs": [],
   "source": []
  }
 ],
 "metadata": {
  "hide_input": false,
  "kernelspec": {
   "display_name": "Python 3 (ipykernel)",
   "language": "python",
   "name": "python3"
  },
  "language_info": {
   "codemirror_mode": {
    "name": "ipython",
    "version": 3
   },
   "file_extension": ".py",
   "mimetype": "text/x-python",
   "name": "python",
   "nbconvert_exporter": "python",
   "pygments_lexer": "ipython3",
   "version": "3.8.8"
  },
  "varInspector": {
   "cols": {
    "lenName": 16,
    "lenType": 16,
    "lenVar": 40
   },
   "kernels_config": {
    "python": {
     "delete_cmd_postfix": "",
     "delete_cmd_prefix": "del ",
     "library": "var_list.py",
     "varRefreshCmd": "print(var_dic_list())"
    },
    "r": {
     "delete_cmd_postfix": ") ",
     "delete_cmd_prefix": "rm(",
     "library": "var_list.r",
     "varRefreshCmd": "cat(var_dic_list()) "
    }
   },
   "types_to_exclude": [
    "module",
    "function",
    "builtin_function_or_method",
    "instance",
    "_Feature"
   ],
   "window_display": false
  }
 },
 "nbformat": 4,
 "nbformat_minor": 5
}
