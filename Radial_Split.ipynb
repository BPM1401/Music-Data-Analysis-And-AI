{
 "cells": [
  {
   "cell_type": "code",
   "execution_count": 1,
   "id": "704d9fd4",
   "metadata": {},
   "outputs": [],
   "source": [
    "import pandas as pd\n",
    "import numpy as np\n",
    "import seaborn as sns\n",
    "import matplotlib.pyplot as plt\n",
    "import plotly.express as px\n",
    "import matplotlib.ticker as ticker\n",
    "from IPython.display import Audio\n",
    "from sklearn import datasets, linear_model\n",
    "from sklearn.decomposition import PCA\n",
    "from sklearn.preprocessing import MinMaxScaler\n",
    "from sklearn.manifold import TSNE\n",
    "\n",
    "pd.set_option('display.max_columns', 50)\n",
    "pd.set_option('display.max_colwidth', 200)"
   ]
  },
  {
   "cell_type": "code",
   "execution_count": 2,
   "id": "45fc3a6a",
   "metadata": {},
   "outputs": [],
   "source": [
    "#Billboard Top 100 By Week from 1958 to 2021\n",
    "bb100 = pd.read_csv('Hot Stuff.csv')"
   ]
  },
  {
   "cell_type": "code",
   "execution_count": 3,
   "id": "870d8595",
   "metadata": {},
   "outputs": [],
   "source": [
    "#First & Last 2 entries by Week/Year\n",
    "bb100['WeekID'] = pd.to_datetime(bb100['WeekID'])"
   ]
  },
  {
   "cell_type": "code",
   "execution_count": 4,
   "id": "cb1dc060",
   "metadata": {},
   "outputs": [],
   "source": [
    "#Features\n",
    "features = pd.read_excel('Hot 100 Audio Features.xlsx')"
   ]
  },
  {
   "cell_type": "code",
   "execution_count": 5,
   "id": "8ee0d493",
   "metadata": {},
   "outputs": [
    {
     "data": {
      "text/html": [
       "<div>\n",
       "<style scoped>\n",
       "    .dataframe tbody tr th:only-of-type {\n",
       "        vertical-align: middle;\n",
       "    }\n",
       "\n",
       "    .dataframe tbody tr th {\n",
       "        vertical-align: top;\n",
       "    }\n",
       "\n",
       "    .dataframe thead th {\n",
       "        text-align: right;\n",
       "    }\n",
       "</style>\n",
       "<table border=\"1\" class=\"dataframe\">\n",
       "  <thead>\n",
       "    <tr style=\"text-align: right;\">\n",
       "      <th></th>\n",
       "      <th>url</th>\n",
       "      <th>WeekID</th>\n",
       "      <th>Week Position</th>\n",
       "      <th>Song</th>\n",
       "      <th>Performer</th>\n",
       "      <th>SongID</th>\n",
       "      <th>Instance</th>\n",
       "      <th>Previous Week Position</th>\n",
       "      <th>Peak Position</th>\n",
       "      <th>Weeks on Chart</th>\n",
       "    </tr>\n",
       "  </thead>\n",
       "  <tbody>\n",
       "    <tr>\n",
       "      <th>944</th>\n",
       "      <td>http://www.billboard.com/charts/hot-100/1958-08-02</td>\n",
       "      <td>1958-08-02</td>\n",
       "      <td>1</td>\n",
       "      <td>Poor Little Fool</td>\n",
       "      <td>Ricky Nelson</td>\n",
       "      <td>Poor Little FoolRicky Nelson</td>\n",
       "      <td>1</td>\n",
       "      <td>NaN</td>\n",
       "      <td>1</td>\n",
       "      <td>1</td>\n",
       "    </tr>\n",
       "    <tr>\n",
       "      <th>22342</th>\n",
       "      <td>http://www.billboard.com/charts/hot-100/1958-08-09</td>\n",
       "      <td>1958-08-09</td>\n",
       "      <td>1</td>\n",
       "      <td>Poor Little Fool</td>\n",
       "      <td>Ricky Nelson</td>\n",
       "      <td>Poor Little FoolRicky Nelson</td>\n",
       "      <td>1</td>\n",
       "      <td>1.0</td>\n",
       "      <td>1</td>\n",
       "      <td>2</td>\n",
       "    </tr>\n",
       "    <tr>\n",
       "      <th>232960</th>\n",
       "      <td>https://www.billboard.com/charts/hot-100/2021-05-22</td>\n",
       "      <td>2021-05-22</td>\n",
       "      <td>1</td>\n",
       "      <td>Leave The Door Open</td>\n",
       "      <td>Silk Sonic (Bruno Mars &amp; Anderson .Paak)</td>\n",
       "      <td>Leave The Door OpenSilk Sonic (Bruno Mars &amp; Anderson .Paak)</td>\n",
       "      <td>1</td>\n",
       "      <td>2.0</td>\n",
       "      <td>1</td>\n",
       "      <td>10</td>\n",
       "    </tr>\n",
       "    <tr>\n",
       "      <th>3522</th>\n",
       "      <td>https://www.billboard.com/charts/hot-100/2021-05-29</td>\n",
       "      <td>2021-05-29</td>\n",
       "      <td>1</td>\n",
       "      <td>Good 4 U</td>\n",
       "      <td>Olivia Rodrigo</td>\n",
       "      <td>Good 4 UOlivia Rodrigo</td>\n",
       "      <td>1</td>\n",
       "      <td>NaN</td>\n",
       "      <td>1</td>\n",
       "      <td>1</td>\n",
       "    </tr>\n",
       "  </tbody>\n",
       "</table>\n",
       "</div>"
      ],
      "text/plain": [
       "                                                        url     WeekID  \\\n",
       "944      http://www.billboard.com/charts/hot-100/1958-08-02 1958-08-02   \n",
       "22342    http://www.billboard.com/charts/hot-100/1958-08-09 1958-08-09   \n",
       "232960  https://www.billboard.com/charts/hot-100/2021-05-22 2021-05-22   \n",
       "3522    https://www.billboard.com/charts/hot-100/2021-05-29 2021-05-29   \n",
       "\n",
       "        Week Position                 Song  \\\n",
       "944                 1     Poor Little Fool   \n",
       "22342               1     Poor Little Fool   \n",
       "232960              1  Leave The Door Open   \n",
       "3522                1             Good 4 U   \n",
       "\n",
       "                                       Performer  \\\n",
       "944                                 Ricky Nelson   \n",
       "22342                               Ricky Nelson   \n",
       "232960  Silk Sonic (Bruno Mars & Anderson .Paak)   \n",
       "3522                              Olivia Rodrigo   \n",
       "\n",
       "                                                             SongID  Instance  \\\n",
       "944                                    Poor Little FoolRicky Nelson         1   \n",
       "22342                                  Poor Little FoolRicky Nelson         1   \n",
       "232960  Leave The Door OpenSilk Sonic (Bruno Mars & Anderson .Paak)         1   \n",
       "3522                                         Good 4 UOlivia Rodrigo         1   \n",
       "\n",
       "        Previous Week Position  Peak Position  Weeks on Chart  \n",
       "944                        NaN              1               1  \n",
       "22342                      1.0              1               2  \n",
       "232960                     2.0              1              10  \n",
       "3522                       NaN              1               1  "
      ]
     },
     "execution_count": 5,
     "metadata": {},
     "output_type": "execute_result"
    }
   ],
   "source": [
    "#Billboard Top #1 By Week from 1958 to 2021\n",
    "bb1 = bb100[bb100['Week Position']==1].copy()\n",
    "bb1.sort_values(by='WeekID').iloc[np.r_[0:2, -2:0]]"
   ]
  },
  {
   "cell_type": "code",
   "execution_count": null,
   "id": "cec222a8",
   "metadata": {},
   "outputs": [],
   "source": []
  },
  {
   "cell_type": "code",
   "execution_count": 6,
   "id": "1cc31d8c",
   "metadata": {},
   "outputs": [
    {
     "data": {
      "text/plain": [
       "3279"
      ]
     },
     "execution_count": 6,
     "metadata": {},
     "output_type": "execute_result"
    }
   ],
   "source": [
    "len(bb1)"
   ]
  },
  {
   "cell_type": "code",
   "execution_count": 9,
   "id": "85c77879",
   "metadata": {},
   "outputs": [
    {
     "data": {
      "text/plain": [
       "163949"
      ]
     },
     "execution_count": 9,
     "metadata": {},
     "output_type": "execute_result"
    }
   ],
   "source": [
    "bb_top_50 = bb100[bb100['Week Position']<=50].copy()\n",
    "len(bb_top_50)"
   ]
  },
  {
   "cell_type": "code",
   "execution_count": 11,
   "id": "e868fd2a",
   "metadata": {},
   "outputs": [
    {
     "data": {
      "text/plain": [
       "163946"
      ]
     },
     "execution_count": 11,
     "metadata": {},
     "output_type": "execute_result"
    }
   ],
   "source": [
    "bb_bot_50 = bb100[bb100['Week Position']>50].copy()\n",
    "len(bb_bot_50)"
   ]
  },
  {
   "cell_type": "code",
   "execution_count": null,
   "id": "0a94f9ce",
   "metadata": {},
   "outputs": [],
   "source": [
    "# What about songs which were at times in bottom 50 that moved to top 50? This analysis\n",
    "# does not address that. "
   ]
  },
  {
   "cell_type": "code",
   "execution_count": null,
   "id": "891ffe0a",
   "metadata": {},
   "outputs": [],
   "source": []
  },
  {
   "cell_type": "code",
   "execution_count": null,
   "id": "6067212b",
   "metadata": {},
   "outputs": [],
   "source": []
  },
  {
   "cell_type": "code",
   "execution_count": null,
   "id": "17e74a77",
   "metadata": {},
   "outputs": [],
   "source": []
  }
 ],
 "metadata": {
  "hide_input": false,
  "kernelspec": {
   "display_name": "Python 3 (ipykernel)",
   "language": "python",
   "name": "python3"
  },
  "language_info": {
   "codemirror_mode": {
    "name": "ipython",
    "version": 3
   },
   "file_extension": ".py",
   "mimetype": "text/x-python",
   "name": "python",
   "nbconvert_exporter": "python",
   "pygments_lexer": "ipython3",
   "version": "3.8.8"
  },
  "varInspector": {
   "cols": {
    "lenName": 16,
    "lenType": 16,
    "lenVar": 40
   },
   "kernels_config": {
    "python": {
     "delete_cmd_postfix": "",
     "delete_cmd_prefix": "del ",
     "library": "var_list.py",
     "varRefreshCmd": "print(var_dic_list())"
    },
    "r": {
     "delete_cmd_postfix": ") ",
     "delete_cmd_prefix": "rm(",
     "library": "var_list.r",
     "varRefreshCmd": "cat(var_dic_list()) "
    }
   },
   "types_to_exclude": [
    "module",
    "function",
    "builtin_function_or_method",
    "instance",
    "_Feature"
   ],
   "window_display": false
  }
 },
 "nbformat": 4,
 "nbformat_minor": 5
}
