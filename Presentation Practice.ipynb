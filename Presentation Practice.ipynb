{
 "cells": [
  {
   "cell_type": "code",
   "execution_count": 3,
   "id": "33a1e7c8",
   "metadata": {
    "hide_input": false,
    "slideshow": {
     "slide_type": "skip"
    }
   },
   "outputs": [],
   "source": [
    "import pandas as pd\n",
    "import numpy as np\n",
    "import seaborn as sns\n",
    "import matplotlib.pyplot as plt\n",
    "import plotly.express as px\n",
    "import matplotlib.ticker as ticker\n",
    "from IPython.display import Audio\n",
    "from sklearn import datasets, linear_model\n",
    "from sklearn.decomposition import PCA\n",
    "from sklearn.preprocessing import MinMaxScaler\n",
    "from sklearn.manifold import TSNE\n",
    "\n",
    "pd.set_option('display.max_columns', 50)\n",
    "pd.set_option('display.max_colwidth', 200)"
   ]
  },
  {
   "cell_type": "code",
   "execution_count": 4,
   "id": "f8f9ce11",
   "metadata": {
    "slideshow": {
     "slide_type": "skip"
    }
   },
   "outputs": [],
   "source": [
    "#Billboard Top 100 By Week from 1958 to 2021\n",
    "bb100 = pd.read_csv('Hot Stuff.csv')"
   ]
  },
  {
   "cell_type": "code",
   "execution_count": 5,
   "id": "67656fa3",
   "metadata": {
    "slideshow": {
     "slide_type": "skip"
    }
   },
   "outputs": [
    {
     "data": {
      "text/plain": [
       "url                        3279\n",
       "WeekID                     3279\n",
       "Week Position               100\n",
       "Song                      24360\n",
       "Performer                 10061\n",
       "SongID                    29389\n",
       "Instance                     10\n",
       "Previous Week Position      100\n",
       "Peak Position               100\n",
       "Weeks on Chart               87\n",
       "dtype: int64"
      ]
     },
     "execution_count": 5,
     "metadata": {},
     "output_type": "execute_result"
    }
   ],
   "source": [
    "bb100.apply(pd.Series.nunique)"
   ]
  },
  {
   "cell_type": "code",
   "execution_count": 6,
   "id": "f1c57a7b",
   "metadata": {
    "slideshow": {
     "slide_type": "skip"
    }
   },
   "outputs": [
    {
     "data": {
      "text/plain": [
       "3279"
      ]
     },
     "execution_count": 6,
     "metadata": {},
     "output_type": "execute_result"
    }
   ],
   "source": [
    "#Number of Weeks in the Billboard Top 100 Dataset from 1958 to 2021\n",
    "bb100.apply(pd.Series.nunique)[0]"
   ]
  },
  {
   "cell_type": "code",
   "execution_count": 7,
   "id": "8599de1d",
   "metadata": {
    "slideshow": {
     "slide_type": "skip"
    }
   },
   "outputs": [],
   "source": [
    "#First & Last 2 entries by Week/Year\n",
    "bb100['WeekID'] = pd.to_datetime(bb100['WeekID'])"
   ]
  },
  {
   "cell_type": "code",
   "execution_count": 8,
   "id": "7a2bbdd7",
   "metadata": {
    "slideshow": {
     "slide_type": "skip"
    }
   },
   "outputs": [
    {
     "data": {
      "text/html": [
       "<div>\n",
       "<style scoped>\n",
       "    .dataframe tbody tr th:only-of-type {\n",
       "        vertical-align: middle;\n",
       "    }\n",
       "\n",
       "    .dataframe tbody tr th {\n",
       "        vertical-align: top;\n",
       "    }\n",
       "\n",
       "    .dataframe thead th {\n",
       "        text-align: right;\n",
       "    }\n",
       "</style>\n",
       "<table border=\"1\" class=\"dataframe\">\n",
       "  <thead>\n",
       "    <tr style=\"text-align: right;\">\n",
       "      <th></th>\n",
       "      <th>url</th>\n",
       "      <th>WeekID</th>\n",
       "      <th>Week Position</th>\n",
       "      <th>Song</th>\n",
       "      <th>Performer</th>\n",
       "      <th>SongID</th>\n",
       "      <th>Instance</th>\n",
       "      <th>Previous Week Position</th>\n",
       "      <th>Peak Position</th>\n",
       "      <th>Weeks on Chart</th>\n",
       "    </tr>\n",
       "  </thead>\n",
       "  <tbody>\n",
       "    <tr>\n",
       "      <th>944</th>\n",
       "      <td>http://www.billboard.com/charts/hot-100/1958-08-02</td>\n",
       "      <td>1958-08-02</td>\n",
       "      <td>1</td>\n",
       "      <td>Poor Little Fool</td>\n",
       "      <td>Ricky Nelson</td>\n",
       "      <td>Poor Little FoolRicky Nelson</td>\n",
       "      <td>1</td>\n",
       "      <td>NaN</td>\n",
       "      <td>1</td>\n",
       "      <td>1</td>\n",
       "    </tr>\n",
       "    <tr>\n",
       "      <th>22342</th>\n",
       "      <td>http://www.billboard.com/charts/hot-100/1958-08-09</td>\n",
       "      <td>1958-08-09</td>\n",
       "      <td>1</td>\n",
       "      <td>Poor Little Fool</td>\n",
       "      <td>Ricky Nelson</td>\n",
       "      <td>Poor Little FoolRicky Nelson</td>\n",
       "      <td>1</td>\n",
       "      <td>1.0</td>\n",
       "      <td>1</td>\n",
       "      <td>2</td>\n",
       "    </tr>\n",
       "    <tr>\n",
       "      <th>232960</th>\n",
       "      <td>https://www.billboard.com/charts/hot-100/2021-05-22</td>\n",
       "      <td>2021-05-22</td>\n",
       "      <td>1</td>\n",
       "      <td>Leave The Door Open</td>\n",
       "      <td>Silk Sonic (Bruno Mars &amp; Anderson .Paak)</td>\n",
       "      <td>Leave The Door OpenSilk Sonic (Bruno Mars &amp; Anderson .Paak)</td>\n",
       "      <td>1</td>\n",
       "      <td>2.0</td>\n",
       "      <td>1</td>\n",
       "      <td>10</td>\n",
       "    </tr>\n",
       "    <tr>\n",
       "      <th>3522</th>\n",
       "      <td>https://www.billboard.com/charts/hot-100/2021-05-29</td>\n",
       "      <td>2021-05-29</td>\n",
       "      <td>1</td>\n",
       "      <td>Good 4 U</td>\n",
       "      <td>Olivia Rodrigo</td>\n",
       "      <td>Good 4 UOlivia Rodrigo</td>\n",
       "      <td>1</td>\n",
       "      <td>NaN</td>\n",
       "      <td>1</td>\n",
       "      <td>1</td>\n",
       "    </tr>\n",
       "  </tbody>\n",
       "</table>\n",
       "</div>"
      ],
      "text/plain": [
       "                                                        url     WeekID  \\\n",
       "944      http://www.billboard.com/charts/hot-100/1958-08-02 1958-08-02   \n",
       "22342    http://www.billboard.com/charts/hot-100/1958-08-09 1958-08-09   \n",
       "232960  https://www.billboard.com/charts/hot-100/2021-05-22 2021-05-22   \n",
       "3522    https://www.billboard.com/charts/hot-100/2021-05-29 2021-05-29   \n",
       "\n",
       "        Week Position                 Song  \\\n",
       "944                 1     Poor Little Fool   \n",
       "22342               1     Poor Little Fool   \n",
       "232960              1  Leave The Door Open   \n",
       "3522                1             Good 4 U   \n",
       "\n",
       "                                       Performer  \\\n",
       "944                                 Ricky Nelson   \n",
       "22342                               Ricky Nelson   \n",
       "232960  Silk Sonic (Bruno Mars & Anderson .Paak)   \n",
       "3522                              Olivia Rodrigo   \n",
       "\n",
       "                                                             SongID  Instance  \\\n",
       "944                                    Poor Little FoolRicky Nelson         1   \n",
       "22342                                  Poor Little FoolRicky Nelson         1   \n",
       "232960  Leave The Door OpenSilk Sonic (Bruno Mars & Anderson .Paak)         1   \n",
       "3522                                         Good 4 UOlivia Rodrigo         1   \n",
       "\n",
       "        Previous Week Position  Peak Position  Weeks on Chart  \n",
       "944                        NaN              1               1  \n",
       "22342                      1.0              1               2  \n",
       "232960                     2.0              1              10  \n",
       "3522                       NaN              1               1  "
      ]
     },
     "execution_count": 8,
     "metadata": {},
     "output_type": "execute_result"
    }
   ],
   "source": [
    "#Billboard Top #1 By Week from 1958 to 2021\n",
    "bb1 = bb100[bb100['Week Position']==1].copy()\n",
    "bb1.sort_values(by='WeekID').iloc[np.r_[0:2, -2:0]]"
   ]
  },
  {
   "cell_type": "code",
   "execution_count": null,
   "id": "4fed89ec",
   "metadata": {
    "slideshow": {
     "slide_type": "skip"
    }
   },
   "outputs": [],
   "source": []
  },
  {
   "cell_type": "code",
   "execution_count": 9,
   "id": "d7657ba2",
   "metadata": {
    "slideshow": {
     "slide_type": "slide"
    }
   },
   "outputs": [
    {
     "data": {
      "text/html": [
       "<div>\n",
       "<style scoped>\n",
       "    .dataframe tbody tr th:only-of-type {\n",
       "        vertical-align: middle;\n",
       "    }\n",
       "\n",
       "    .dataframe tbody tr th {\n",
       "        vertical-align: top;\n",
       "    }\n",
       "\n",
       "    .dataframe thead th {\n",
       "        text-align: right;\n",
       "    }\n",
       "</style>\n",
       "<table border=\"1\" class=\"dataframe\">\n",
       "  <thead>\n",
       "    <tr style=\"text-align: right;\">\n",
       "      <th></th>\n",
       "      <th>SongID</th>\n",
       "      <th>Count</th>\n",
       "    </tr>\n",
       "  </thead>\n",
       "  <tbody>\n",
       "    <tr>\n",
       "      <th>0</th>\n",
       "      <td>Old Town RoadLil Nas X Featuring Billy Ray Cyrus</td>\n",
       "      <td>19</td>\n",
       "    </tr>\n",
       "    <tr>\n",
       "      <th>1</th>\n",
       "      <td>One Sweet DayMariah Carey &amp; Boyz II Men</td>\n",
       "      <td>16</td>\n",
       "    </tr>\n",
       "    <tr>\n",
       "      <th>2</th>\n",
       "      <td>DespacitoLuis Fonsi &amp; Daddy Yankee Featuring Justin Bieber</td>\n",
       "      <td>16</td>\n",
       "    </tr>\n",
       "    <tr>\n",
       "      <th>3</th>\n",
       "      <td>I Gotta FeelingThe Black Eyed Peas</td>\n",
       "      <td>14</td>\n",
       "    </tr>\n",
       "    <tr>\n",
       "      <th>4</th>\n",
       "      <td>We Belong TogetherMariah Carey</td>\n",
       "      <td>14</td>\n",
       "    </tr>\n",
       "    <tr>\n",
       "      <th>5</th>\n",
       "      <td>Candle In The Wind 1997/Something About The Way You Look TonightElton John</td>\n",
       "      <td>14</td>\n",
       "    </tr>\n",
       "    <tr>\n",
       "      <th>6</th>\n",
       "      <td>Macarena (Bayside Boys Mix)Los Del Rio</td>\n",
       "      <td>14</td>\n",
       "    </tr>\n",
       "    <tr>\n",
       "      <th>7</th>\n",
       "      <td>I'll Make Love To YouBoyz II Men</td>\n",
       "      <td>14</td>\n",
       "    </tr>\n",
       "    <tr>\n",
       "      <th>8</th>\n",
       "      <td>I Will Always Love YouWhitney Houston</td>\n",
       "      <td>14</td>\n",
       "    </tr>\n",
       "    <tr>\n",
       "      <th>9</th>\n",
       "      <td>Uptown Funk!Mark Ronson Featuring Bruno Mars</td>\n",
       "      <td>14</td>\n",
       "    </tr>\n",
       "    <tr>\n",
       "      <th>10</th>\n",
       "      <td>End Of The Road (From \"Boomerang\")Boyz II Men</td>\n",
       "      <td>13</td>\n",
       "    </tr>\n",
       "    <tr>\n",
       "      <th>11</th>\n",
       "      <td>The Boy Is MineBrandy &amp; Monica</td>\n",
       "      <td>13</td>\n",
       "    </tr>\n",
       "    <tr>\n",
       "      <th>12</th>\n",
       "      <td>Shape Of YouEd Sheeran</td>\n",
       "      <td>12</td>\n",
       "    </tr>\n",
       "    <tr>\n",
       "      <th>13</th>\n",
       "      <td>Boom Boom PowThe Black Eyed Peas</td>\n",
       "      <td>12</td>\n",
       "    </tr>\n",
       "    <tr>\n",
       "      <th>14</th>\n",
       "      <td>CloserThe Chainsmokers Featuring Halsey</td>\n",
       "      <td>12</td>\n",
       "    </tr>\n",
       "    <tr>\n",
       "      <th>1119</th>\n",
       "      <td>StayMaurice Williams &amp; The Zodiacs</td>\n",
       "      <td>1</td>\n",
       "    </tr>\n",
       "    <tr>\n",
       "      <th>1120</th>\n",
       "      <td>Can't Get Enough Of Your Love, BabeBarry White</td>\n",
       "      <td>1</td>\n",
       "    </tr>\n",
       "    <tr>\n",
       "      <th>1121</th>\n",
       "      <td>Papa Was A Rollin' StoneThe Temptations</td>\n",
       "      <td>1</td>\n",
       "    </tr>\n",
       "    <tr>\n",
       "      <th>1122</th>\n",
       "      <td>Suspicious MindsElvis Presley</td>\n",
       "      <td>1</td>\n",
       "    </tr>\n",
       "    <tr>\n",
       "      <th>1123</th>\n",
       "      <td>I Like The Way (The Kissing Game)Hi-Five</td>\n",
       "      <td>1</td>\n",
       "    </tr>\n",
       "  </tbody>\n",
       "</table>\n",
       "</div>"
      ],
      "text/plain": [
       "                                                                          SongID  \\\n",
       "0                               Old Town RoadLil Nas X Featuring Billy Ray Cyrus   \n",
       "1                                        One Sweet DayMariah Carey & Boyz II Men   \n",
       "2                     DespacitoLuis Fonsi & Daddy Yankee Featuring Justin Bieber   \n",
       "3                                             I Gotta FeelingThe Black Eyed Peas   \n",
       "4                                                 We Belong TogetherMariah Carey   \n",
       "5     Candle In The Wind 1997/Something About The Way You Look TonightElton John   \n",
       "6                                         Macarena (Bayside Boys Mix)Los Del Rio   \n",
       "7                                               I'll Make Love To YouBoyz II Men   \n",
       "8                                          I Will Always Love YouWhitney Houston   \n",
       "9                                   Uptown Funk!Mark Ronson Featuring Bruno Mars   \n",
       "10                                 End Of The Road (From \"Boomerang\")Boyz II Men   \n",
       "11                                                The Boy Is MineBrandy & Monica   \n",
       "12                                                        Shape Of YouEd Sheeran   \n",
       "13                                              Boom Boom PowThe Black Eyed Peas   \n",
       "14                                       CloserThe Chainsmokers Featuring Halsey   \n",
       "1119                                          StayMaurice Williams & The Zodiacs   \n",
       "1120                              Can't Get Enough Of Your Love, BabeBarry White   \n",
       "1121                                     Papa Was A Rollin' StoneThe Temptations   \n",
       "1122                                               Suspicious MindsElvis Presley   \n",
       "1123                                    I Like The Way (The Kissing Game)Hi-Five   \n",
       "\n",
       "      Count  \n",
       "0        19  \n",
       "1        16  \n",
       "2        16  \n",
       "3        14  \n",
       "4        14  \n",
       "5        14  \n",
       "6        14  \n",
       "7        14  \n",
       "8        14  \n",
       "9        14  \n",
       "10       13  \n",
       "11       13  \n",
       "12       12  \n",
       "13       12  \n",
       "14       12  \n",
       "1119      1  \n",
       "1120      1  \n",
       "1121      1  \n",
       "1122      1  \n",
       "1123      1  "
      ]
     },
     "execution_count": 9,
     "metadata": {},
     "output_type": "execute_result"
    }
   ],
   "source": [
    "bb1_counter = bb1['SongID'].value_counts().rename('Count').to_frame().reset_index()\n",
    "bb1_counter = bb1_counter.rename(columns = {'index':'SongID'})\n",
    "bb1_counter.iloc[np.r_[0:15, -5:0]]"
   ]
  },
  {
   "cell_type": "code",
   "execution_count": 11,
   "id": "89a0cd3e",
   "metadata": {
    "hide_input": false,
    "slideshow": {
     "slide_type": "slide"
    }
   },
   "outputs": [
    {
     "data": {
      "text/html": [
       "<div>\n",
       "<style scoped>\n",
       "    .dataframe tbody tr th:only-of-type {\n",
       "        vertical-align: middle;\n",
       "    }\n",
       "\n",
       "    .dataframe tbody tr th {\n",
       "        vertical-align: top;\n",
       "    }\n",
       "\n",
       "    .dataframe thead th {\n",
       "        text-align: right;\n",
       "    }\n",
       "</style>\n",
       "<table border=\"1\" class=\"dataframe\">\n",
       "  <thead>\n",
       "    <tr style=\"text-align: right;\">\n",
       "      <th></th>\n",
       "      <th>SongID</th>\n",
       "      <th>Count</th>\n",
       "    </tr>\n",
       "  </thead>\n",
       "  <tbody>\n",
       "    <tr>\n",
       "      <th>0</th>\n",
       "      <td>Old Town RoadLil Nas X Featuring Billy Ray Cyrus</td>\n",
       "      <td>19</td>\n",
       "    </tr>\n",
       "    <tr>\n",
       "      <th>1</th>\n",
       "      <td>One Sweet DayMariah Carey &amp; Boyz II Men</td>\n",
       "      <td>16</td>\n",
       "    </tr>\n",
       "    <tr>\n",
       "      <th>2</th>\n",
       "      <td>DespacitoLuis Fonsi &amp; Daddy Yankee Featuring Justin Bieber</td>\n",
       "      <td>16</td>\n",
       "    </tr>\n",
       "    <tr>\n",
       "      <th>3</th>\n",
       "      <td>I Gotta FeelingThe Black Eyed Peas</td>\n",
       "      <td>14</td>\n",
       "    </tr>\n",
       "    <tr>\n",
       "      <th>4</th>\n",
       "      <td>We Belong TogetherMariah Carey</td>\n",
       "      <td>14</td>\n",
       "    </tr>\n",
       "    <tr>\n",
       "      <th>5</th>\n",
       "      <td>Candle In The Wind 1997/Something About The Way You Look TonightElton John</td>\n",
       "      <td>14</td>\n",
       "    </tr>\n",
       "    <tr>\n",
       "      <th>6</th>\n",
       "      <td>Macarena (Bayside Boys Mix)Los Del Rio</td>\n",
       "      <td>14</td>\n",
       "    </tr>\n",
       "    <tr>\n",
       "      <th>7</th>\n",
       "      <td>I'll Make Love To YouBoyz II Men</td>\n",
       "      <td>14</td>\n",
       "    </tr>\n",
       "    <tr>\n",
       "      <th>8</th>\n",
       "      <td>I Will Always Love YouWhitney Houston</td>\n",
       "      <td>14</td>\n",
       "    </tr>\n",
       "    <tr>\n",
       "      <th>9</th>\n",
       "      <td>Uptown Funk!Mark Ronson Featuring Bruno Mars</td>\n",
       "      <td>14</td>\n",
       "    </tr>\n",
       "    <tr>\n",
       "      <th>10</th>\n",
       "      <td>End Of The Road (From \"Boomerang\")Boyz II Men</td>\n",
       "      <td>13</td>\n",
       "    </tr>\n",
       "    <tr>\n",
       "      <th>11</th>\n",
       "      <td>The Boy Is MineBrandy &amp; Monica</td>\n",
       "      <td>13</td>\n",
       "    </tr>\n",
       "    <tr>\n",
       "      <th>12</th>\n",
       "      <td>Shape Of YouEd Sheeran</td>\n",
       "      <td>12</td>\n",
       "    </tr>\n",
       "    <tr>\n",
       "      <th>13</th>\n",
       "      <td>Boom Boom PowThe Black Eyed Peas</td>\n",
       "      <td>12</td>\n",
       "    </tr>\n",
       "    <tr>\n",
       "      <th>14</th>\n",
       "      <td>CloserThe Chainsmokers Featuring Halsey</td>\n",
       "      <td>12</td>\n",
       "    </tr>\n",
       "    <tr>\n",
       "      <th>1119</th>\n",
       "      <td>StayMaurice Williams &amp; The Zodiacs</td>\n",
       "      <td>1</td>\n",
       "    </tr>\n",
       "    <tr>\n",
       "      <th>1120</th>\n",
       "      <td>Can't Get Enough Of Your Love, BabeBarry White</td>\n",
       "      <td>1</td>\n",
       "    </tr>\n",
       "    <tr>\n",
       "      <th>1121</th>\n",
       "      <td>Papa Was A Rollin' StoneThe Temptations</td>\n",
       "      <td>1</td>\n",
       "    </tr>\n",
       "    <tr>\n",
       "      <th>1122</th>\n",
       "      <td>Suspicious MindsElvis Presley</td>\n",
       "      <td>1</td>\n",
       "    </tr>\n",
       "    <tr>\n",
       "      <th>1123</th>\n",
       "      <td>I Like The Way (The Kissing Game)Hi-Five</td>\n",
       "      <td>1</td>\n",
       "    </tr>\n",
       "  </tbody>\n",
       "</table>\n",
       "</div>"
      ],
      "text/plain": [
       "                                                                          SongID  \\\n",
       "0                               Old Town RoadLil Nas X Featuring Billy Ray Cyrus   \n",
       "1                                        One Sweet DayMariah Carey & Boyz II Men   \n",
       "2                     DespacitoLuis Fonsi & Daddy Yankee Featuring Justin Bieber   \n",
       "3                                             I Gotta FeelingThe Black Eyed Peas   \n",
       "4                                                 We Belong TogetherMariah Carey   \n",
       "5     Candle In The Wind 1997/Something About The Way You Look TonightElton John   \n",
       "6                                         Macarena (Bayside Boys Mix)Los Del Rio   \n",
       "7                                               I'll Make Love To YouBoyz II Men   \n",
       "8                                          I Will Always Love YouWhitney Houston   \n",
       "9                                   Uptown Funk!Mark Ronson Featuring Bruno Mars   \n",
       "10                                 End Of The Road (From \"Boomerang\")Boyz II Men   \n",
       "11                                                The Boy Is MineBrandy & Monica   \n",
       "12                                                        Shape Of YouEd Sheeran   \n",
       "13                                              Boom Boom PowThe Black Eyed Peas   \n",
       "14                                       CloserThe Chainsmokers Featuring Halsey   \n",
       "1119                                          StayMaurice Williams & The Zodiacs   \n",
       "1120                              Can't Get Enough Of Your Love, BabeBarry White   \n",
       "1121                                     Papa Was A Rollin' StoneThe Temptations   \n",
       "1122                                               Suspicious MindsElvis Presley   \n",
       "1123                                    I Like The Way (The Kissing Game)Hi-Five   \n",
       "\n",
       "      Count  \n",
       "0        19  \n",
       "1        16  \n",
       "2        16  \n",
       "3        14  \n",
       "4        14  \n",
       "5        14  \n",
       "6        14  \n",
       "7        14  \n",
       "8        14  \n",
       "9        14  \n",
       "10       13  \n",
       "11       13  \n",
       "12       12  \n",
       "13       12  \n",
       "14       12  \n",
       "1119      1  \n",
       "1120      1  \n",
       "1121      1  \n",
       "1122      1  \n",
       "1123      1  "
      ]
     },
     "execution_count": 11,
     "metadata": {},
     "output_type": "execute_result"
    }
   ],
   "source": [
    "bb1_counter = bb1['SongID'].value_counts().rename('Count').to_frame().reset_index()\n",
    "bb1_counter = bb1_counter.rename(columns = {'index':'SongID'})\n",
    "bb1_counter.iloc[np.r_[0:15, -5:0]]"
   ]
  },
  {
   "cell_type": "code",
   "execution_count": 12,
   "id": "3cfac689",
   "metadata": {
    "hide_input": false,
    "slideshow": {
     "slide_type": "slide"
    }
   },
   "outputs": [
    {
     "data": {
      "image/png": "[encoded data removed]",
      "text/plain": [
       "<Figure size 734.4x432 with 1 Axes>"
      ]
     },
     "metadata": {
      "needs_background": "light"
     },
     "output_type": "display_data"
    }
   ],
   "source": [
    "sns.displot(x=bb1_counter['Count'], bins=21, height=6, aspect=1.7)\n",
    "plt.xlabel('Total Weeks', fontsize=15)\n",
    "plt.ylabel('Number Of Songs', fontsize=15)\n",
    "plt.title('Number Of Weeks in #1 Spot', fontsize=20)\n",
    "plt.xticks(np.arange(0,20,1));"
   ]
  },
  {
   "cell_type": "code",
   "execution_count": null,
   "id": "7cd126cd",
   "metadata": {
    "slideshow": {
     "slide_type": "skip"
    }
   },
   "outputs": [],
   "source": []
  },
  {
   "cell_type": "code",
   "execution_count": null,
   "id": "badab278",
   "metadata": {
    "slideshow": {
     "slide_type": "skip"
    }
   },
   "outputs": [],
   "source": []
  }
 ],
 "metadata": {
  "celltoolbar": "Slideshow",
  "hide_input": false,
  "kernelspec": {
   "display_name": "Python 3 (ipykernel)",
   "language": "python",
   "name": "python3"
  },
  "language_info": {
   "codemirror_mode": {
    "name": "ipython",
    "version": 3
   },
   "file_extension": ".py",
   "mimetype": "text/x-python",
   "name": "python",
   "nbconvert_exporter": "python",
   "pygments_lexer": "ipython3",
   "version": "3.8.8"
  },
  "varInspector": {
   "cols": {
    "lenName": 16,
    "lenType": 16,
    "lenVar": 40
   },
   "kernels_config": {
    "python": {
     "delete_cmd_postfix": "",
     "delete_cmd_prefix": "del ",
     "library": "var_list.py",
     "varRefreshCmd": "print(var_dic_list())"
    },
    "r": {
     "delete_cmd_postfix": ") ",
     "delete_cmd_prefix": "rm(",
     "library": "var_list.r",
     "varRefreshCmd": "cat(var_dic_list()) "
    }
   },
   "types_to_exclude": [
    "module",
    "function",
    "builtin_function_or_method",
    "instance",
    "_Feature"
   ],
   "window_display": false
  }
 },
 "nbformat": 4,
 "nbformat_minor": 5
}
